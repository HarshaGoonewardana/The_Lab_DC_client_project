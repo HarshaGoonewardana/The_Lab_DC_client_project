{
 "cells": [
  {
   "cell_type": "markdown",
   "metadata": {},
   "source": [
    "# Client Project: The Lab @ DC"
   ]
  },
  {
   "cell_type": "markdown",
   "metadata": {},
   "source": [
    "## Project Title: {here}"
   ]
  },
  {
   "cell_type": "markdown",
   "metadata": {},
   "source": [
    "### Authors: {names}\n",
    "- Cohorts of the Data Science Immersive, General Assembly @ Washington DC campus"
   ]
  },
  {
   "cell_type": "markdown",
   "metadata": {},
   "source": [
    "In this notebook, we pull the raw data from Open Data DC and the Metropolitan Police Department (MPD) and transform and clean them for our analysis. **This is notebook 1 of 3.**"
   ]
  },
  {
   "cell_type": "markdown",
   "metadata": {},
   "source": [
    "### Import Libraries"
   ]
  },
  {
   "cell_type": "code",
   "execution_count": 36,
   "metadata": {},
   "outputs": [],
   "source": [
    "# import basic libraries\n",
    "\n",
    "import pandas as pd\n",
    "import numpy as np\n",
    "import matplotlib.pyplot as plt\n",
    "\n",
    "%matplotlib inline"
   ]
  },
  {
   "cell_type": "markdown",
   "metadata": {},
   "source": [
    "### Read CSVs\n",
    "##### 1) Source: Open Data DC - City Service Requests datasets\n",
    "- All datasets from Open Data DC are over 100mb, therefore it will not fit in your remote github due to the size limitation. \n",
    "- The following code enables you to download the file from the URLs and save it to your local machine, so that you don't need to fetch it from the web everytime you run the notebook.\n",
    "- **Make sure have `.gitignore` file in your local repo** so that the downloaded `big-size-CSVs` won't push it back to your remote repo. **Please check with the instruction from `README.md`**"
   ]
  },
  {
   "cell_type": "code",
   "execution_count": 37,
   "metadata": {},
   "outputs": [],
   "source": [
    "import os.path\n",
    "\n",
    "# Once you have a dataset in your local machine, it will be loaded it up directly.\n",
    "# if not, download the datasets directly from City Service Requests, OpenData DC(http://opendata.dc.gov/) \n",
    "\n",
    "# City Service Requests 2014 datasets\n",
    "if os.path.isfile('./assets/CSR_2014.csv') == True:\n",
    "    csr_2014 = pd.read_csv('./assets/CSR_2014.csv', low_memory=False)\n",
    "else:\n",
    "    csr_2014 = pd.read_csv('https://opendata.arcgis.com/datasets/17cafb3ffab347409def7e85e14c56bd_5.csv', low_memory=False)\n",
    "    csr_2014.to_csv('./assets/CSR_2014.csv')\n",
    "\n",
    "# City Service Requests 2015 datasets\n",
    "if os.path.isfile('./assets/CSR_2015.csv') == True:\n",
    "    csr_2015 = pd.read_csv('./assets/CSR_2015.csv', low_memory=False)\n",
    "else:\n",
    "    csr_2015 = pd.read_csv('https://opendata.arcgis.com/datasets/b93ec7fc97734265a2da7da341f1bba2_6.csv', low_memory=False)\n",
    "    csr_2015.to_csv('./assets/CSR_2015.csv')\n",
    "\n",
    "# City Service Requests 2016 datasets\n",
    "if os.path.isfile('./assets/CSR_2016.csv') == True:\n",
    "    csr_2016 = pd.read_csv('./assets/CSR_2016.csv', low_memory=False)\n",
    "else:\n",
    "    csr_2016 = pd.read_csv('https://opendata.arcgis.com/datasets/0e4b7d3a83b94a178b3d1f015db901ee_7.csv', low_memory=False)\n",
    "    csr_2016.to_csv('./assets/CSR_2016.csv')\n",
    "\n",
    "# City Service Requests 2017 datasets\n",
    "if os.path.isfile('./assets/CSR_2017.csv') == True:\n",
    "    csr_2017 = pd.read_csv('./assets/CSR_2017.csv', low_memory=False)\n",
    "else:\n",
    "    csr_2017 = pd.read_csv('https://opendata.arcgis.com/datasets/19905e2b0e1140ec9ce8437776feb595_8.csv', low_memory=False)\n",
    "    csr_2017.to_csv('./assets/CSR_2017.csv')\n",
    "\n",
    "# City Service Requests 2018 Q1 datasets\n",
    "if os.path.isfile('./assets/CSR_2018_q1.csv') == True:\n",
    "    csr_2018_q1 = pd.read_csv('./assets/CSR_2018_q1.csv', low_memory=False)\n",
    "else:\n",
    "    csr_2018_q1 = pd.read_csv('https://opendata.arcgis.com/datasets/2a46f1f1aad04940b83e75e744eb3b09_9.csv', low_memory=False)\n",
    "    csr_2018_q1.to_csv('./assets/CSR_2018_q1.csv')"
   ]
  },
  {
   "cell_type": "markdown",
   "metadata": {},
   "source": [
    "##### 2) Source: Metropolitan Police Department - ShotSpotters datasets\n",
    "- https://mpdc.dc.gov/publication/shotspotter-data-disclaimer-and-dictionary\n",
    "- You will find the datasets at `./assets/` folder in the git repo and no need to download it from the web."
   ]
  },
  {
   "cell_type": "code",
   "execution_count": 38,
   "metadata": {},
   "outputs": [],
   "source": [
    "# unmute and run this code below if you have problem `.read_excel` \n",
    "\n",
    "# !pip install xlrd"
   ]
  },
  {
   "cell_type": "code",
   "execution_count": 39,
   "metadata": {},
   "outputs": [],
   "source": [
    "# ShotSpotters datasets from Metropolitan Police Department \n",
    "\n",
    "# Train set: ShotSpotters datasets for 2014 - 2017 \n",
    "shots_train = pd.read_excel('./assets/ShotSpotter Data 14-17 180213_0.xlsx')\n",
    "\n",
    "# Test set: ShotSpotters datasets for 2018 Q1 \n",
    "shots_test = pd.read_excel('./assets/ShotSpotter Public Data Q1 2018.xlsx')"
   ]
  },
  {
   "cell_type": "markdown",
   "metadata": {},
   "source": [
    "### Basic settings with the datasets"
   ]
  },
  {
   "cell_type": "markdown",
   "metadata": {},
   "source": [
    "Name Dataframes"
   ]
  },
  {
   "cell_type": "code",
   "execution_count": 40,
   "metadata": {},
   "outputs": [],
   "source": [
    "csr_2014.name    = 'City Service Requests 2014 data'\n",
    "csr_2015.name    = 'City Service Requests 2015 data'\n",
    "csr_2016.name    = 'City Service Requests 2016 data'\n",
    "csr_2017.name    = 'City Service Requests 2017 data'\n",
    "csr_2018_q1.name = 'City Service Requests 2018 Q1 data'\n",
    "shots_train.name = 'Shot Spotters 2014-2017 data'\n",
    "shots_test.name  = 'Shot Spotters 2018 Q1 data'"
   ]
  },
  {
   "cell_type": "markdown",
   "metadata": {},
   "source": [
    "Make sure that no datasets have `Unnamed: 0` columns in the dataframe."
   ]
  },
  {
   "cell_type": "code",
   "execution_count": 41,
   "metadata": {},
   "outputs": [
    {
     "name": "stdout",
     "output_type": "stream",
     "text": [
      "Dropped unnamed column in City Service Requests 2014 data\n",
      "Dropped unnamed column in City Service Requests 2015 data\n",
      "Dropped unnamed column in City Service Requests 2016 data\n",
      "Dropped unnamed column in City Service Requests 2017 data\n",
      "Dropped unnamed column in City Service Requests 2018 Q1 data\n",
      "No columns dropped in Shot Spotters 2014-2017 data\n",
      "No columns dropped in Shot Spotters 2018 Q1 data\n"
     ]
    }
   ],
   "source": [
    "for df_ in [csr_2014, csr_2015, csr_2016, csr_2017, csr_2018_q1, shots_train, shots_test]:\n",
    "    if df_.columns[0] == \"Unnamed: 0\":\n",
    "        df_.drop(['Unnamed: 0'], axis=1, inplace=True)\n",
    "        print(\"Dropped unnamed column in\", df_.name)\n",
    "    else:\n",
    "        print(\"No columns dropped in\", df_.name)"
   ]
  },
  {
   "cell_type": "markdown",
   "metadata": {},
   "source": [
    "Check the shapes of the datasets"
   ]
  },
  {
   "cell_type": "code",
   "execution_count": 42,
   "metadata": {
    "scrolled": true
   },
   "outputs": [
    {
     "name": "stdout",
     "output_type": "stream",
     "text": [
      "Shape of City Service Requests 2014:     (322469, 30)\n",
      "Shape of City Service Requests 2015:     (295633, 30)\n",
      "Shape of City Service Requests 2016:     (302985, 30)\n",
      "Shape of City Service Requests 2017:     (310146, 30)\n",
      "Shape of City Service Requests 2018 Q1:  (151284, 30)\n",
      "--------------------\n",
      "Shape of Shot Spotters 2014-2017:  (9637, 7)\n",
      "Shape of Shot Spotters 2018 Q1  :  (1072, 7)\n"
     ]
    }
   ],
   "source": [
    "print(\"Shape of City Service Requests 2014:    \", csr_2014.shape)\n",
    "print(\"Shape of City Service Requests 2015:    \", csr_2015.shape)\n",
    "print(\"Shape of City Service Requests 2016:    \", csr_2016.shape)\n",
    "print(\"Shape of City Service Requests 2017:    \", csr_2017.shape)\n",
    "print(\"Shape of City Service Requests 2018 Q1: \", csr_2018_q1.shape)\n",
    "print(\"--------------------\")\n",
    "print(\"Shape of Shot Spotters 2014-2017: \", shots_train.shape)\n",
    "print(\"Shape of Shot Spotters 2018 Q1  : \", shots_test.shape)"
   ]
  },
  {
   "cell_type": "markdown",
   "metadata": {},
   "source": [
    "High likely the City Service Requests datasets are aligned in its columns name, but just make sure to check it."
   ]
  },
  {
   "cell_type": "code",
   "execution_count": 43,
   "metadata": {},
   "outputs": [],
   "source": [
    "csr_2015 = csr_2015[csr_2014.columns]\n",
    "csr_2016 = csr_2016[csr_2015.columns]\n",
    "csr_2017 = csr_2017[csr_2016.columns]\n",
    "csr_2018_q1 = csr_2018_q1[csr_2017.columns]"
   ]
  },
  {
   "cell_type": "code",
   "execution_count": 44,
   "metadata": {},
   "outputs": [
    {
     "name": "stdout",
     "output_type": "stream",
     "text": [
      "(1231233, 30)\n"
     ]
    }
   ],
   "source": [
    "# concat the datasets\n",
    "csr = [csr_2014, csr_2015, csr_2016, csr_2017]\n",
    "\n",
    "csr_train = pd.concat(csr)\n",
    "print(csr_train.shape)"
   ]
  },
  {
   "cell_type": "code",
   "execution_count": 45,
   "metadata": {},
   "outputs": [
    {
     "name": "stdout",
     "output_type": "stream",
     "text": [
      "Index(['ID', 'Type', 'Date', 'Time', 'Source', 'Lat (100)', 'Lon (100)'], dtype='object')\n",
      "Index(['ID', 'Type', 'Date', 'Time', 'Source', 'Lat (100m)', 'Lon (100m)'], dtype='object')\n"
     ]
    }
   ],
   "source": [
    "# check ShotSpotters datasets columns\n",
    "print(shots_train.columns)\n",
    "print(shots_test.columns)"
   ]
  },
  {
   "cell_type": "code",
   "execution_count": 46,
   "metadata": {},
   "outputs": [],
   "source": [
    "# make sure to rename it\n",
    "shots_train = shots_train.rename(columns={'Lat (100)': 'Latitude', 'Lon (100)': 'Longitude'})\n",
    "shots_test = shots_test.rename(columns={'Lat (100m)': 'Latitude', 'Lon (100m)': 'Longitude'})"
   ]
  },
  {
   "cell_type": "markdown",
   "metadata": {},
   "source": [
    "##### Teams, two datasets have different digits in the Lat's and Long's. Will it be matters? "
   ]
  },
  {
   "cell_type": "code",
   "execution_count": 48,
   "metadata": {
    "scrolled": true
   },
   "outputs": [
    {
     "data": {
      "text/html": [
       "<div>\n",
       "<style scoped>\n",
       "    .dataframe tbody tr th:only-of-type {\n",
       "        vertical-align: middle;\n",
       "    }\n",
       "\n",
       "    .dataframe tbody tr th {\n",
       "        vertical-align: top;\n",
       "    }\n",
       "\n",
       "    .dataframe thead th {\n",
       "        text-align: right;\n",
       "    }\n",
       "</style>\n",
       "<table border=\"1\" class=\"dataframe\">\n",
       "  <thead>\n",
       "    <tr style=\"text-align: right;\">\n",
       "      <th></th>\n",
       "      <th>LATITUDE</th>\n",
       "      <th>LONGITUDE</th>\n",
       "    </tr>\n",
       "  </thead>\n",
       "  <tbody>\n",
       "    <tr>\n",
       "      <th>0</th>\n",
       "      <td>38.897950</td>\n",
       "      <td>-76.972732</td>\n",
       "    </tr>\n",
       "    <tr>\n",
       "      <th>1</th>\n",
       "      <td>38.922857</td>\n",
       "      <td>-76.991905</td>\n",
       "    </tr>\n",
       "    <tr>\n",
       "      <th>2</th>\n",
       "      <td>38.874742</td>\n",
       "      <td>-76.970889</td>\n",
       "    </tr>\n",
       "    <tr>\n",
       "      <th>3</th>\n",
       "      <td>38.942811</td>\n",
       "      <td>-77.022676</td>\n",
       "    </tr>\n",
       "    <tr>\n",
       "      <th>4</th>\n",
       "      <td>38.898952</td>\n",
       "      <td>-77.048838</td>\n",
       "    </tr>\n",
       "  </tbody>\n",
       "</table>\n",
       "</div>"
      ],
      "text/plain": [
       "    LATITUDE  LONGITUDE\n",
       "0  38.897950 -76.972732\n",
       "1  38.922857 -76.991905\n",
       "2  38.874742 -76.970889\n",
       "3  38.942811 -77.022676\n",
       "4  38.898952 -77.048838"
      ]
     },
     "execution_count": 48,
     "metadata": {},
     "output_type": "execute_result"
    }
   ],
   "source": [
    "csr_train[['LATITUDE', 'LONGITUDE']].head()"
   ]
  },
  {
   "cell_type": "code",
   "execution_count": 49,
   "metadata": {
    "scrolled": true
   },
   "outputs": [
    {
     "data": {
      "text/html": [
       "<div>\n",
       "<style scoped>\n",
       "    .dataframe tbody tr th:only-of-type {\n",
       "        vertical-align: middle;\n",
       "    }\n",
       "\n",
       "    .dataframe tbody tr th {\n",
       "        vertical-align: top;\n",
       "    }\n",
       "\n",
       "    .dataframe thead th {\n",
       "        text-align: right;\n",
       "    }\n",
       "</style>\n",
       "<table border=\"1\" class=\"dataframe\">\n",
       "  <thead>\n",
       "    <tr style=\"text-align: right;\">\n",
       "      <th></th>\n",
       "      <th>Latitude</th>\n",
       "      <th>Longitude</th>\n",
       "    </tr>\n",
       "  </thead>\n",
       "  <tbody>\n",
       "    <tr>\n",
       "      <th>0</th>\n",
       "      <td>38.917</td>\n",
       "      <td>-77.012</td>\n",
       "    </tr>\n",
       "    <tr>\n",
       "      <th>1</th>\n",
       "      <td>38.917</td>\n",
       "      <td>-77.002</td>\n",
       "    </tr>\n",
       "    <tr>\n",
       "      <th>2</th>\n",
       "      <td>38.917</td>\n",
       "      <td>-76.987</td>\n",
       "    </tr>\n",
       "    <tr>\n",
       "      <th>3</th>\n",
       "      <td>38.823</td>\n",
       "      <td>-77.000</td>\n",
       "    </tr>\n",
       "    <tr>\n",
       "      <th>4</th>\n",
       "      <td>38.893</td>\n",
       "      <td>-76.993</td>\n",
       "    </tr>\n",
       "  </tbody>\n",
       "</table>\n",
       "</div>"
      ],
      "text/plain": [
       "   Latitude  Longitude\n",
       "0    38.917    -77.012\n",
       "1    38.917    -77.002\n",
       "2    38.917    -76.987\n",
       "3    38.823    -77.000\n",
       "4    38.893    -76.993"
      ]
     },
     "execution_count": 49,
     "metadata": {},
     "output_type": "execute_result"
    }
   ],
   "source": [
    "shots_train[['Latitude', 'Longitude']].head()"
   ]
  },
  {
   "cell_type": "markdown",
   "metadata": {},
   "source": [
    "##### Basic EDAs \n",
    "- Let's playing on some EDAs"
   ]
  },
  {
   "cell_type": "code",
   "execution_count": 50,
   "metadata": {},
   "outputs": [
    {
     "name": "stdout",
     "output_type": "stream",
     "text": [
      "<class 'pandas.core.frame.DataFrame'>\n",
      "Int64Index: 1231233 entries, 0 to 310145\n",
      "Data columns (total 30 columns):\n",
      "X                             1231233 non-null float64\n",
      "Y                             1231233 non-null float64\n",
      "OBJECTID                      1231233 non-null int64\n",
      "SERVICECODE                   1231233 non-null object\n",
      "SERVICECODEDESCRIPTION        1231233 non-null object\n",
      "SERVICETYPECODEDESCRIPTION    1230379 non-null object\n",
      "ORGANIZATIONACRONYM           1231232 non-null object\n",
      "SERVICECALLCOUNT              1231233 non-null int64\n",
      "ADDDATE                       1231233 non-null object\n",
      "RESOLUTIONDATE                1145187 non-null object\n",
      "SERVICEDUEDATE                1218530 non-null object\n",
      "SERVICEORDERDATE              1231233 non-null object\n",
      "INSPECTIONFLAG                1231233 non-null object\n",
      "INSPECTIONDATE                434130 non-null object\n",
      "INSPECTORNAME                 40361 non-null object\n",
      "SERVICEORDERSTATUS            1230380 non-null object\n",
      "STATUS_CODE                   1079432 non-null object\n",
      "SERVICEREQUESTID              1231233 non-null object\n",
      "PRIORITY                      1228556 non-null object\n",
      "STREETADDRESS                 1181503 non-null object\n",
      "XCOORD                        1231233 non-null float64\n",
      "YCOORD                        1231233 non-null float64\n",
      "LATITUDE                      1231233 non-null float64\n",
      "LONGITUDE                     1231233 non-null float64\n",
      "CITY                          1180909 non-null object\n",
      "STATE                         1180909 non-null object\n",
      "ZIPCODE                       1231217 non-null float64\n",
      "MARADDRESSREPOSITORYID        1042071 non-null float64\n",
      "WARD                          1225012 non-null object\n",
      "DETAILS                       786653 non-null object\n",
      "dtypes: float64(8), int64(2), object(20)\n",
      "memory usage: 291.2+ MB\n"
     ]
    }
   ],
   "source": [
    "csr_train.info()"
   ]
  },
  {
   "cell_type": "code",
   "execution_count": 51,
   "metadata": {},
   "outputs": [
    {
     "data": {
      "text/plain": [
       "INSPECTORNAME                 1190872\n",
       "INSPECTIONDATE                 797103\n",
       "DETAILS                        444580\n",
       "MARADDRESSREPOSITORYID         189162\n",
       "STATUS_CODE                    151801\n",
       "RESOLUTIONDATE                  86046\n",
       "CITY                            50324\n",
       "STATE                           50324\n",
       "STREETADDRESS                   49730\n",
       "SERVICEDUEDATE                  12703\n",
       "WARD                             6221\n",
       "PRIORITY                         2677\n",
       "SERVICETYPECODEDESCRIPTION        854\n",
       "SERVICEORDERSTATUS                853\n",
       "ZIPCODE                            16\n",
       "ORGANIZATIONACRONYM                 1\n",
       "SERVICEREQUESTID                    0\n",
       "XCOORD                              0\n",
       "INSPECTIONFLAG                      0\n",
       "SERVICEORDERDATE                    0\n",
       "YCOORD                              0\n",
       "LATITUDE                            0\n",
       "ADDDATE                             0\n",
       "SERVICECALLCOUNT                    0\n",
       "LONGITUDE                           0\n",
       "SERVICECODEDESCRIPTION              0\n",
       "SERVICECODE                         0\n",
       "OBJECTID                            0\n",
       "Y                                   0\n",
       "X                                   0\n",
       "dtype: int64"
      ]
     },
     "execution_count": 51,
     "metadata": {},
     "output_type": "execute_result"
    }
   ],
   "source": [
    "csr_train.isnull().sum().sort_values(ascending=False)"
   ]
  },
  {
   "cell_type": "code",
   "execution_count": null,
   "metadata": {},
   "outputs": [],
   "source": []
  }
 ],
 "metadata": {
  "kernelspec": {
   "display_name": "Python [default]",
   "language": "python",
   "name": "python3"
  },
  "language_info": {
   "codemirror_mode": {
    "name": "ipython",
    "version": 3
   },
   "file_extension": ".py",
   "mimetype": "text/x-python",
   "name": "python",
   "nbconvert_exporter": "python",
   "pygments_lexer": "ipython3",
   "version": "3.6.5"
  }
 },
 "nbformat": 4,
 "nbformat_minor": 2
}
