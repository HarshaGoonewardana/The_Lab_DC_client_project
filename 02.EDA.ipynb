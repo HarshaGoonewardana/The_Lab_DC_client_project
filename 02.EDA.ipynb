{
 "cells": [
  {
   "cell_type": "markdown",
   "metadata": {},
   "source": [
    "# Client Project: The Lab @ DC"
   ]
  },
  {
   "cell_type": "markdown",
   "metadata": {},
   "source": [
    "## Project Title: {here}"
   ]
  },
  {
   "cell_type": "markdown",
   "metadata": {},
   "source": [
    "### Authors: {names}\n",
    "- Cohorts of the Data Science Immersive, General Assembly @ Washington DC campus"
   ]
  },
  {
   "cell_type": "markdown",
   "metadata": {},
   "source": [
    "In this notebook, we have Exploratory Data Analysis on the datasets. **This is notebook 2 of 3.**"
   ]
  },
  {
   "cell_type": "markdown",
   "metadata": {},
   "source": [
    "### Import Libraries"
   ]
  },
  {
   "cell_type": "code",
   "execution_count": 1,
   "metadata": {},
   "outputs": [],
   "source": [
    "# import basic libraries\n",
    "\n",
    "import pandas as pd\n",
    "import numpy as np\n",
    "import matplotlib.pyplot as plt\n",
    "\n",
    "%matplotlib inline"
   ]
  },
  {
   "cell_type": "markdown",
   "metadata": {},
   "source": [
    "### Read CSVs"
   ]
  },
  {
   "cell_type": "code",
   "execution_count": 2,
   "metadata": {},
   "outputs": [],
   "source": [
    "csr_train   = pd.read_csv('./assets/csr/csr_train.csv', low_memory=False)\n",
    "shots_train = pd.read_csv('./assets/mpd/shots_train.csv', low_memory=False)\n",
    "shots_test  = pd.read_csv('./assets/mpd/shots_test.csv', low_memory=False)"
   ]
  },
  {
   "cell_type": "markdown",
   "metadata": {},
   "source": [
    "### Basic EDAs and Data Cleaning"
   ]
  },
  {
   "cell_type": "code",
   "execution_count": 3,
   "metadata": {},
   "outputs": [
    {
     "name": "stdout",
     "output_type": "stream",
     "text": [
      "<class 'pandas.core.frame.DataFrame'>\n",
      "RangeIndex: 1231233 entries, 0 to 1231232\n",
      "Data columns (total 31 columns):\n",
      "Unnamed: 0                    1231233 non-null int64\n",
      "X                             1231233 non-null float64\n",
      "Y                             1231233 non-null float64\n",
      "OBJECTID                      1231233 non-null int64\n",
      "SERVICECODE                   1231233 non-null object\n",
      "SERVICECODEDESCRIPTION        1231233 non-null object\n",
      "SERVICETYPECODEDESCRIPTION    1230379 non-null object\n",
      "ORGANIZATIONACRONYM           1231232 non-null object\n",
      "SERVICECALLCOUNT              1231233 non-null int64\n",
      "ADDDATE                       1231233 non-null object\n",
      "RESOLUTIONDATE                1145187 non-null object\n",
      "SERVICEDUEDATE                1218530 non-null object\n",
      "SERVICEORDERDATE              1231233 non-null object\n",
      "INSPECTIONFLAG                1231233 non-null object\n",
      "INSPECTIONDATE                434130 non-null object\n",
      "INSPECTORNAME                 40361 non-null object\n",
      "SERVICEORDERSTATUS            1230380 non-null object\n",
      "STATUS_CODE                   1079432 non-null object\n",
      "SERVICEREQUESTID              1231233 non-null object\n",
      "PRIORITY                      1228556 non-null object\n",
      "STREETADDRESS                 1181503 non-null object\n",
      "XCOORD                        1231233 non-null float64\n",
      "YCOORD                        1231233 non-null float64\n",
      "LATITUDE                      1231233 non-null float64\n",
      "LONGITUDE                     1231233 non-null float64\n",
      "CITY                          1180909 non-null object\n",
      "STATE                         1180909 non-null object\n",
      "ZIPCODE                       1231217 non-null float64\n",
      "MARADDRESSREPOSITORYID        1042071 non-null float64\n",
      "WARD                          1225012 non-null object\n",
      "DETAILS                       786653 non-null object\n",
      "dtypes: float64(8), int64(3), object(20)\n",
      "memory usage: 291.2+ MB\n"
     ]
    }
   ],
   "source": [
    "csr_train.info()"
   ]
  },
  {
   "cell_type": "code",
   "execution_count": 4,
   "metadata": {},
   "outputs": [
    {
     "data": {
      "text/plain": [
       "INSPECTORNAME                 1190872\n",
       "INSPECTIONDATE                 797103\n",
       "DETAILS                        444580\n",
       "MARADDRESSREPOSITORYID         189162\n",
       "STATUS_CODE                    151801\n",
       "RESOLUTIONDATE                  86046\n",
       "CITY                            50324\n",
       "STATE                           50324\n",
       "STREETADDRESS                   49730\n",
       "SERVICEDUEDATE                  12703\n",
       "WARD                             6221\n",
       "PRIORITY                         2677\n",
       "SERVICETYPECODEDESCRIPTION        854\n",
       "SERVICEORDERSTATUS                853\n",
       "ZIPCODE                            16\n",
       "ORGANIZATIONACRONYM                 1\n",
       "SERVICECALLCOUNT                    0\n",
       "SERVICECODE                         0\n",
       "OBJECTID                            0\n",
       "Y                                   0\n",
       "X                                   0\n",
       "SERVICECODEDESCRIPTION              0\n",
       "INSPECTIONFLAG                      0\n",
       "ADDDATE                             0\n",
       "SERVICEORDERDATE                    0\n",
       "SERVICEREQUESTID                    0\n",
       "XCOORD                              0\n",
       "YCOORD                              0\n",
       "LATITUDE                            0\n",
       "LONGITUDE                           0\n",
       "Unnamed: 0                          0\n",
       "dtype: int64"
      ]
     },
     "execution_count": 4,
     "metadata": {},
     "output_type": "execute_result"
    }
   ],
   "source": [
    "csr_train.isnull().sum().sort_values(ascending=False)"
   ]
  },
  {
   "cell_type": "code",
   "execution_count": null,
   "metadata": {},
   "outputs": [],
   "source": []
  },
  {
   "cell_type": "markdown",
   "metadata": {},
   "source": [
    "##### Teams, two datasets have different digits in the Lat's and Long's. Will it be matters? "
   ]
  },
  {
   "cell_type": "code",
   "execution_count": 5,
   "metadata": {},
   "outputs": [
    {
     "data": {
      "text/html": [
       "<div>\n",
       "<style scoped>\n",
       "    .dataframe tbody tr th:only-of-type {\n",
       "        vertical-align: middle;\n",
       "    }\n",
       "\n",
       "    .dataframe tbody tr th {\n",
       "        vertical-align: top;\n",
       "    }\n",
       "\n",
       "    .dataframe thead th {\n",
       "        text-align: right;\n",
       "    }\n",
       "</style>\n",
       "<table border=\"1\" class=\"dataframe\">\n",
       "  <thead>\n",
       "    <tr style=\"text-align: right;\">\n",
       "      <th></th>\n",
       "      <th>LATITUDE</th>\n",
       "      <th>LONGITUDE</th>\n",
       "    </tr>\n",
       "  </thead>\n",
       "  <tbody>\n",
       "    <tr>\n",
       "      <th>0</th>\n",
       "      <td>38.897950</td>\n",
       "      <td>-76.972732</td>\n",
       "    </tr>\n",
       "    <tr>\n",
       "      <th>1</th>\n",
       "      <td>38.922857</td>\n",
       "      <td>-76.991905</td>\n",
       "    </tr>\n",
       "    <tr>\n",
       "      <th>2</th>\n",
       "      <td>38.874742</td>\n",
       "      <td>-76.970889</td>\n",
       "    </tr>\n",
       "    <tr>\n",
       "      <th>3</th>\n",
       "      <td>38.942811</td>\n",
       "      <td>-77.022676</td>\n",
       "    </tr>\n",
       "    <tr>\n",
       "      <th>4</th>\n",
       "      <td>38.898952</td>\n",
       "      <td>-77.048838</td>\n",
       "    </tr>\n",
       "  </tbody>\n",
       "</table>\n",
       "</div>"
      ],
      "text/plain": [
       "    LATITUDE  LONGITUDE\n",
       "0  38.897950 -76.972732\n",
       "1  38.922857 -76.991905\n",
       "2  38.874742 -76.970889\n",
       "3  38.942811 -77.022676\n",
       "4  38.898952 -77.048838"
      ]
     },
     "execution_count": 5,
     "metadata": {},
     "output_type": "execute_result"
    }
   ],
   "source": [
    "csr_train[['LATITUDE', 'LONGITUDE']].head()"
   ]
  },
  {
   "cell_type": "code",
   "execution_count": 6,
   "metadata": {},
   "outputs": [
    {
     "data": {
      "text/html": [
       "<div>\n",
       "<style scoped>\n",
       "    .dataframe tbody tr th:only-of-type {\n",
       "        vertical-align: middle;\n",
       "    }\n",
       "\n",
       "    .dataframe tbody tr th {\n",
       "        vertical-align: top;\n",
       "    }\n",
       "\n",
       "    .dataframe thead th {\n",
       "        text-align: right;\n",
       "    }\n",
       "</style>\n",
       "<table border=\"1\" class=\"dataframe\">\n",
       "  <thead>\n",
       "    <tr style=\"text-align: right;\">\n",
       "      <th></th>\n",
       "      <th>Latitude</th>\n",
       "      <th>Longitude</th>\n",
       "    </tr>\n",
       "  </thead>\n",
       "  <tbody>\n",
       "    <tr>\n",
       "      <th>0</th>\n",
       "      <td>38.917</td>\n",
       "      <td>-77.012</td>\n",
       "    </tr>\n",
       "    <tr>\n",
       "      <th>1</th>\n",
       "      <td>38.917</td>\n",
       "      <td>-77.002</td>\n",
       "    </tr>\n",
       "    <tr>\n",
       "      <th>2</th>\n",
       "      <td>38.917</td>\n",
       "      <td>-76.987</td>\n",
       "    </tr>\n",
       "    <tr>\n",
       "      <th>3</th>\n",
       "      <td>38.823</td>\n",
       "      <td>-77.000</td>\n",
       "    </tr>\n",
       "    <tr>\n",
       "      <th>4</th>\n",
       "      <td>38.893</td>\n",
       "      <td>-76.993</td>\n",
       "    </tr>\n",
       "  </tbody>\n",
       "</table>\n",
       "</div>"
      ],
      "text/plain": [
       "   Latitude  Longitude\n",
       "0    38.917    -77.012\n",
       "1    38.917    -77.002\n",
       "2    38.917    -76.987\n",
       "3    38.823    -77.000\n",
       "4    38.893    -76.993"
      ]
     },
     "execution_count": 6,
     "metadata": {},
     "output_type": "execute_result"
    }
   ],
   "source": [
    "shots_train[['Latitude', 'Longitude']].head()"
   ]
  },
  {
   "cell_type": "code",
   "execution_count": null,
   "metadata": {},
   "outputs": [],
   "source": []
  }
 ],
 "metadata": {
  "kernelspec": {
   "display_name": "Python [default]",
   "language": "python",
   "name": "python3"
  },
  "language_info": {
   "codemirror_mode": {
    "name": "ipython",
    "version": 3
   },
   "file_extension": ".py",
   "mimetype": "text/x-python",
   "name": "python",
   "nbconvert_exporter": "python",
   "pygments_lexer": "ipython3",
   "version": "3.6.5"
  }
 },
 "nbformat": 4,
 "nbformat_minor": 2
}
