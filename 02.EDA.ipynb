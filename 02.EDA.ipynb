{
 "cells": [
  {
   "cell_type": "markdown",
   "metadata": {},
   "source": [
    "# Client Project: The Lab @ DC"
   ]
  },
  {
   "cell_type": "markdown",
   "metadata": {},
   "source": [
    "## Project Title: {here}"
   ]
  },
  {
   "cell_type": "markdown",
   "metadata": {},
   "source": [
    "### Authors: Kihoon Sohn, Brian Collins, Harsha Goonawardana, Priya Kakkar\n",
    "- Cohorts of the Data Science Immersive, General Assembly @ Washington DC campus"
   ]
  },
  {
   "cell_type": "markdown",
   "metadata": {},
   "source": [
    "In this notebook, we have Exploratory Data Analysis on the City Service Requests / ShotsSpotters datasets. **This is notebook 2 of 3.**"
   ]
  },
  {
   "cell_type": "markdown",
   "metadata": {},
   "source": [
    "### Import Libraries"
   ]
  },
  {
   "cell_type": "code",
   "execution_count": 42,
   "metadata": {},
   "outputs": [],
   "source": [
    "# import basic libraries\n",
    "\n",
    "import pandas as pd\n",
    "import numpy as np\n",
    "import matplotlib.pyplot as plt\n",
    "\n",
    "%matplotlib inline"
   ]
  },
  {
   "cell_type": "markdown",
   "metadata": {},
   "source": [
    "### Read CSVs"
   ]
  },
  {
   "cell_type": "code",
   "execution_count": 43,
   "metadata": {},
   "outputs": [],
   "source": [
    "csr_train   = pd.read_csv('./assets/csr/csr_train.csv', low_memory=False)\n",
    "csr_test    = pd.read_csv('./assets/csr/csr_test.csv', low_memory=False)\n",
    "shots_train = pd.read_csv('./assets/mpd/shots_train.csv', low_memory=False)\n",
    "shots_test  = pd.read_csv('./assets/mpd/shots_test.csv', low_memory=False)"
   ]
  },
  {
   "cell_type": "markdown",
   "metadata": {},
   "source": [
    "##### check null values and basic info on the datasets"
   ]
  },
  {
   "cell_type": "code",
   "execution_count": 3,
   "metadata": {},
   "outputs": [
    {
     "name": "stdout",
     "output_type": "stream",
     "text": [
      "<class 'pandas.core.frame.DataFrame'>\n",
      "RangeIndex: 1231233 entries, 0 to 1231232\n",
      "Data columns (total 30 columns):\n",
      "X                             1231233 non-null float64\n",
      "Y                             1231233 non-null float64\n",
      "OBJECTID                      1231233 non-null int64\n",
      "SERVICECODE                   1231233 non-null object\n",
      "SERVICECODEDESCRIPTION        1231233 non-null object\n",
      "SERVICETYPECODEDESCRIPTION    1230379 non-null object\n",
      "ORGANIZATIONACRONYM           1231232 non-null object\n",
      "SERVICECALLCOUNT              1231233 non-null int64\n",
      "ADDDATE                       1231233 non-null object\n",
      "RESOLUTIONDATE                1145187 non-null object\n",
      "SERVICEDUEDATE                1218530 non-null object\n",
      "SERVICEORDERDATE              1231233 non-null object\n",
      "INSPECTIONFLAG                1231233 non-null object\n",
      "INSPECTIONDATE                434130 non-null object\n",
      "INSPECTORNAME                 40361 non-null object\n",
      "SERVICEORDERSTATUS            1230380 non-null object\n",
      "STATUS_CODE                   1079432 non-null object\n",
      "SERVICEREQUESTID              1231233 non-null object\n",
      "PRIORITY                      1228556 non-null object\n",
      "STREETADDRESS                 1181503 non-null object\n",
      "XCOORD                        1231233 non-null float64\n",
      "YCOORD                        1231233 non-null float64\n",
      "LATITUDE                      1231233 non-null float64\n",
      "LONGITUDE                     1231233 non-null float64\n",
      "CITY                          1180909 non-null object\n",
      "STATE                         1180909 non-null object\n",
      "ZIPCODE                       1231217 non-null float64\n",
      "MARADDRESSREPOSITORYID        1042071 non-null float64\n",
      "WARD                          1225012 non-null object\n",
      "DETAILS                       786653 non-null object\n",
      "dtypes: float64(8), int64(2), object(20)\n",
      "memory usage: 281.8+ MB\n"
     ]
    }
   ],
   "source": [
    "csr_train.info()"
   ]
  },
  {
   "cell_type": "code",
   "execution_count": 14,
   "metadata": {},
   "outputs": [
    {
     "data": {
      "text/plain": [
       "details                       444566\n",
       "status_code                   151801\n",
       "streetaddress                  49730\n",
       "priority                        2677\n",
       "servicetypecodedescription       854\n",
       "serviceorderstatus               853\n",
       "organizationacronym                1\n",
       "serviceduedate                     0\n",
       "servicecode                        0\n",
       "servicecodedescription             0\n",
       "servicecallcount                   0\n",
       "adddate                            0\n",
       "resolutiondate                     0\n",
       "inspectionflag                     0\n",
       "serviceorderdate                   0\n",
       "longitude                          0\n",
       "inspectiondate                     0\n",
       "servicerequestid                   0\n",
       "xcoord                             0\n",
       "ycoord                             0\n",
       "latitude                           0\n",
       "objectid                           0\n",
       "dtype: int64"
      ]
     },
     "execution_count": 14,
     "metadata": {},
     "output_type": "execute_result"
    }
   ],
   "source": [
    "csr_train.isnull().sum().sort_values(ascending=False)"
   ]
  },
  {
   "cell_type": "code",
   "execution_count": 4,
   "metadata": {},
   "outputs": [
    {
     "data": {
      "text/html": [
       "<div>\n",
       "<style scoped>\n",
       "    .dataframe tbody tr th:only-of-type {\n",
       "        vertical-align: middle;\n",
       "    }\n",
       "\n",
       "    .dataframe tbody tr th {\n",
       "        vertical-align: top;\n",
       "    }\n",
       "\n",
       "    .dataframe thead th {\n",
       "        text-align: right;\n",
       "    }\n",
       "</style>\n",
       "<table border=\"1\" class=\"dataframe\">\n",
       "  <thead>\n",
       "    <tr style=\"text-align: right;\">\n",
       "      <th></th>\n",
       "      <th>ID</th>\n",
       "      <th>Type</th>\n",
       "      <th>Date</th>\n",
       "      <th>Time</th>\n",
       "      <th>Source</th>\n",
       "      <th>Latitude</th>\n",
       "      <th>Longitude</th>\n",
       "    </tr>\n",
       "  </thead>\n",
       "  <tbody>\n",
       "    <tr>\n",
       "      <th>0</th>\n",
       "      <td>5D39700</td>\n",
       "      <td>Multiple_Gunshots</td>\n",
       "      <td>2014-01-01</td>\n",
       "      <td>00:00:02</td>\n",
       "      <td>WashingtonDC5D</td>\n",
       "      <td>38.917</td>\n",
       "      <td>-77.012</td>\n",
       "    </tr>\n",
       "    <tr>\n",
       "      <th>1</th>\n",
       "      <td>5D39701</td>\n",
       "      <td>Multiple_Gunshots</td>\n",
       "      <td>2014-01-01</td>\n",
       "      <td>00:00:06</td>\n",
       "      <td>WashingtonDC5D</td>\n",
       "      <td>38.917</td>\n",
       "      <td>-77.002</td>\n",
       "    </tr>\n",
       "    <tr>\n",
       "      <th>2</th>\n",
       "      <td>5D39702</td>\n",
       "      <td>Multiple_Gunshots</td>\n",
       "      <td>2014-01-01</td>\n",
       "      <td>00:00:07</td>\n",
       "      <td>WashingtonDC5D</td>\n",
       "      <td>38.917</td>\n",
       "      <td>-76.987</td>\n",
       "    </tr>\n",
       "    <tr>\n",
       "      <th>3</th>\n",
       "      <td>7D119445</td>\n",
       "      <td>Multiple_Gunshots</td>\n",
       "      <td>2014-01-01</td>\n",
       "      <td>00:00:10</td>\n",
       "      <td>WashingtonDC7D</td>\n",
       "      <td>38.823</td>\n",
       "      <td>-77.000</td>\n",
       "    </tr>\n",
       "    <tr>\n",
       "      <th>4</th>\n",
       "      <td>1D55993</td>\n",
       "      <td>Multiple_Gunshots</td>\n",
       "      <td>2014-01-01</td>\n",
       "      <td>00:00:10</td>\n",
       "      <td>WashingtonDC1D</td>\n",
       "      <td>38.893</td>\n",
       "      <td>-76.993</td>\n",
       "    </tr>\n",
       "  </tbody>\n",
       "</table>\n",
       "</div>"
      ],
      "text/plain": [
       "         ID               Type        Date      Time          Source  \\\n",
       "0   5D39700  Multiple_Gunshots  2014-01-01  00:00:02  WashingtonDC5D   \n",
       "1   5D39701  Multiple_Gunshots  2014-01-01  00:00:06  WashingtonDC5D   \n",
       "2   5D39702  Multiple_Gunshots  2014-01-01  00:00:07  WashingtonDC5D   \n",
       "3  7D119445  Multiple_Gunshots  2014-01-01  00:00:10  WashingtonDC7D   \n",
       "4   1D55993  Multiple_Gunshots  2014-01-01  00:00:10  WashingtonDC1D   \n",
       "\n",
       "   Latitude  Longitude  \n",
       "0    38.917    -77.012  \n",
       "1    38.917    -77.002  \n",
       "2    38.917    -76.987  \n",
       "3    38.823    -77.000  \n",
       "4    38.893    -76.993  "
      ]
     },
     "execution_count": 4,
=======
     "metadata": {},
     "output_type": "execute_result"
    }
   ],
   "source": [
    "shots_train.head()"
   ]
  },
  {
   "cell_type": "code",
   "execution_count": 5,
   "metadata": {},
   "outputs": [
    {
     "data": {
      "text/plain": [
       "(28343, 7)"
      ]
     },
     "execution_count": 5,
     "metadata": {},
     "output_type": "execute_result"
    }
   ],
   "source": [
    "shots_train.shape"
   ]
  },
  {
   "cell_type": "code",
   "execution_count": 6,
   "metadata": {},
   "outputs": [
    {
     "name": "stdout",
     "output_type": "stream",
     "text": [
      "<class 'pandas.core.frame.DataFrame'>\n",
      "RangeIndex: 28343 entries, 0 to 28342\n",
      "Data columns (total 7 columns):\n",
      "ID           28339 non-null object\n",
      "Type         28343 non-null object\n",
      "Date         28343 non-null object\n",
      "Time         28343 non-null object\n",
      "Source       28343 non-null object\n",
      "Latitude     28343 non-null float64\n",
      "Longitude    28343 non-null float64\n",
      "dtypes: float64(2), object(5)\n",
      "memory usage: 1.5+ MB\n"
     ]
    }
   ],
   "source": [
    "shots_train.info()"
   ]
  },
  {
   "cell_type": "code",
   "execution_count": 25,
   "metadata": {},
   "outputs": [],
   "source": [
    "def shot_spot_preprocess(df):\n",
    "    shots_train.set_index(['ID'], inplace=True)\n",
    "    shots_train.drop(['Unnamed: 0'], axis=1, inplace=True)\n",
    "    shots_train.Source = shots_train.Source.apply(lambda DC: DC.replace('WashingtonDC', ''))\n",
    "    shots_train.Date = pd.to_datetime(shots_train.Date)\n",
    "    shots_train.Time = pd.to_datetime(shots_train.Time)\n",
    "    return df\n",
    "\n",
    "shots_spot = shot_spot_preprocess(shots_train)"
   ]
  },
  {
   "cell_type": "code",
   "execution_count": 44,
   "metadata": {
    "scrolled": false
   },
   "outputs": [],
   "source": [
    "def crimespot_preprocess(df):\n",
    "    # Removing unused or redundent information.  \n",
    "    csr_train.set_index(['OBJECTID'], inplace=True)\n",
    "    csr_train.drop(['Unnamed: 0', \n",
    "                    'INSPECTORNAME', \n",
    "                    'CITY', 'STATE', \n",
    "                    'X', 'Y', 'WARD', # Removing WARD/Zipcode because we are using Long/Lat\n",
    "                    'ZIPCODE', 'MARADDRESSREPOSITORYID'], axis=1, inplace=True)\n",
    "    csr_train.columns = map(str.lower, csr_train.columns) # Easier to work with lowercase columns\n",
    "#     csr_train.serviceduedate.fillna('2000-01-01 00:00:01.000', inplace=True) # Temporarily filling with fake impossible dates\n",
    "#     csr_train.resolutiondate.fillna('2000-01-01 00:00:01.000', inplace=True) # Temporarily filling with fake impossible dates\n",
    "#     csr_train.inspectiondate.fillna('2000-01-01 00:00:01.000', inplace=True) # Temporarily filling with fake impossible dates\n",
    "#     timestamp = ['adddate', 'resolutiondate', 'serviceduedate', 'serviceorderdate', 'inspectiondate']\n",
    "#     for x in timestamp:\n",
    "#         csr_train[x] = csr_train[x].map(lambda x: x.strip('Z').replace('T', ' '))\n",
    "#         csr_train[x] = pd.to_datetime((csr_train[x]), format=\"%Y/%m/%d\")\n",
    "    return df\n",
    "\n",
    "csr_train = crimespot_preprocess(csr_train)"
   ]
  },
  {
   "cell_type": "code",
   "execution_count": 46,
   "metadata": {},
   "outputs": [],
   "source": [
    "csr_train.serviceduedate = pd.to_datetime((csr_train.serviceduedate), format=\"%Y/%m/%d\")"
   ]
  },
  {
   "cell_type": "code",
   "execution_count": 48,
   "metadata": {},
   "outputs": [
    {
     "data": {
      "text/html": [
       "<div>\n",
       "<style scoped>\n",
       "    .dataframe tbody tr th:only-of-type {\n",
       "        vertical-align: middle;\n",
       "    }\n",
       "\n",
       "    .dataframe tbody tr th {\n",
       "        vertical-align: top;\n",
       "    }\n",
       "\n",
       "    .dataframe thead th {\n",
       "        text-align: right;\n",
       "    }\n",
       "</style>\n",
       "<table border=\"1\" class=\"dataframe\">\n",
       "  <thead>\n",
       "    <tr style=\"text-align: right;\">\n",
       "      <th></th>\n",
       "      <th>ID</th>\n",
       "      <th>Type</th>\n",
       "      <th>Date</th>\n",
       "      <th>Time</th>\n",
       "      <th>Source</th>\n",
       "      <th>Latitude</th>\n",
       "      <th>Longitude</th>\n",
       "    </tr>\n",
       "  </thead>\n",
       "  <tbody>\n",
       "    <tr>\n",
       "      <th>17514</th>\n",
       "      <td>NaN</td>\n",
       "      <td>Multiple_Gunshots</td>\n",
       "      <td>2015-12-27</td>\n",
       "      <td>19:41:22</td>\n",
       "      <td>WashingtonDC5D</td>\n",
       "      <td>38.931</td>\n",
       "      <td>-76.970</td>\n",
       "    </tr>\n",
       "    <tr>\n",
       "      <th>20378</th>\n",
       "      <td>NaN</td>\n",
       "      <td>Gunshot_or_Firecracker</td>\n",
       "      <td>2016-06-28</td>\n",
       "      <td>11:41:36</td>\n",
       "      <td>WashingtonDC6D</td>\n",
       "      <td>38.894</td>\n",
       "      <td>-76.924</td>\n",
       "    </tr>\n",
       "    <tr>\n",
       "      <th>24456</th>\n",
       "      <td>NaN</td>\n",
       "      <td>Single_Gunshot</td>\n",
       "      <td>2017-02-22</td>\n",
       "      <td>17:10:13</td>\n",
       "      <td>WashingtonDC7D</td>\n",
       "      <td>38.841</td>\n",
       "      <td>-76.976</td>\n",
       "    </tr>\n",
       "    <tr>\n",
       "      <th>24691</th>\n",
       "      <td>NaN</td>\n",
       "      <td>Single_Gunshot</td>\n",
       "      <td>2017-03-15</td>\n",
       "      <td>20:08:03</td>\n",
       "      <td>WashingtonDC7D</td>\n",
       "      <td>38.840</td>\n",
       "      <td>-76.988</td>\n",
       "    </tr>\n",
       "  </tbody>\n",
       "</table>\n",
       "</div>"
      ],
      "text/plain": [
       "OBJECTID\n",
       "463232    2014-02-18 13:27:40\n",
       "463233    2014-01-06 13:46:57\n",
       "463234    2014-01-23 13:57:46\n",
       "463235    2014-02-24 13:43:20\n",
       "463236    2014-01-09 16:00:59\n",
       "463237    2014-01-23 16:25:59\n",
       "463238    2014-01-09 16:14:47\n",
       "463239    2014-01-06 16:49:52\n",
       "463240    2014-01-23 16:48:08\n",
       "463241    2014-01-06 16:06:49\n",
       "463242                    NaT\n",
       "463243    2014-01-09 16:33:25\n",
       "463244    2014-01-23 17:00:12\n",
       "463245    2014-02-18 16:04:50\n",
       "463246    2014-01-06 16:32:02\n",
       "463247    2014-01-23 16:28:09\n",
       "463248    2014-01-09 16:58:08\n",
       "463249    2014-01-09 16:22:41\n",
       "463250    2014-01-23 16:13:19\n",
       "463251    2014-01-09 16:39:25\n",
       "463252    2014-01-06 16:23:05\n",
       "462127    2014-01-09 18:29:52\n",
       "462128    2014-01-06 18:12:04\n",
       "462129    2014-01-06 18:56:57\n",
       "462130    2014-01-23 21:19:18\n",
       "462131    2014-07-10 21:23:19\n",
       "462132    2014-03-31 21:49:53\n",
       "462133    2014-01-03 22:37:00\n",
       "462134    2014-01-23 22:31:22\n",
       "462135    2014-01-06 22:03:18\n",
       "                  ...        \n",
       "1855863   2018-01-02 17:00:00\n",
       "1855864   2018-01-08 17:00:00\n",
       "1855865   2018-01-03 17:00:00\n",
       "1855866   2018-01-05 15:01:00\n",
       "1855867   2018-01-05 13:00:00\n",
       "1855868   2018-01-17 14:27:00\n",
       "1855869   2018-01-17 16:09:00\n",
       "1855870   2018-01-17 17:00:00\n",
       "1855871   2018-01-17 17:00:00\n",
       "1855872   2018-01-18 11:49:00\n",
       "1855873   2018-01-18 11:50:00\n",
       "1855874   2018-01-18 12:41:00\n",
       "1855875   2018-01-17 12:47:00\n",
       "1855876   2018-01-18 10:35:00\n",
       "1855877   2018-01-18 14:14:00\n",
       "1855878   2018-01-18 16:30:00\n",
       "1855879   2018-01-04 09:22:00\n",
       "1855880   2018-01-04 17:00:00\n",
       "1855881   2018-01-04 16:37:00\n",
       "1855882   2018-01-03 11:54:00\n",
       "1855883   2018-01-03 16:49:00\n",
       "1855884   2018-01-08 10:44:00\n",
       "1855885   2018-01-03 17:00:00\n",
       "1855886   2018-01-03 17:00:00\n",
       "1855887   2018-01-10 17:00:00\n",
       "1855888   2018-01-17 17:00:00\n",
       "1855889   2018-01-10 17:00:00\n",
       "1855890   2018-01-10 17:00:00\n",
       "1855891   2018-01-10 17:00:00\n",
       "1855892   2018-01-10 17:00:00\n",
       "Name: serviceduedate, Length: 1231233, dtype: datetime64[ns]"
      ]
     },
     "execution_count": 48,
     "metadata": {},
     "output_type": "execute_result"
    }
   ],
   "source": [
    "csr_train.serviceduedate"
   ]
  },
  {
   "cell_type": "code",

   "execution_count": 61,
   "metadata": {},
   "outputs": [],
   "source": [
    "csr_train.serviceduedate = pd.to_datetime(csr_train.serviceduedate, unit='s')"
   ]
  },
  {
   "cell_type": "code",
   "execution_count": 62,
   "metadata": {
    "scrolled": true
   },
   "outputs": [
    {
     "ename": "TypeError",
     "evalue": "Only valid with DatetimeIndex, TimedeltaIndex or PeriodIndex, but got an instance of 'Int64Index'",
     "output_type": "error",
     "traceback": [
      "\u001b[0;31m---------------------------------------------------------------------------\u001b[0m",
      "\u001b[0;31mTypeError\u001b[0m                                 Traceback (most recent call last)",
      "\u001b[0;32m<ipython-input-62-1de2f023cb16>\u001b[0m in \u001b[0;36m<module>\u001b[0;34m()\u001b[0m\n\u001b[0;32m----> 1\u001b[0;31m \u001b[0mcsr_train\u001b[0m\u001b[0;34m.\u001b[0m\u001b[0mserviceduedate\u001b[0m\u001b[0;34m.\u001b[0m\u001b[0mresample\u001b[0m\u001b[0;34m(\u001b[0m\u001b[0;34m'D'\u001b[0m\u001b[0;34m)\u001b[0m\u001b[0;34m\u001b[0m\u001b[0m\n\u001b[0m",
      "\u001b[0;32m/anaconda3/envs/dsi/lib/python3.6/site-packages/pandas/core/generic.py\u001b[0m in \u001b[0;36mresample\u001b[0;34m(self, rule, how, axis, fill_method, closed, label, convention, kind, loffset, limit, base, on, level)\u001b[0m\n\u001b[1;32m   5520\u001b[0m                      \u001b[0maxis\u001b[0m\u001b[0;34m=\u001b[0m\u001b[0maxis\u001b[0m\u001b[0;34m,\u001b[0m \u001b[0mkind\u001b[0m\u001b[0;34m=\u001b[0m\u001b[0mkind\u001b[0m\u001b[0;34m,\u001b[0m \u001b[0mloffset\u001b[0m\u001b[0;34m=\u001b[0m\u001b[0mloffset\u001b[0m\u001b[0;34m,\u001b[0m\u001b[0;34m\u001b[0m\u001b[0m\n\u001b[1;32m   5521\u001b[0m                      \u001b[0mconvention\u001b[0m\u001b[0;34m=\u001b[0m\u001b[0mconvention\u001b[0m\u001b[0;34m,\u001b[0m\u001b[0;34m\u001b[0m\u001b[0m\n\u001b[0;32m-> 5522\u001b[0;31m                      base=base, key=on, level=level)\n\u001b[0m\u001b[1;32m   5523\u001b[0m         return _maybe_process_deprecations(r,\n\u001b[1;32m   5524\u001b[0m                                            \u001b[0mhow\u001b[0m\u001b[0;34m=\u001b[0m\u001b[0mhow\u001b[0m\u001b[0;34m,\u001b[0m\u001b[0;34m\u001b[0m\u001b[0m\n",
      "\u001b[0;32m/anaconda3/envs/dsi/lib/python3.6/site-packages/pandas/core/resample.py\u001b[0m in \u001b[0;36mresample\u001b[0;34m(obj, kind, **kwds)\u001b[0m\n\u001b[1;32m    997\u001b[0m     \u001b[0;34m\"\"\" create a TimeGrouper and return our resampler \"\"\"\u001b[0m\u001b[0;34m\u001b[0m\u001b[0m\n\u001b[1;32m    998\u001b[0m     \u001b[0mtg\u001b[0m \u001b[0;34m=\u001b[0m \u001b[0mTimeGrouper\u001b[0m\u001b[0;34m(\u001b[0m\u001b[0;34m**\u001b[0m\u001b[0mkwds\u001b[0m\u001b[0;34m)\u001b[0m\u001b[0;34m\u001b[0m\u001b[0m\n\u001b[0;32m--> 999\u001b[0;31m     \u001b[0;32mreturn\u001b[0m \u001b[0mtg\u001b[0m\u001b[0;34m.\u001b[0m\u001b[0m_get_resampler\u001b[0m\u001b[0;34m(\u001b[0m\u001b[0mobj\u001b[0m\u001b[0;34m,\u001b[0m \u001b[0mkind\u001b[0m\u001b[0;34m=\u001b[0m\u001b[0mkind\u001b[0m\u001b[0;34m)\u001b[0m\u001b[0;34m\u001b[0m\u001b[0m\n\u001b[0m\u001b[1;32m   1000\u001b[0m \u001b[0;34m\u001b[0m\u001b[0m\n\u001b[1;32m   1001\u001b[0m \u001b[0;34m\u001b[0m\u001b[0m\n",
      "\u001b[0;32m/anaconda3/envs/dsi/lib/python3.6/site-packages/pandas/core/resample.py\u001b[0m in \u001b[0;36m_get_resampler\u001b[0;34m(self, obj, kind)\u001b[0m\n\u001b[1;32m   1114\u001b[0m         raise TypeError(\"Only valid with DatetimeIndex, \"\n\u001b[1;32m   1115\u001b[0m                         \u001b[0;34m\"TimedeltaIndex or PeriodIndex, \"\u001b[0m\u001b[0;34m\u001b[0m\u001b[0m\n\u001b[0;32m-> 1116\u001b[0;31m                         \"but got an instance of %r\" % type(ax).__name__)\n\u001b[0m\u001b[1;32m   1117\u001b[0m \u001b[0;34m\u001b[0m\u001b[0m\n\u001b[1;32m   1118\u001b[0m     \u001b[0;32mdef\u001b[0m \u001b[0m_get_grouper\u001b[0m\u001b[0;34m(\u001b[0m\u001b[0mself\u001b[0m\u001b[0;34m,\u001b[0m \u001b[0mobj\u001b[0m\u001b[0;34m,\u001b[0m \u001b[0mvalidate\u001b[0m\u001b[0;34m=\u001b[0m\u001b[0;32mTrue\u001b[0m\u001b[0;34m)\u001b[0m\u001b[0;34m:\u001b[0m\u001b[0;34m\u001b[0m\u001b[0m\n",
      "\u001b[0;31mTypeError\u001b[0m: Only valid with DatetimeIndex, TimedeltaIndex or PeriodIndex, but got an instance of 'Int64Index'"
     ]
    }
   ],
   "source": [
    "csr_train.serviceduedate.resample('D')"
   ]
  },
  {
   "cell_type": "code",
   "execution_count": 52,
   "metadata": {},
   "outputs": [
    {
     "data": {
      "text/plain": [
       "86032"
      ]
     },
     "execution_count": 52,
     "metadata": {},
     "output_type": "execute_result"
    }
   ],
   "source": [
    "csr_train.resolutiondate.interpolate(method='time').isnull().sum()"
   ]
  },
  {
   "cell_type": "code",
   "execution_count": 9,
   "metadata": {
    "scrolled": false
   },
   "outputs": [
    {
     "name": "stdout",
     "output_type": "stream",
     "text": [
      "<class 'pandas.core.frame.DataFrame'>\n",
      "RangeIndex: 1231233 entries, 0 to 1231232\n",
      "Data columns (total 22 columns):\n",
      "objectid                      1231233 non-null int64\n",
      "servicecode                   1231233 non-null object\n",
      "servicecodedescription        1231233 non-null object\n",
      "servicetypecodedescription    1230379 non-null object\n",
      "organizationacronym           1231232 non-null object\n",
      "servicecallcount              1231233 non-null int64\n",
      "adddate                       1231233 non-null object\n",
      "resolutiondate                1231233 non-null object\n",
      "serviceduedate                1231233 non-null object\n",
      "serviceorderdate              1231233 non-null object\n",
      "inspectionflag                1231233 non-null object\n",
      "inspectiondate                1231233 non-null object\n",
      "serviceorderstatus            1230380 non-null object\n",
      "status_code                   1079432 non-null object\n",
      "servicerequestid              1231233 non-null object\n",
      "priority                      1228556 non-null object\n",
      "streetaddress                 1181503 non-null object\n",
      "xcoord                        1231233 non-null float64\n",
      "ycoord                        1231233 non-null float64\n",
      "latitude                      1231233 non-null float64\n",
      "longitude                     1231233 non-null float64\n",
      "details                       786667 non-null object\n",
      "dtypes: float64(4), int64(2), object(16)\n",
      "memory usage: 206.7+ MB\n"
     ]
    }
   ],
   "source": [
    "##### Basic EDAs on City Service Requests Datasets"
   ]
  },
  {
   "cell_type": "code",
   "execution_count": 28,
   "metadata": {
    "scrolled": true
   },
   "outputs": [
    {
     "data": {
      "text/html": [
       "<div>\n",
       "<style scoped>\n",
       "    .dataframe tbody tr th:only-of-type {\n",
       "        vertical-align: middle;\n",
       "    }\n",
       "\n",
       "    .dataframe tbody tr th {\n",
       "        vertical-align: top;\n",
       "    }\n",
       "\n",
       "    .dataframe thead th {\n",
       "        text-align: right;\n",
       "    }\n",
       "</style>\n",
       "<table border=\"1\" class=\"dataframe\">\n",
       "  <thead>\n",
       "    <tr style=\"text-align: right;\">\n",
       "      <th></th>\n",
       "      <th>servicecode</th>\n",
       "      <th>servicecodedescription</th>\n",
       "      <th>servicetypecodedescription</th>\n",
       "      <th>organizationacronym</th>\n",
       "      <th>servicecallcount</th>\n",
       "      <th>adddate</th>\n",
       "    </tr>\n",
       "    <tr>\n",
       "      <th>OBJECTID</th>\n",
       "      <th></th>\n",
       "      <th></th>\n",
       "      <th></th>\n",
       "      <th></th>\n",
       "      <th></th>\n",
       "      <th></th>\n",
       "    </tr>\n",
       "  </thead>\n",
       "  <tbody>\n",
       "    <tr>\n",
       "      <th>463232</th>\n",
       "      <td>S0011</td>\n",
       "      <td>Alley Cleaning</td>\n",
       "      <td>Street Cleaning</td>\n",
       "      <td>DPW</td>\n",
       "      <td>1</td>\n",
       "      <td>2014-01-02 13:27:40.000</td>\n",
       "    </tr>\n",
       "    <tr>\n",
       "      <th>463233</th>\n",
       "      <td>S0321</td>\n",
       "      <td>Recycling Collection - Missed</td>\n",
       "      <td>Recycling</td>\n",
       "      <td>DPW</td>\n",
       "      <td>1</td>\n",
       "      <td>2014-01-02 13:46:57.000</td>\n",
       "    </tr>\n",
       "    <tr>\n",
       "      <th>463234</th>\n",
       "      <td>S0031</td>\n",
       "      <td>Bulk Collection</td>\n",
       "      <td>Bulk Collection</td>\n",
       "      <td>DPW</td>\n",
       "      <td>1</td>\n",
       "      <td>2014-01-02 13:57:46.000</td>\n",
       "    </tr>\n",
       "    <tr>\n",
       "      <th>463235</th>\n",
       "      <td>S0311</td>\n",
       "      <td>Rat Abatement</td>\n",
       "      <td>DOH</td>\n",
       "      <td>DOH</td>\n",
       "      <td>1</td>\n",
       "      <td>2014-01-02 13:43:20.000</td>\n",
       "    </tr>\n",
       "    <tr>\n",
       "      <th>463236</th>\n",
       "      <td>S0276</td>\n",
       "      <td>Parking Meter Repair</td>\n",
       "      <td>TOA</td>\n",
       "      <td>DDOT</td>\n",
       "      <td>1</td>\n",
       "      <td>2014-01-02 16:00:59.000</td>\n",

       "    </tr>\n",
       "  </tbody>\n",
       "</table>\n",
       "</div>"
      ],
      "text/plain": [
       "         servicecode         servicecodedescription  \\\n",
       "OBJECTID                                              \n",
       "463232         S0011                 Alley Cleaning   \n",
       "463233         S0321  Recycling Collection - Missed   \n",
       "463234         S0031                Bulk Collection   \n",
       "463235         S0311                  Rat Abatement   \n",
       "463236         S0276           Parking Meter Repair   \n",
       "\n",
       "         servicetypecodedescription organizationacronym  servicecallcount  \\\n",
       "OBJECTID                                                                    \n",
       "463232              Street Cleaning                 DPW                 1   \n",
       "463233                    Recycling                 DPW                 1   \n",
       "463234              Bulk Collection                 DPW                 1   \n",
       "463235                          DOH                 DOH                 1   \n",
       "463236                          TOA                DDOT                 1   \n",
       "\n",
       "                          adddate  \n",
       "OBJECTID                           \n",
       "463232    2014-01-02 13:27:40.000  \n",
       "463233    2014-01-02 13:46:57.000  \n",
       "463234    2014-01-02 13:57:46.000  \n",
       "463235    2014-01-02 13:43:20.000  \n",
       "463236    2014-01-02 16:00:59.000  "
      ]
     },
     "execution_count": 28,
     "metadata": {},
     "output_type": "execute_result"
    }
   ],
   "source": [
    "csr_train.iloc[:5, :6]"
   ]
  },
  {
   "cell_type": "code",
   "execution_count": 29,
   "metadata": {
    "scrolled": true
   },
   "outputs": [
    {
     "data": {
      "text/html": [
       "<div>\n",
       "<style scoped>\n",
       "    .dataframe tbody tr th:only-of-type {\n",
       "        vertical-align: middle;\n",
       "    }\n",
       "\n",
       "    .dataframe tbody tr th {\n",
       "        vertical-align: top;\n",
       "    }\n",
       "\n",
       "    .dataframe thead th {\n",
       "        text-align: right;\n",
       "    }\n",
       "</style>\n",
       "<table border=\"1\" class=\"dataframe\">\n",
       "  <thead>\n",
       "    <tr style=\"text-align: right;\">\n",
       "      <th></th>\n",
       "      <th>resolutiondate</th>\n",
       "      <th>serviceduedate</th>\n",
       "      <th>serviceorderdate</th>\n",
       "      <th>inspectionflag</th>\n",
       "      <th>inspectiondate</th>\n",
       "      <th>serviceorderstatus</th>\n",
       "    </tr>\n",
       "    <tr>\n",
       "      <th>OBJECTID</th>\n",
       "      <th></th>\n",
       "      <th></th>\n",
       "      <th></th>\n",
       "      <th></th>\n",
       "      <th></th>\n",
       "      <th></th>\n",
       "    </tr>\n",
       "  </thead>\n",
       "  <tbody>\n",
       "    <tr>\n",
       "      <th>463232</th>\n",
       "      <td>2014-01-15 07:43:42.000</td>\n",
       "      <td>2014-02-18 13:27:40.000</td>\n",
       "      <td>2014-01-02 13:27:40.000</td>\n",
       "      <td>N</td>\n",
       "      <td>2000-01-01</td>\n",
       "      <td>CLOSED</td>\n",
       "    </tr>\n",
       "    <tr>\n",
       "      <th>463233</th>\n",
       "      <td>2014-01-06 12:39:39.000</td>\n",
       "      <td>2014-01-06 13:46:57.000</td>\n",
       "      <td>2014-01-02 13:46:57.000</td>\n",
       "      <td>N</td>\n",
       "      <td>2014-01-06 12:39:00.000</td>\n",
       "      <td>CLOSED</td>\n",
       "    </tr>\n",
       "    <tr>\n",
       "      <th>463234</th>\n",
       "      <td>2014-01-14 14:29:16.000</td>\n",
       "      <td>2014-01-23 13:57:46.000</td>\n",
       "      <td>2014-01-02 13:57:46.000</td>\n",
       "      <td>N</td>\n",
       "      <td>2000-01-01</td>\n",
       "      <td>CLOSED</td>\n",
       "    </tr>\n",
       "    <tr>\n",
       "      <th>463235</th>\n",
       "      <td>2000-01-01</td>\n",
       "      <td>2014-02-24 13:43:20.000</td>\n",
       "      <td>2014-01-02 13:43:20.000</td>\n",
       "      <td>N</td>\n",
       "      <td>2000-01-01</td>\n",
       "      <td>OPEN</td>\n",
       "    </tr>\n",
       "    <tr>\n",
       "      <th>463236</th>\n",
       "      <td>2014-01-07 16:33:48.000</td>\n",
       "      <td>2014-01-09 16:00:59.000</td>\n",
       "      <td>2014-01-02 16:00:59.000</td>\n",
       "      <td>N</td>\n",
       "      <td>2000-01-01</td>\n",
       "      <td>CLOSED</td>\n",
       "    </tr>\n",
       "  </tbody>\n",
       "</table>\n",
       "</div>"
      ],
      "text/plain": [
       "                   resolutiondate           serviceduedate  \\\n",
       "OBJECTID                                                     \n",
       "463232    2014-01-15 07:43:42.000  2014-02-18 13:27:40.000   \n",
       "463233    2014-01-06 12:39:39.000  2014-01-06 13:46:57.000   \n",
       "463234    2014-01-14 14:29:16.000  2014-01-23 13:57:46.000   \n",
       "463235                 2000-01-01  2014-02-24 13:43:20.000   \n",
       "463236    2014-01-07 16:33:48.000  2014-01-09 16:00:59.000   \n",
       "\n",
       "                 serviceorderdate inspectionflag           inspectiondate  \\\n",
       "OBJECTID                                                                    \n",
       "463232    2014-01-02 13:27:40.000              N               2000-01-01   \n",
       "463233    2014-01-02 13:46:57.000              N  2014-01-06 12:39:00.000   \n",
       "463234    2014-01-02 13:57:46.000              N               2000-01-01   \n",
       "463235    2014-01-02 13:43:20.000              N               2000-01-01   \n",
       "463236    2014-01-02 16:00:59.000              N               2000-01-01   \n",
       "\n",
       "         serviceorderstatus  \n",
       "OBJECTID                     \n",
       "463232               CLOSED  \n",
       "463233               CLOSED  \n",
       "463234               CLOSED  \n",
       "463235                 OPEN  \n",
       "463236               CLOSED  "
      ]
     },
     "execution_count": 29,
     "metadata": {},
     "output_type": "execute_result"
    }
   ],
   "source": [
    "csr_train.iloc[:5, 6:12]"
   ]
  },
  {
   "cell_type": "code",
   "execution_count": 12,
   "metadata": {},
   "outputs": [
    {
     "data": {
      "text/html": [
       "<div>\n",
       "<style scoped>\n",
       "    .dataframe tbody tr th:only-of-type {\n",
       "        vertical-align: middle;\n",
       "    }\n",
       "\n",
       "    .dataframe tbody tr th {\n",
       "        vertical-align: top;\n",
       "    }\n",
       "\n",
       "    .dataframe thead th {\n",
       "        text-align: right;\n",
       "    }\n",
       "</style>\n",
       "<table border=\"1\" class=\"dataframe\">\n",
       "  <thead>\n",
       "    <tr style=\"text-align: right;\">\n",
       "      <th></th>\n",
       "      <th>INSPECTIONFLAG</th>\n",
       "      <th>INSPECTIONDATE</th>\n",
       "      <th>INSPECTORNAME</th>\n",
       "      <th>SERVICEORDERSTATUS</th>\n",
       "      <th>STATUS_CODE</th>\n",
       "      <th>SERVICEREQUESTID</th>\n",
       "    </tr>\n",
       "  </thead>\n",
       "  <tbody>\n",
       "    <tr>\n",
       "      <th>0</th>\n",
       "      <td>N</td>\n",
       "      <td>NaN</td>\n",
       "      <td>NaN</td>\n",
       "      <td>CLOSED</td>\n",
       "      <td>NaN</td>\n",
       "      <td>14-00000654</td>\n",
       "    </tr>\n",
       "    <tr>\n",
       "      <th>1</th>\n",
       "      <td>N</td>\n",
       "      <td>2014-01-06T12:39:00.000Z</td>\n",
       "      <td>Bryant, Kevin</td>\n",
       "      <td>CLOSED</td>\n",
       "      <td>NaN</td>\n",
       "      <td>14-00000686</td>\n",
       "    </tr>\n",
       "    <tr>\n",
       "      <th>2</th>\n",
       "      <td>N</td>\n",
       "      <td>NaN</td>\n",
       "      <td>NaN</td>\n",
       "      <td>CLOSED</td>\n",
       "      <td>NaN</td>\n",
       "      <td>14-00000707</td>\n",
       "      <td>STANDARD</td>\n",
       "      <td>2333 FAIRLAWN AVENUE SE</td>\n",
       "      <td>402526.12</td>\n",
       "    </tr>\n",
       "    <tr>\n",
       "      <th>3</th>\n",
       "      <td>OPEN</td>\n",
       "      <td>NaN</td>\n",
       "      <td>14-00000677</td>\n",
       "      <td>STANDARD</td>\n",
       "      <td>720 VARNUM STREET NW</td>\n",
       "      <td>398034.18</td>\n",
       "    </tr>\n",
       "    <tr>\n",
       "      <th>4</th>\n",
       "      <td>CLOSED</td>\n",
       "      <td>NaN</td>\n",
       "      <td>14-00000877</td>\n",
       "      <td>STANDARD</td>\n",
       "      <td>700 - 799 BLOCK OF 22ND STREET NW</td>\n",
       "      <td>395763.56</td>\n",
       "    </tr>\n",
       "  </tbody>\n",
       "</table>\n",
       "</div>"
      ],
      "text/plain": [
       "  serviceorderstatus status_code servicerequestid  priority  \\\n",
       "0             CLOSED         NaN      14-00000654  STANDARD   \n",
       "1             CLOSED         NaN      14-00000686  STANDARD   \n",
       "2             CLOSED         NaN      14-00000707  STANDARD   \n",
       "3               OPEN         NaN      14-00000677  STANDARD   \n",
       "4             CLOSED         NaN      14-00000877  STANDARD   \n",
       "\n",
       "                       streetaddress     xcoord  \n",
       "0               2301 BENNING ROAD NE  402365.36  \n",
       "1        1004 RHODE ISLAND AVENUE NE  400701.99  \n",
       "2            2333 FAIRLAWN AVENUE SE  402526.12  \n",
       "3               720 VARNUM STREET NW  398034.18  \n",
       "4  700 - 799 BLOCK OF 22ND STREET NW  395763.56  "
      ]
     },
     "execution_count": 12,
     "metadata": {},
     "output_type": "execute_result"
    }
   ],
   "source": [
    "csr_train.iloc[:5, 12:18]"
   ]
  },
  {
   "cell_type": "code",
   "execution_count": 13,
   "metadata": {
    "scrolled": true
   },
   "outputs": [
    {
     "data": {
      "text/html": [
       "<div>\n",
       "<style scoped>\n",
       "    .dataframe tbody tr th:only-of-type {\n",
       "        vertical-align: middle;\n",
       "    }\n",
       "\n",
       "    .dataframe tbody tr th {\n",
       "        vertical-align: top;\n",
       "    }\n",
       "\n",
       "    .dataframe thead th {\n",
       "        text-align: right;\n",
       "    }\n",
       "</style>\n",
       "<table border=\"1\" class=\"dataframe\">\n",
       "  <thead>\n",
       "    <tr style=\"text-align: right;\">\n",
       "      <th></th>\n",
       "      <th>ycoord</th>\n",
       "      <th>latitude</th>\n",
       "      <th>longitude</th>\n",
       "      <th>details</th>\n",
       "    </tr>\n",
       "  </thead>\n",
       "  <tbody>\n",
       "    <tr>\n",
       "      <th>0</th>\n",
       "      <td>136678.02</td>\n",
       "      <td>38.897950</td>\n",
       "      <td>-76.972732</td>\n",
       "      <td>There is some dumping in the rear of this addr...</td>\n",
       "    </tr>\n",
       "    <tr>\n",
       "      <th>1</th>\n",
       "      <td>139442.62</td>\n",
       "      <td>38.922857</td>\n",
       "      <td>-76.991905</td>\n",
       "      <td>Has not been collected the past 4 weeks.</td>\n",
       "    </tr>\n",
       "    <tr>\n",
       "      <th>2</th>\n",
       "      <td>134101.82</td>\n",
       "      <td>38.874742</td>\n",
       "      <td>-76.970889</td>\n",
       "      <td>1 television, 2 vacuums, 1 boom box,</td>\n",
       "    </tr>\n",
       "    <tr>\n",
       "      <th>3</th>\n",
       "      <td>141657.91</td>\n",
       "      <td>38.942811</td>\n",
       "      <td>-77.022676</td>\n",
       "      <td>requesting ratb abatement</td>\n",
       "    </tr>\n",
       "    <tr>\n",
       "      <th>4</th>\n",
       "      <td>136790.11</td>\n",
       "      <td>38.898952</td>\n",
       "      <td>-77.048838</td>\n",
       "      <td>Broken Parking Meter</td>\n",
       "    </tr>\n",
       "  </tbody>\n",
       "</table>\n",
       "</div>"
      ],
      "text/plain": [
       "      ycoord   latitude  longitude  \\\n",
       "0  136678.02  38.897950 -76.972732   \n",
       "1  139442.62  38.922857 -76.991905   \n",
       "2  134101.82  38.874742 -76.970889   \n",
       "3  141657.91  38.942811 -77.022676   \n",
       "4  136790.11  38.898952 -77.048838   \n",
       "\n",
       "                                             details  \n",
       "0  There is some dumping in the rear of this addr...  \n",
       "1           Has not been collected the past 4 weeks.  \n",
       "2               1 television, 2 vacuums, 1 boom box,  \n",
       "3                          requesting ratb abatement  \n",
       "4                               Broken Parking Meter  "
      ]
     },
     "execution_count": 13,
     "metadata": {},
     "output_type": "execute_result"
    }
   ],
   "source": [
    "csr_train.iloc[:5, 18:24]"
   ]
  },
  {
   "cell_type": "markdown",
   "metadata": {},
   "source": [
    "##### Check with some categorical columns' values and find typos or misspelled. "
   ]
  },
  {
   "cell_type": "code",
   "execution_count": 136,
   "metadata": {
    "scrolled": false
   },
   "outputs": [
    {
     "data": {
      "text/plain": [
       "STANDARD     1179004\n",
       "URGENT         24585\n",
       "EMERGNCY       23635\n",
       "EMERGENCY       1189\n",
       "PRIORITY         141\n",
       "ESCALATED          1\n",
       "PRIOR003           1\n",
       "Name: PRIORITY, dtype: int64"
      ]
     },
     "execution_count": 136,
     "metadata": {},
     "output_type": "execute_result"
    }
   ],
   "source": [
    "csr_train.PRIORITY.value_counts()"
   ]
  },
  {
   "cell_type": "markdown",
   "metadata": {},
   "source": [
    "##### Preprocessing"
   ]
  },
  {
   "cell_type": "code",
   "execution_count": 137,
   "metadata": {
    "scrolled": false
   },
   "outputs": [],
   "source": [
    "# create preprocess function\n",
    "\n",
    "def crimespot_preprocess(df):\n",
    "    # Removing unused or redundent information\n",
    "    csr_train.drop(['INSPECTORNAME', 'CITY', 'STATE', 'X', 'Y'], axis=1, inplace=True)\n",
    "    csr_train.columns = map(str.lower, csr_train.columns) # Easier to work with lowercase columns\n",
    "\n",
    "    # fill nan values to 0\n",
    "    csr_train.serviceduedate.fillna('0', inplace=True)\n",
    "    csr_train.resolutiondate.fillna('0', inplace=True)\n",
    "    csr_train.inspectiondate.fillna('0', inplace=True)\n",
    "    \n",
    "    # replace values\n",
    "    csr_train.priority.replace(\"EMERGNCY\", \"EMERGENCY\")\n",
    "    \n",
    "    # clean up datetime related data\n",
    "    timestamp = ['adddate', 'resolutiondate', 'serviceduedate', 'serviceorderdate', 'inspectiondate']\n",
    "    for x in timestamp:\n",
    "        csr_train[x] = csr_train[x].map(lambda x: x.strip('Z').replace('T', ' '))\n",
    "    \n",
    "    # treat zipcode as string and strip\n",
    "    csr_train.zipcode = csr_train.zipcode.astype(str).str.strip().str.strip('.0')\n",
    "\n",
    "    # (KS) make single line to combine Brian's on 'Ward'\n",
    "    csr_train.ward = csr_train.ward.astype(str).map(lambda x: x.strip('Ward')).str.strip().str.strip('.0')\n",
    "\n",
    "    return df\n",
    "\n",
    "csr_train = crimespot_preprocess(csr_train)"
   ]
  },
  {
   "cell_type": "markdown",
   "metadata": {},
   "source": [
    "##### Remainders for the preprocessing (responsible - Kihoon)"
   ]
  },
  {
   "cell_type": "code",
   "execution_count": 138,
   "metadata": {},
   "outputs": [
    {
     "data": {
      "text/plain": [
       "2      254937\n",
       "6      214903\n",
       "4      158945\n",
       "5      153126\n",
       "1      127995\n",
       "7      119438\n",
       "3      114738\n",
       "8       80930\n",
       "nan      6221\n",
       "Name: ward, dtype: int64"
      ]
     },
     "execution_count": 138,
     "metadata": {},
     "output_type": "execute_result"
    }
   ],
   "source": [
    "csr_train.ward.value_counts()"
   ]
  },
  {
   "cell_type": "code",
   "execution_count": null,
   "metadata": {},
   "outputs": [],
   "source": [
    "# (BC)'s code on 6221 missing(nan) values. Maybe we can put in the Ward based on Zipcode\n",
    "\n",
    "# Since it is no longer, null data. How to fix it? (KS)\n",
    "\n",
    "# for index, row in csr_train.iterrows():\n",
    "#     if(pd.isnull(row['WARD'])):\n",
    "#         row['WARD'] = row['ZIPCODE']\n",
    "#         #         for x in csr_train:\n",
    "# #     if pd.isnull(x):\n",
    "# #         x['WARD'] = csr_train.ZIPCODE\n"
   ]
  },
  {
   "cell_type": "markdown",
   "metadata": {},
   "source": [
    "##### New challenge here, team! Thousands of spoiled zipcode data detected .\n",
    "- Initially, team assumed that we have only 16 null values to manually map zipcode by address\n",
    "- However, apparently there were tons of spoiled zipcodes. \n",
    "- Primarily, Kihoon will take a look on this to fix."
   ]
  },
  {
   "cell_type": "code",
   "execution_count": 139,
   "metadata": {
    "scrolled": true
   },
   "outputs": [
    {
     "data": {
      "text/plain": [
       "20002    144190\n",
       "20011    123232\n",
       "20001    119199\n",
       "20019     90170\n",
       "20009     80421\n",
       "2002      66351\n",
       "20007     61568\n",
       "20003     61316\n",
       "2001      51723\n",
       "20016     48526\n",
       "20032     37641\n",
       "20018     37447\n",
       "20008     34014\n",
       "20005     33947\n",
       "20017     33281\n",
       "20015     31462\n",
       "20037     30120\n",
       "20036     29633\n",
       "20024     29490\n",
       "20012     28990\n",
       "20006     22403\n",
       "20004     19572\n",
       "20052      4942\n",
       "20415      1011\n",
       "20059       966\n",
       "2025        854\n",
       "2024        636\n",
       "20405       601\n",
       "20201       553\n",
       "20057       523\n",
       "          ...  \n",
       "20886         1\n",
       "2122          1\n",
       "36            1\n",
       "-12           1\n",
       "20613         1\n",
       "28272         1\n",
       "20135         1\n",
       "2051          1\n",
       "83127         1\n",
       "-4115         1\n",
       "23294         1\n",
       "1             1\n",
       "-1254         1\n",
       "16            1\n",
       "20705         1\n",
       "22406         1\n",
       "60435         1\n",
       "-1865         1\n",
       "22046         1\n",
       "20906         1\n",
       "-2103         1\n",
       "2077          1\n",
       "2             1\n",
       "-2207         1\n",
       "20746         1\n",
       "9002          1\n",
       "-2326         1\n",
       "20783         1\n",
       "11            1\n",
       "24577         1\n",
       "Name: zipcode, Length: 179, dtype: int64"
      ]
     },
     "execution_count": 139,
     "metadata": {},
     "output_type": "execute_result"
    }
   ],
   "source": [
    "csr_train.zipcode.value_counts()"
   ]
  },
  {
   "cell_type": "markdown",
   "metadata": {},
   "source": [
    "##### Teams, two datasets have different digits in the Lat's and Long's. Will it be matters? (KS)\n",
    "- Exec decision) keep Lats/Longs for 4 decimal points as 11m errors."
   ]
  },
  {
   "cell_type": "code",
   "execution_count": 5,
   "metadata": {},
   "outputs": [
    {
     "data": {
      "text/html": [
       "<div>\n",
       "<style scoped>\n",
       "    .dataframe tbody tr th:only-of-type {\n",
       "        vertical-align: middle;\n",
       "    }\n",
       "\n",
       "    .dataframe tbody tr th {\n",
       "        vertical-align: top;\n",
       "    }\n",
       "\n",
       "    .dataframe thead th {\n",
       "        text-align: right;\n",
       "    }\n",
       "</style>\n",
       "<table border=\"1\" class=\"dataframe\">\n",
       "  <thead>\n",
       "    <tr style=\"text-align: right;\">\n",
       "      <th></th>\n",
       "      <th>LATITUDE</th>\n",
       "      <th>LONGITUDE</th>\n",
       "    </tr>\n",
       "  </thead>\n",
       "  <tbody>\n",
       "    <tr>\n",
       "      <th>0</th>\n",
       "      <td>38.897950</td>\n",
       "      <td>-76.972732</td>\n",
       "    </tr>\n",
       "    <tr>\n",
       "      <th>1</th>\n",
       "      <td>38.922857</td>\n",
       "      <td>-76.991905</td>\n",
       "    </tr>\n",
       "    <tr>\n",
       "      <th>2</th>\n",
       "      <td>38.874742</td>\n",
       "      <td>-76.970889</td>\n",
       "    </tr>\n",
       "    <tr>\n",
       "      <th>3</th>\n",
       "      <td>38.942811</td>\n",
       "      <td>-77.022676</td>\n",
       "    </tr>\n",
       "    <tr>\n",
       "      <th>4</th>\n",
       "      <td>38.898952</td>\n",
       "      <td>-77.048838</td>\n",
       "    </tr>\n",
       "  </tbody>\n",
       "</table>\n",
       "</div>"
      ],
      "text/plain": [
       "    LATITUDE  LONGITUDE\n",
       "0  38.897950 -76.972732\n",
       "1  38.922857 -76.991905\n",
       "2  38.874742 -76.970889\n",
       "3  38.942811 -77.022676\n",
       "4  38.898952 -77.048838"
      ]
     },
     "execution_count": 5,
     "metadata": {},
     "output_type": "execute_result"
    }
   ],
   "source": [
    "csr_train[['LATITUDE', 'LONGITUDE']].head()"
   ]
  },
  {
   "cell_type": "code",
   "execution_count": 6,
   "metadata": {},
   "outputs": [
    {
     "data": {
      "text/html": [
       "<div>\n",
       "<style scoped>\n",
       "    .dataframe tbody tr th:only-of-type {\n",
       "        vertical-align: middle;\n",
       "    }\n",
       "\n",
       "    .dataframe tbody tr th {\n",
       "        vertical-align: top;\n",
       "    }\n",
       "\n",
       "    .dataframe thead th {\n",
       "        text-align: right;\n",
       "    }\n",
       "</style>\n",
       "<table border=\"1\" class=\"dataframe\">\n",
       "  <thead>\n",
       "    <tr style=\"text-align: right;\">\n",
       "      <th></th>\n",
       "      <th>Latitude</th>\n",
       "      <th>Longitude</th>\n",
       "    </tr>\n",
       "  </thead>\n",
       "  <tbody>\n",
       "    <tr>\n",
       "      <th>0</th>\n",
       "      <td>38.917</td>\n",
       "      <td>-77.012</td>\n",
       "    </tr>\n",
       "    <tr>\n",
       "      <th>1</th>\n",
       "      <td>38.917</td>\n",
       "      <td>-77.002</td>\n",
       "    </tr>\n",
       "    <tr>\n",
       "      <th>2</th>\n",
       "      <td>38.917</td>\n",
       "      <td>-76.987</td>\n",
       "    </tr>\n",
       "    <tr>\n",
       "      <th>3</th>\n",
       "      <td>38.823</td>\n",
       "      <td>-77.000</td>\n",
       "    </tr>\n",
       "    <tr>\n",
       "      <th>4</th>\n",
       "      <td>38.893</td>\n",
       "      <td>-76.993</td>\n",
       "    </tr>\n",
       "  </tbody>\n",
       "</table>\n",
       "</div>"
      ],
      "text/plain": [
       "   Latitude  Longitude\n",
       "0    38.917    -77.012\n",
       "1    38.917    -77.002\n",
       "2    38.917    -76.987\n",
       "3    38.823    -77.000\n",
       "4    38.893    -76.993"
      ]
     },
     "execution_count": 6,
     "metadata": {},
     "output_type": "execute_result"
    }
   ],
   "source": [
    "shots_train[['Latitude', 'Longitude']].head()"
   ]
  }
 ],
 "metadata": {
  "kernelspec": {
   "display_name": "Python [default]",
   "language": "python",
   "name": "python3"
  },
  "language_info": {
   "codemirror_mode": {
    "name": "ipython",
    "version": 3
   },
   "file_extension": ".py",
   "mimetype": "text/x-python",
   "name": "python",
   "nbconvert_exporter": "python",
   "pygments_lexer": "ipython3",
   "version": "3.6.5"
  }
 },
 "nbformat": 4,
 "nbformat_minor": 2
}
