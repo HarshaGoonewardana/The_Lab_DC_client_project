{
 "cells": [
  {
   "cell_type": "markdown",
   "metadata": {},
   "source": [
    "# Client Project: The Lab @ DC"
   ]
  },
  {
   "cell_type": "markdown",
   "metadata": {},
   "source": [
    "## Project Title: {here}"
   ]
  },
  {
   "cell_type": "markdown",
   "metadata": {},
   "source": [
    "### Authors: {names}\n",
    "- Cohorts of the Data Science Immersive, General Assembly @ Washington DC campus"
   ]
  },
  {
   "cell_type": "markdown",
   "metadata": {},
   "source": [
    "In this notebook, we have Exploratory Data Analysis on the datasets. **This is notebook 2 of 3.**"
   ]
  },
  {
   "cell_type": "markdown",
   "metadata": {},
   "source": [
    "### Import Libraries"
   ]
  },
  {
   "cell_type": "code",
   "execution_count": 77,
   "metadata": {},
   "outputs": [],
   "source": [
    "# import basic libraries\n",
    "\n",
    "import pandas as pd\n",
    "import numpy as np\n",
    "import matplotlib.pyplot as plt\n",
    "\n",
    "%matplotlib inline"
   ]
  },
  {
   "cell_type": "markdown",
   "metadata": {},
   "source": [
    "### Read CSVs"
   ]
  },
  {
   "cell_type": "code",
   "execution_count": 78,
   "metadata": {},
   "outputs": [],
   "source": [
    "csr_train   = pd.read_csv('./assets/csr/csr_train.csv', low_memory=False)\n",
    "shots_train = pd.read_csv('./assets/mpd/shots_train.csv', low_memory=False)\n",
    "shots_test  = pd.read_csv('./assets/mpd/shots_test.csv', low_memory=False)"
   ]
  },
  {
   "cell_type": "markdown",
   "metadata": {},
   "source": [
    "### Basic EDAs and Data Cleaning"
   ]
  },
  {
   "cell_type": "code",
   "execution_count": 79,
   "metadata": {},
   "outputs": [
    {
     "name": "stdout",
     "output_type": "stream",
     "text": [
      "<class 'pandas.core.frame.DataFrame'>\n",
      "RangeIndex: 1231233 entries, 0 to 1231232\n",
      "Data columns (total 31 columns):\n",
      "Unnamed: 0                    1231233 non-null int64\n",
      "X                             1231233 non-null float64\n",
      "Y                             1231233 non-null float64\n",
      "OBJECTID                      1231233 non-null int64\n",
      "SERVICECODE                   1231233 non-null object\n",
      "SERVICECODEDESCRIPTION        1231233 non-null object\n",
      "SERVICETYPECODEDESCRIPTION    1230379 non-null object\n",
      "ORGANIZATIONACRONYM           1231232 non-null object\n",
      "SERVICECALLCOUNT              1231233 non-null int64\n",
      "ADDDATE                       1231233 non-null object\n",
      "RESOLUTIONDATE                1145201 non-null object\n",
      "SERVICEDUEDATE                1218530 non-null object\n",
      "SERVICEORDERDATE              1231233 non-null object\n",
      "INSPECTIONFLAG                1231233 non-null object\n",
      "INSPECTIONDATE                434130 non-null object\n",
      "INSPECTORNAME                 40361 non-null object\n",
      "SERVICEORDERSTATUS            1230380 non-null object\n",
      "STATUS_CODE                   1079432 non-null object\n",
      "SERVICEREQUESTID              1231233 non-null object\n",
      "PRIORITY                      1228556 non-null object\n",
      "STREETADDRESS                 1181503 non-null object\n",
      "XCOORD                        1231233 non-null float64\n",
      "YCOORD                        1231233 non-null float64\n",
      "LATITUDE                      1231233 non-null float64\n",
      "LONGITUDE                     1231233 non-null float64\n",
      "CITY                          1180909 non-null object\n",
      "STATE                         1180909 non-null object\n",
      "ZIPCODE                       1231217 non-null float64\n",
      "MARADDRESSREPOSITORYID        1042071 non-null float64\n",
      "WARD                          1225012 non-null object\n",
      "DETAILS                       786667 non-null object\n",
      "dtypes: float64(8), int64(3), object(20)\n",
      "memory usage: 291.2+ MB\n"
     ]
    }
   ],
   "source": [
    "csr_train.info()"
   ]
  },
  {
   "cell_type": "code",
   "execution_count": 80,
   "metadata": {},
   "outputs": [
    {
     "data": {
      "text/plain": [
       "INSPECTORNAME                 1190872\n",
       "INSPECTIONDATE                 797103\n",
       "DETAILS                        444566\n",
       "MARADDRESSREPOSITORYID         189162\n",
       "STATUS_CODE                    151801\n",
       "RESOLUTIONDATE                  86032\n",
       "CITY                            50324\n",
       "STATE                           50324\n",
       "STREETADDRESS                   49730\n",
       "SERVICEDUEDATE                  12703\n",
       "WARD                             6221\n",
       "PRIORITY                         2677\n",
       "SERVICETYPECODEDESCRIPTION        854\n",
       "SERVICEORDERSTATUS                853\n",
       "ZIPCODE                            16\n",
       "ORGANIZATIONACRONYM                 1\n",
       "SERVICECALLCOUNT                    0\n",
       "SERVICECODE                         0\n",
       "OBJECTID                            0\n",
       "Y                                   0\n",
       "X                                   0\n",
       "SERVICECODEDESCRIPTION              0\n",
       "INSPECTIONFLAG                      0\n",
       "ADDDATE                             0\n",
       "SERVICEORDERDATE                    0\n",
       "SERVICEREQUESTID                    0\n",
       "XCOORD                              0\n",
       "YCOORD                              0\n",
       "LATITUDE                            0\n",
       "LONGITUDE                           0\n",
       "Unnamed: 0                          0\n",
       "dtype: int64"
      ]
     },
     "execution_count": 80,
     "metadata": {},
     "output_type": "execute_result"
    }
   ],
   "source": [
    "csr_train.isnull().sum().sort_values(ascending=False)"
   ]
  },
  {
   "cell_type": "code",
   "execution_count": 81,
   "metadata": {},
   "outputs": [
    {
     "data": {
      "text/html": [
       "<div>\n",
       "<style scoped>\n",
       "    .dataframe tbody tr th:only-of-type {\n",
       "        vertical-align: middle;\n",
       "    }\n",
       "\n",
       "    .dataframe tbody tr th {\n",
       "        vertical-align: top;\n",
       "    }\n",
       "\n",
       "    .dataframe thead th {\n",
       "        text-align: right;\n",
       "    }\n",
       "</style>\n",
       "<table border=\"1\" class=\"dataframe\">\n",
       "  <thead>\n",
       "    <tr style=\"text-align: right;\">\n",
       "      <th></th>\n",
       "      <th>Unnamed: 0</th>\n",
       "      <th>ID</th>\n",
       "      <th>Type</th>\n",
       "      <th>Date</th>\n",
       "      <th>Time</th>\n",
       "      <th>Source</th>\n",
       "      <th>Latitude</th>\n",
       "      <th>Longitude</th>\n",
       "    </tr>\n",
       "  </thead>\n",
       "  <tbody>\n",
       "    <tr>\n",
       "      <th>0</th>\n",
       "      <td>0</td>\n",
       "      <td>5D39700</td>\n",
       "      <td>Multiple_Gunshots</td>\n",
       "      <td>2014-01-01</td>\n",
       "      <td>00:00:02</td>\n",
       "      <td>WashingtonDC5D</td>\n",
       "      <td>38.917</td>\n",
       "      <td>-77.012</td>\n",
       "    </tr>\n",
       "    <tr>\n",
       "      <th>1</th>\n",
       "      <td>1</td>\n",
       "      <td>5D39701</td>\n",
       "      <td>Multiple_Gunshots</td>\n",
       "      <td>2014-01-01</td>\n",
       "      <td>00:00:06</td>\n",
       "      <td>WashingtonDC5D</td>\n",
       "      <td>38.917</td>\n",
       "      <td>-77.002</td>\n",
       "    </tr>\n",
       "    <tr>\n",
       "      <th>2</th>\n",
       "      <td>2</td>\n",
       "      <td>5D39702</td>\n",
       "      <td>Multiple_Gunshots</td>\n",
       "      <td>2014-01-01</td>\n",
       "      <td>00:00:07</td>\n",
       "      <td>WashingtonDC5D</td>\n",
       "      <td>38.917</td>\n",
       "      <td>-76.987</td>\n",
       "    </tr>\n",
       "    <tr>\n",
       "      <th>3</th>\n",
       "      <td>3</td>\n",
       "      <td>7D119445</td>\n",
       "      <td>Multiple_Gunshots</td>\n",
       "      <td>2014-01-01</td>\n",
       "      <td>00:00:10</td>\n",
       "      <td>WashingtonDC7D</td>\n",
       "      <td>38.823</td>\n",
       "      <td>-77.000</td>\n",
       "    </tr>\n",
       "    <tr>\n",
       "      <th>4</th>\n",
       "      <td>4</td>\n",
       "      <td>1D55993</td>\n",
       "      <td>Multiple_Gunshots</td>\n",
       "      <td>2014-01-01</td>\n",
       "      <td>00:00:10</td>\n",
       "      <td>WashingtonDC1D</td>\n",
       "      <td>38.893</td>\n",
       "      <td>-76.993</td>\n",
       "    </tr>\n",
       "  </tbody>\n",
       "</table>\n",
       "</div>"
      ],
      "text/plain": [
       "   Unnamed: 0        ID               Type        Date      Time  \\\n",
       "0           0   5D39700  Multiple_Gunshots  2014-01-01  00:00:02   \n",
       "1           1   5D39701  Multiple_Gunshots  2014-01-01  00:00:06   \n",
       "2           2   5D39702  Multiple_Gunshots  2014-01-01  00:00:07   \n",
       "3           3  7D119445  Multiple_Gunshots  2014-01-01  00:00:10   \n",
       "4           4   1D55993  Multiple_Gunshots  2014-01-01  00:00:10   \n",
       "\n",
       "           Source  Latitude  Longitude  \n",
       "0  WashingtonDC5D    38.917    -77.012  \n",
       "1  WashingtonDC5D    38.917    -77.002  \n",
       "2  WashingtonDC5D    38.917    -76.987  \n",
       "3  WashingtonDC7D    38.823    -77.000  \n",
       "4  WashingtonDC1D    38.893    -76.993  "
      ]
     },
     "execution_count": 81,
     "metadata": {},
     "output_type": "execute_result"
    }
   ],
   "source": [
    "shots_train.head()"
   ]
  },
  {
   "cell_type": "code",
   "execution_count": 82,
   "metadata": {},
   "outputs": [
    {
     "data": {
      "text/plain": [
       "(28343, 8)"
      ]
     },
     "execution_count": 82,
     "metadata": {},
     "output_type": "execute_result"
    }
   ],
   "source": [
    "shots_train.shape"
   ]
  },
  {
   "cell_type": "code",
   "execution_count": 83,
   "metadata": {},
   "outputs": [
    {
     "name": "stdout",
     "output_type": "stream",
     "text": [
      "<class 'pandas.core.frame.DataFrame'>\n",
      "RangeIndex: 28343 entries, 0 to 28342\n",
      "Data columns (total 8 columns):\n",
      "Unnamed: 0    28343 non-null int64\n",
      "ID            28339 non-null object\n",
      "Type          28343 non-null object\n",
      "Date          28343 non-null object\n",
      "Time          28343 non-null object\n",
      "Source        28343 non-null object\n",
      "Latitude      28343 non-null float64\n",
      "Longitude     28343 non-null float64\n",
      "dtypes: float64(2), int64(1), object(5)\n",
      "memory usage: 1.7+ MB\n"
     ]
    }
   ],
   "source": [
    "shots_train.info()"
   ]
  },
  {
   "cell_type": "code",
   "execution_count": 84,
   "metadata": {},
   "outputs": [
    {
     "name": "stdout",
     "output_type": "stream",
     "text": [
      "<class 'pandas.core.frame.DataFrame'>\n",
      "RangeIndex: 28343 entries, 0 to 28342\n",
      "Data columns (total 8 columns):\n",
      "Unnamed: 0    28343 non-null int64\n",
      "ID            28339 non-null object\n",
      "Type          28343 non-null object\n",
      "Date          28343 non-null object\n",
      "Time          28343 non-null object\n",
      "Source        28343 non-null object\n",
      "Latitude      28343 non-null float64\n",
      "Longitude     28343 non-null float64\n",
      "dtypes: float64(2), int64(1), object(5)\n",
      "memory usage: 1.7+ MB\n"
     ]
    }
   ],
   "source": [
    "shots_train.info()"
   ]
  },
  {
   "cell_type": "code",
   "execution_count": 85,
   "metadata": {},
   "outputs": [],
   "source": [
    "def shot_spot_preprocess(df):\n",
    "    shots_train.set_index(['ID'], inplace=True)\n",
    "    shots_train.drop(['Unnamed: 0'], axis=1, inplace=True)\n",
    "    shots_train.Source = shots_train.Source.apply(lambda DC: DC.replace('WashingtonDC', ''))\n",
    "    shots_train.Date = pd.to_datetime(shots_train.Date)\n",
    "    shots_train.Time = pd.to_datetime(shots_train.Time)\n",
    "    return df\n",
    "\n",
    "shots_spot = shot_spot_preprocess(shots_train)"
   ]
  },
  {
   "cell_type": "code",
   "execution_count": null,
   "metadata": {},
   "outputs": [],
   "source": [
    "def crimespot_preprocess(df):\n",
    "    # Removing unused or redundent information\n",
    "    csr_train.drop(['Unnamed: 0', 'INSPECTORNAME', 'CITY', 'STATE', 'X', 'Y'], axis=1, inplace=True)\n",
    "    csr_train.columns = map(str.lower, csr_train.columns) # Easier to work with lowercase columns\n",
    "    csr_train.serviceduedate.fillna('0', inplace=True)\n",
    "    csr_train.resolutiondate.fillna('0', inplace=True)\n",
    "    csr_train.inspectiondate.fillna('0', inplace=True)\n",
    "    timestamp = ['adddate', 'resolutiondate', 'serviceduedate', 'serviceorderdate', 'inspectiondate']\n",
    "    for x in timestamp:\n",
    "        csr_train[x] = csr_train[x].map(lambda x: x.strip('Z').replace('T', ' '))\n",
    "    csr_train.zipcode.dropna(inplace=True) # only 16 null values.\n",
    "    csr_train.zipcode = csr_train.zipcode.astype(int)\n",
    "    csr_train.ward.dropna(inplace=True) # missing 6221. Maybe we can put in the Ward based on Zipcode\n",
    "    csr_train.ward = csr_train.ward.map(lambda x: x.strip('Ward'))\n",
    "    return df\n",
    "\n",
    "crimespot_preprocess(csr_train)"
   ]
  },
  {
   "cell_type": "code",
   "execution_count": 101,
   "metadata": {
    "scrolled": true
   },
   "outputs": [
    {
     "data": {
      "text/html": [
       "<div>\n",
       "<style scoped>\n",
       "    .dataframe tbody tr th:only-of-type {\n",
       "        vertical-align: middle;\n",
       "    }\n",
       "\n",
       "    .dataframe tbody tr th {\n",
       "        vertical-align: top;\n",
       "    }\n",
       "\n",
       "    .dataframe thead th {\n",
       "        text-align: right;\n",
       "    }\n",
       "</style>\n",
       "<table border=\"1\" class=\"dataframe\">\n",
       "  <thead>\n",
       "    <tr style=\"text-align: right;\">\n",
       "      <th></th>\n",
       "      <th>objectid</th>\n",
       "      <th>servicecode</th>\n",
       "      <th>servicecodedescription</th>\n",
       "      <th>servicetypecodedescription</th>\n",
       "      <th>organizationacronym</th>\n",
       "      <th>servicecallcount</th>\n",
       "    </tr>\n",
       "  </thead>\n",
       "  <tbody>\n",
       "    <tr>\n",
       "      <th>0</th>\n",
       "      <td>463232</td>\n",
       "      <td>S0011</td>\n",
       "      <td>Alley Cleaning</td>\n",
       "      <td>Street Cleaning</td>\n",
       "      <td>DPW</td>\n",
       "      <td>1</td>\n",
       "    </tr>\n",
       "    <tr>\n",
       "      <th>1</th>\n",
       "      <td>463233</td>\n",
       "      <td>S0321</td>\n",
       "      <td>Recycling Collection - Missed</td>\n",
       "      <td>Recycling</td>\n",
       "      <td>DPW</td>\n",
       "      <td>1</td>\n",
       "    </tr>\n",
       "    <tr>\n",
       "      <th>2</th>\n",
       "      <td>463234</td>\n",
       "      <td>S0031</td>\n",
       "      <td>Bulk Collection</td>\n",
       "      <td>Bulk Collection</td>\n",
       "      <td>DPW</td>\n",
       "      <td>1</td>\n",
       "    </tr>\n",
       "    <tr>\n",
       "      <th>3</th>\n",
       "      <td>463235</td>\n",
       "      <td>S0311</td>\n",
       "      <td>Rat Abatement</td>\n",
       "      <td>DOH</td>\n",
       "      <td>DOH</td>\n",
       "      <td>1</td>\n",
       "    </tr>\n",
       "    <tr>\n",
       "      <th>4</th>\n",
       "      <td>463236</td>\n",
       "      <td>S0276</td>\n",
       "      <td>Parking Meter Repair</td>\n",
       "      <td>TOA</td>\n",
       "      <td>DDOT</td>\n",
       "      <td>1</td>\n",
       "    </tr>\n",
       "  </tbody>\n",
       "</table>\n",
       "</div>"
      ],
      "text/plain": [
       "   objectid servicecode         servicecodedescription  \\\n",
       "0    463232       S0011                 Alley Cleaning   \n",
       "1    463233       S0321  Recycling Collection - Missed   \n",
       "2    463234       S0031                Bulk Collection   \n",
       "3    463235       S0311                  Rat Abatement   \n",
       "4    463236       S0276           Parking Meter Repair   \n",
       "\n",
       "  servicetypecodedescription organizationacronym  servicecallcount  \n",
       "0            Street Cleaning                 DPW                 1  \n",
       "1                  Recycling                 DPW                 1  \n",
       "2            Bulk Collection                 DPW                 1  \n",
       "3                        DOH                 DOH                 1  \n",
       "4                        TOA                DDOT                 1  "
      ]
     },
     "execution_count": 101,
     "metadata": {},
     "output_type": "execute_result"
    }
   ],
   "source": [
    "# Unnamed clearly the Original index column.  Delete that.\n",
    "# X and Y seems to be closely related to \n",
    "# Is service code description the same as service type, just a little more information?\n",
    "# Object ID can be set as the index.\n",
    "csr_train.iloc[:5, :6]"
   ]
  },
  {
   "cell_type": "code",
   "execution_count": 102,
   "metadata": {
    "scrolled": true
   },
   "outputs": [
    {
     "data": {
      "text/html": [
       "<div>\n",
       "<style scoped>\n",
       "    .dataframe tbody tr th:only-of-type {\n",
       "        vertical-align: middle;\n",
       "    }\n",
       "\n",
       "    .dataframe tbody tr th {\n",
       "        vertical-align: top;\n",
       "    }\n",
       "\n",
       "    .dataframe thead th {\n",
       "        text-align: right;\n",
       "    }\n",
       "</style>\n",
       "<table border=\"1\" class=\"dataframe\">\n",
       "  <thead>\n",
       "    <tr style=\"text-align: right;\">\n",
       "      <th></th>\n",
       "      <th>adddate</th>\n",
       "      <th>resolutiondate</th>\n",
       "      <th>serviceduedate</th>\n",
       "      <th>serviceorderdate</th>\n",
       "      <th>inspectionflag</th>\n",
       "      <th>inspectiondate</th>\n",
       "    </tr>\n",
       "  </thead>\n",
       "  <tbody>\n",
       "    <tr>\n",
       "      <th>0</th>\n",
       "      <td>2014-01-02 13:27:40.000</td>\n",
       "      <td>2014-01-15 07:43:42.000</td>\n",
       "      <td>2014-02-18 13:27:40.000</td>\n",
       "      <td>2014-01-02 13:27:40.000</td>\n",
       "      <td>N</td>\n",
       "      <td>NaN</td>\n",
       "    </tr>\n",
       "    <tr>\n",
       "      <th>1</th>\n",
       "      <td>2014-01-02 13:46:57.000</td>\n",
       "      <td>2014-01-06 12:39:39.000</td>\n",
       "      <td>2014-01-06 13:46:57.000</td>\n",
       "      <td>2014-01-02 13:46:57.000</td>\n",
       "      <td>N</td>\n",
       "      <td>2014-01-06T12:39:00.000Z</td>\n",
       "    </tr>\n",
       "    <tr>\n",
       "      <th>2</th>\n",
       "      <td>2014-01-02 13:57:46.000</td>\n",
       "      <td>2014-01-14 14:29:16.000</td>\n",
       "      <td>2014-01-23 13:57:46.000</td>\n",
       "      <td>2014-01-02 13:57:46.000</td>\n",
       "      <td>N</td>\n",
       "      <td>NaN</td>\n",
       "    </tr>\n",
       "    <tr>\n",
       "      <th>3</th>\n",
       "      <td>2014-01-02 13:43:20.000</td>\n",
       "      <td>0</td>\n",
       "      <td>2014-02-24 13:43:20.000</td>\n",
       "      <td>2014-01-02 13:43:20.000</td>\n",
       "      <td>N</td>\n",
       "      <td>NaN</td>\n",
       "    </tr>\n",
       "    <tr>\n",
       "      <th>4</th>\n",
       "      <td>2014-01-02 16:00:59.000</td>\n",
       "      <td>2014-01-07 16:33:48.000</td>\n",
       "      <td>2014-01-09 16:00:59.000</td>\n",
       "      <td>2014-01-02 16:00:59.000</td>\n",
       "      <td>N</td>\n",
       "      <td>NaN</td>\n",
       "    </tr>\n",
       "  </tbody>\n",
       "</table>\n",
       "</div>"
      ],
      "text/plain": [
       "                   adddate           resolutiondate           serviceduedate  \\\n",
       "0  2014-01-02 13:27:40.000  2014-01-15 07:43:42.000  2014-02-18 13:27:40.000   \n",
       "1  2014-01-02 13:46:57.000  2014-01-06 12:39:39.000  2014-01-06 13:46:57.000   \n",
       "2  2014-01-02 13:57:46.000  2014-01-14 14:29:16.000  2014-01-23 13:57:46.000   \n",
       "3  2014-01-02 13:43:20.000                        0  2014-02-24 13:43:20.000   \n",
       "4  2014-01-02 16:00:59.000  2014-01-07 16:33:48.000  2014-01-09 16:00:59.000   \n",
       "\n",
       "          serviceorderdate inspectionflag            inspectiondate  \n",
       "0  2014-01-02 13:27:40.000              N                       NaN  \n",
       "1  2014-01-02 13:46:57.000              N  2014-01-06T12:39:00.000Z  \n",
       "2  2014-01-02 13:57:46.000              N                       NaN  \n",
       "3  2014-01-02 13:43:20.000              N                       NaN  \n",
       "4  2014-01-02 16:00:59.000              N                       NaN  "
      ]
     },
     "execution_count": 102,
     "metadata": {},
     "output_type": "execute_result"
    }
   ],
   "source": [
    "# Service Type, Important to know the different values there.\n",
    "# Organization to know who is on the task.\n",
    "# Service call count to see how many times a call is needed.\n",
    "# Everything just needs to be set to datetime.\n",
    "csr_train.iloc[:5, 6:12]"
   ]
  },
  {
   "cell_type": "code",
   "execution_count": 103,
   "metadata": {},
   "outputs": [
    {
     "data": {
      "text/html": [
       "<div>\n",
       "<style scoped>\n",
       "    .dataframe tbody tr th:only-of-type {\n",
       "        vertical-align: middle;\n",
       "    }\n",
       "\n",
       "    .dataframe tbody tr th {\n",
       "        vertical-align: top;\n",
       "    }\n",
       "\n",
       "    .dataframe thead th {\n",
       "        text-align: right;\n",
       "    }\n",
       "</style>\n",
       "<table border=\"1\" class=\"dataframe\">\n",
       "  <thead>\n",
       "    <tr style=\"text-align: right;\">\n",
       "      <th></th>\n",
       "      <th>serviceorderstatus</th>\n",
       "      <th>status_code</th>\n",
       "      <th>servicerequestid</th>\n",
       "      <th>priority</th>\n",
       "      <th>streetaddress</th>\n",
       "      <th>xcoord</th>\n",
       "    </tr>\n",
       "  </thead>\n",
       "  <tbody>\n",
       "    <tr>\n",
       "      <th>0</th>\n",
       "      <td>CLOSED</td>\n",
       "      <td>NaN</td>\n",
       "      <td>14-00000654</td>\n",
       "      <td>STANDARD</td>\n",
       "      <td>2301 BENNING ROAD NE</td>\n",
       "      <td>402365.36</td>\n",
       "    </tr>\n",
       "    <tr>\n",
       "      <th>1</th>\n",
       "      <td>CLOSED</td>\n",
       "      <td>NaN</td>\n",
       "      <td>14-00000686</td>\n",
       "      <td>STANDARD</td>\n",
       "      <td>1004 RHODE ISLAND AVENUE NE</td>\n",
       "      <td>400701.99</td>\n",
       "    </tr>\n",
       "    <tr>\n",
       "      <th>2</th>\n",
       "      <td>CLOSED</td>\n",
       "      <td>NaN</td>\n",
       "      <td>14-00000707</td>\n",
       "      <td>STANDARD</td>\n",
       "      <td>2333 FAIRLAWN AVENUE SE</td>\n",
       "      <td>402526.12</td>\n",
       "    </tr>\n",
       "    <tr>\n",
       "      <th>3</th>\n",
       "      <td>OPEN</td>\n",
       "      <td>NaN</td>\n",
       "      <td>14-00000677</td>\n",
       "      <td>STANDARD</td>\n",
       "      <td>720 VARNUM STREET NW</td>\n",
       "      <td>398034.18</td>\n",
       "    </tr>\n",
       "    <tr>\n",
       "      <th>4</th>\n",
       "      <td>CLOSED</td>\n",
       "      <td>NaN</td>\n",
       "      <td>14-00000877</td>\n",
       "      <td>STANDARD</td>\n",
       "      <td>700 - 799 BLOCK OF 22ND STREET NW</td>\n",
       "      <td>395763.56</td>\n",
       "    </tr>\n",
       "  </tbody>\n",
       "</table>\n",
       "</div>"
      ],
      "text/plain": [
       "  serviceorderstatus status_code servicerequestid  priority  \\\n",
       "0             CLOSED         NaN      14-00000654  STANDARD   \n",
       "1             CLOSED         NaN      14-00000686  STANDARD   \n",
       "2             CLOSED         NaN      14-00000707  STANDARD   \n",
       "3               OPEN         NaN      14-00000677  STANDARD   \n",
       "4             CLOSED         NaN      14-00000877  STANDARD   \n",
       "\n",
       "                       streetaddress     xcoord  \n",
       "0               2301 BENNING ROAD NE  402365.36  \n",
       "1        1004 RHODE ISLAND AVENUE NE  400701.99  \n",
       "2            2333 FAIRLAWN AVENUE SE  402526.12  \n",
       "3               720 VARNUM STREET NW  398034.18  \n",
       "4  700 - 799 BLOCK OF 22ND STREET NW  395763.56  "
      ]
     },
     "execution_count": 103,
     "metadata": {},
     "output_type": "execute_result"
    }
   ],
   "source": [
    "# Service order data good.  Needs to be broken down into Datetime.\n",
    "# Inspection Flag, what does that mean?\n",
    "# Remove Inspector Name\n",
    "# What does Status code contain? A lot of NaN could be bad\n",
    "# Service Order Status, Important maybe?\n",
    "csr_train.iloc[:5, 12:18]"
   ]
  },
  {
   "cell_type": "code",
   "execution_count": 174,
   "metadata": {
    "scrolled": true
   },
   "outputs": [
    {
     "data": {
      "text/plain": [
       "6221"
      ]
     },
     "execution_count": 174,
     "metadata": {},
     "output_type": "execute_result"
    }
   ],
   "source": [
    "csr_train.ward.isnull().sum()"
   ]
  },
  {
   "cell_type": "code",
   "execution_count": 175,
   "metadata": {},
   "outputs": [],
   "source": [
    "csr_train.ward.dropna(inplace=True)"
   ]
  },
  {
   "cell_type": "code",
   "execution_count": 176,
   "metadata": {},
   "outputs": [
    {
     "ename": "ValueError",
     "evalue": "invalid literal for int() with base 10: '4.0'",
     "output_type": "error",
     "traceback": [
      "\u001b[0;31m---------------------------------------------------------------------------\u001b[0m",
      "\u001b[0;31mValueError\u001b[0m                                Traceback (most recent call last)",
      "\u001b[0;32m<ipython-input-176-30899028bdbf>\u001b[0m in \u001b[0;36m<module>\u001b[0;34m()\u001b[0m\n\u001b[0;32m----> 1\u001b[0;31m \u001b[0mcsr_train\u001b[0m\u001b[0;34m.\u001b[0m\u001b[0mward\u001b[0m\u001b[0;34m.\u001b[0m\u001b[0mastype\u001b[0m\u001b[0;34m(\u001b[0m\u001b[0;34m'int32'\u001b[0m\u001b[0;34m)\u001b[0m\u001b[0;34m\u001b[0m\u001b[0m\n\u001b[0m",
      "\u001b[0;32m/anaconda3/envs/dsi/lib/python3.6/site-packages/pandas/util/_decorators.py\u001b[0m in \u001b[0;36mwrapper\u001b[0;34m(*args, **kwargs)\u001b[0m\n\u001b[1;32m    116\u001b[0m                 \u001b[0;32melse\u001b[0m\u001b[0;34m:\u001b[0m\u001b[0;34m\u001b[0m\u001b[0m\n\u001b[1;32m    117\u001b[0m                     \u001b[0mkwargs\u001b[0m\u001b[0;34m[\u001b[0m\u001b[0mnew_arg_name\u001b[0m\u001b[0;34m]\u001b[0m \u001b[0;34m=\u001b[0m \u001b[0mnew_arg_value\u001b[0m\u001b[0;34m\u001b[0m\u001b[0m\n\u001b[0;32m--> 118\u001b[0;31m             \u001b[0;32mreturn\u001b[0m \u001b[0mfunc\u001b[0m\u001b[0;34m(\u001b[0m\u001b[0;34m*\u001b[0m\u001b[0margs\u001b[0m\u001b[0;34m,\u001b[0m \u001b[0;34m**\u001b[0m\u001b[0mkwargs\u001b[0m\u001b[0;34m)\u001b[0m\u001b[0;34m\u001b[0m\u001b[0m\n\u001b[0m\u001b[1;32m    119\u001b[0m         \u001b[0;32mreturn\u001b[0m \u001b[0mwrapper\u001b[0m\u001b[0;34m\u001b[0m\u001b[0m\n\u001b[1;32m    120\u001b[0m     \u001b[0;32mreturn\u001b[0m \u001b[0m_deprecate_kwarg\u001b[0m\u001b[0;34m\u001b[0m\u001b[0m\n",
      "\u001b[0;32m/anaconda3/envs/dsi/lib/python3.6/site-packages/pandas/core/generic.py\u001b[0m in \u001b[0;36mastype\u001b[0;34m(self, dtype, copy, errors, **kwargs)\u001b[0m\n\u001b[1;32m   4002\u001b[0m         \u001b[0;31m# else, only a single dtype is given\u001b[0m\u001b[0;34m\u001b[0m\u001b[0;34m\u001b[0m\u001b[0m\n\u001b[1;32m   4003\u001b[0m         new_data = self._data.astype(dtype=dtype, copy=copy, errors=errors,\n\u001b[0;32m-> 4004\u001b[0;31m                                      **kwargs)\n\u001b[0m\u001b[1;32m   4005\u001b[0m         \u001b[0;32mreturn\u001b[0m \u001b[0mself\u001b[0m\u001b[0;34m.\u001b[0m\u001b[0m_constructor\u001b[0m\u001b[0;34m(\u001b[0m\u001b[0mnew_data\u001b[0m\u001b[0;34m)\u001b[0m\u001b[0;34m.\u001b[0m\u001b[0m__finalize__\u001b[0m\u001b[0;34m(\u001b[0m\u001b[0mself\u001b[0m\u001b[0;34m)\u001b[0m\u001b[0;34m\u001b[0m\u001b[0m\n\u001b[1;32m   4006\u001b[0m \u001b[0;34m\u001b[0m\u001b[0m\n",
      "\u001b[0;32m/anaconda3/envs/dsi/lib/python3.6/site-packages/pandas/core/internals.py\u001b[0m in \u001b[0;36mastype\u001b[0;34m(self, dtype, **kwargs)\u001b[0m\n\u001b[1;32m   3460\u001b[0m \u001b[0;34m\u001b[0m\u001b[0m\n\u001b[1;32m   3461\u001b[0m     \u001b[0;32mdef\u001b[0m \u001b[0mastype\u001b[0m\u001b[0;34m(\u001b[0m\u001b[0mself\u001b[0m\u001b[0;34m,\u001b[0m \u001b[0mdtype\u001b[0m\u001b[0;34m,\u001b[0m \u001b[0;34m**\u001b[0m\u001b[0mkwargs\u001b[0m\u001b[0;34m)\u001b[0m\u001b[0;34m:\u001b[0m\u001b[0;34m\u001b[0m\u001b[0m\n\u001b[0;32m-> 3462\u001b[0;31m         \u001b[0;32mreturn\u001b[0m \u001b[0mself\u001b[0m\u001b[0;34m.\u001b[0m\u001b[0mapply\u001b[0m\u001b[0;34m(\u001b[0m\u001b[0;34m'astype'\u001b[0m\u001b[0;34m,\u001b[0m \u001b[0mdtype\u001b[0m\u001b[0;34m=\u001b[0m\u001b[0mdtype\u001b[0m\u001b[0;34m,\u001b[0m \u001b[0;34m**\u001b[0m\u001b[0mkwargs\u001b[0m\u001b[0;34m)\u001b[0m\u001b[0;34m\u001b[0m\u001b[0m\n\u001b[0m\u001b[1;32m   3463\u001b[0m \u001b[0;34m\u001b[0m\u001b[0m\n\u001b[1;32m   3464\u001b[0m     \u001b[0;32mdef\u001b[0m \u001b[0mconvert\u001b[0m\u001b[0;34m(\u001b[0m\u001b[0mself\u001b[0m\u001b[0;34m,\u001b[0m \u001b[0;34m**\u001b[0m\u001b[0mkwargs\u001b[0m\u001b[0;34m)\u001b[0m\u001b[0;34m:\u001b[0m\u001b[0;34m\u001b[0m\u001b[0m\n",
      "\u001b[0;32m/anaconda3/envs/dsi/lib/python3.6/site-packages/pandas/core/internals.py\u001b[0m in \u001b[0;36mapply\u001b[0;34m(self, f, axes, filter, do_integrity_check, consolidate, **kwargs)\u001b[0m\n\u001b[1;32m   3327\u001b[0m \u001b[0;34m\u001b[0m\u001b[0m\n\u001b[1;32m   3328\u001b[0m             \u001b[0mkwargs\u001b[0m\u001b[0;34m[\u001b[0m\u001b[0;34m'mgr'\u001b[0m\u001b[0;34m]\u001b[0m \u001b[0;34m=\u001b[0m \u001b[0mself\u001b[0m\u001b[0;34m\u001b[0m\u001b[0m\n\u001b[0;32m-> 3329\u001b[0;31m             \u001b[0mapplied\u001b[0m \u001b[0;34m=\u001b[0m \u001b[0mgetattr\u001b[0m\u001b[0;34m(\u001b[0m\u001b[0mb\u001b[0m\u001b[0;34m,\u001b[0m \u001b[0mf\u001b[0m\u001b[0;34m)\u001b[0m\u001b[0;34m(\u001b[0m\u001b[0;34m**\u001b[0m\u001b[0mkwargs\u001b[0m\u001b[0;34m)\u001b[0m\u001b[0;34m\u001b[0m\u001b[0m\n\u001b[0m\u001b[1;32m   3330\u001b[0m             \u001b[0mresult_blocks\u001b[0m \u001b[0;34m=\u001b[0m \u001b[0m_extend_blocks\u001b[0m\u001b[0;34m(\u001b[0m\u001b[0mapplied\u001b[0m\u001b[0;34m,\u001b[0m \u001b[0mresult_blocks\u001b[0m\u001b[0;34m)\u001b[0m\u001b[0;34m\u001b[0m\u001b[0m\n\u001b[1;32m   3331\u001b[0m \u001b[0;34m\u001b[0m\u001b[0m\n",
      "\u001b[0;32m/anaconda3/envs/dsi/lib/python3.6/site-packages/pandas/core/internals.py\u001b[0m in \u001b[0;36mastype\u001b[0;34m(self, dtype, copy, errors, values, **kwargs)\u001b[0m\n\u001b[1;32m    542\u001b[0m     \u001b[0;32mdef\u001b[0m \u001b[0mastype\u001b[0m\u001b[0;34m(\u001b[0m\u001b[0mself\u001b[0m\u001b[0;34m,\u001b[0m \u001b[0mdtype\u001b[0m\u001b[0;34m,\u001b[0m \u001b[0mcopy\u001b[0m\u001b[0;34m=\u001b[0m\u001b[0;32mFalse\u001b[0m\u001b[0;34m,\u001b[0m \u001b[0merrors\u001b[0m\u001b[0;34m=\u001b[0m\u001b[0;34m'raise'\u001b[0m\u001b[0;34m,\u001b[0m \u001b[0mvalues\u001b[0m\u001b[0;34m=\u001b[0m\u001b[0;32mNone\u001b[0m\u001b[0;34m,\u001b[0m \u001b[0;34m**\u001b[0m\u001b[0mkwargs\u001b[0m\u001b[0;34m)\u001b[0m\u001b[0;34m:\u001b[0m\u001b[0;34m\u001b[0m\u001b[0m\n\u001b[1;32m    543\u001b[0m         return self._astype(dtype, copy=copy, errors=errors, values=values,\n\u001b[0;32m--> 544\u001b[0;31m                             **kwargs)\n\u001b[0m\u001b[1;32m    545\u001b[0m \u001b[0;34m\u001b[0m\u001b[0m\n\u001b[1;32m    546\u001b[0m     def _astype(self, dtype, copy=False, errors='raise', values=None,\n",
      "\u001b[0;32m/anaconda3/envs/dsi/lib/python3.6/site-packages/pandas/core/internals.py\u001b[0m in \u001b[0;36m_astype\u001b[0;34m(self, dtype, copy, errors, values, klass, mgr, **kwargs)\u001b[0m\n\u001b[1;32m    623\u001b[0m \u001b[0;34m\u001b[0m\u001b[0m\n\u001b[1;32m    624\u001b[0m                 \u001b[0;31m# _astype_nansafe works fine with 1-d only\u001b[0m\u001b[0;34m\u001b[0m\u001b[0;34m\u001b[0m\u001b[0m\n\u001b[0;32m--> 625\u001b[0;31m                 \u001b[0mvalues\u001b[0m \u001b[0;34m=\u001b[0m \u001b[0mastype_nansafe\u001b[0m\u001b[0;34m(\u001b[0m\u001b[0mvalues\u001b[0m\u001b[0;34m.\u001b[0m\u001b[0mravel\u001b[0m\u001b[0;34m(\u001b[0m\u001b[0;34m)\u001b[0m\u001b[0;34m,\u001b[0m \u001b[0mdtype\u001b[0m\u001b[0;34m,\u001b[0m \u001b[0mcopy\u001b[0m\u001b[0;34m=\u001b[0m\u001b[0;32mTrue\u001b[0m\u001b[0;34m)\u001b[0m\u001b[0;34m\u001b[0m\u001b[0m\n\u001b[0m\u001b[1;32m    626\u001b[0m                 \u001b[0mvalues\u001b[0m \u001b[0;34m=\u001b[0m \u001b[0mvalues\u001b[0m\u001b[0;34m.\u001b[0m\u001b[0mreshape\u001b[0m\u001b[0;34m(\u001b[0m\u001b[0mself\u001b[0m\u001b[0;34m.\u001b[0m\u001b[0mshape\u001b[0m\u001b[0;34m)\u001b[0m\u001b[0;34m\u001b[0m\u001b[0m\n\u001b[1;32m    627\u001b[0m \u001b[0;34m\u001b[0m\u001b[0m\n",
      "\u001b[0;32m/anaconda3/envs/dsi/lib/python3.6/site-packages/pandas/core/dtypes/cast.py\u001b[0m in \u001b[0;36mastype_nansafe\u001b[0;34m(arr, dtype, copy)\u001b[0m\n\u001b[1;32m    690\u001b[0m     \u001b[0;32melif\u001b[0m \u001b[0marr\u001b[0m\u001b[0;34m.\u001b[0m\u001b[0mdtype\u001b[0m \u001b[0;34m==\u001b[0m \u001b[0mnp\u001b[0m\u001b[0;34m.\u001b[0m\u001b[0mobject_\u001b[0m \u001b[0;32mand\u001b[0m \u001b[0mnp\u001b[0m\u001b[0;34m.\u001b[0m\u001b[0missubdtype\u001b[0m\u001b[0;34m(\u001b[0m\u001b[0mdtype\u001b[0m\u001b[0;34m.\u001b[0m\u001b[0mtype\u001b[0m\u001b[0;34m,\u001b[0m \u001b[0mnp\u001b[0m\u001b[0;34m.\u001b[0m\u001b[0minteger\u001b[0m\u001b[0;34m)\u001b[0m\u001b[0;34m:\u001b[0m\u001b[0;34m\u001b[0m\u001b[0m\n\u001b[1;32m    691\u001b[0m         \u001b[0;31m# work around NumPy brokenness, #1987\u001b[0m\u001b[0;34m\u001b[0m\u001b[0;34m\u001b[0m\u001b[0m\n\u001b[0;32m--> 692\u001b[0;31m         \u001b[0;32mreturn\u001b[0m \u001b[0mlib\u001b[0m\u001b[0;34m.\u001b[0m\u001b[0mastype_intsafe\u001b[0m\u001b[0;34m(\u001b[0m\u001b[0marr\u001b[0m\u001b[0;34m.\u001b[0m\u001b[0mravel\u001b[0m\u001b[0;34m(\u001b[0m\u001b[0;34m)\u001b[0m\u001b[0;34m,\u001b[0m \u001b[0mdtype\u001b[0m\u001b[0;34m)\u001b[0m\u001b[0;34m.\u001b[0m\u001b[0mreshape\u001b[0m\u001b[0;34m(\u001b[0m\u001b[0marr\u001b[0m\u001b[0;34m.\u001b[0m\u001b[0mshape\u001b[0m\u001b[0;34m)\u001b[0m\u001b[0;34m\u001b[0m\u001b[0m\n\u001b[0m\u001b[1;32m    693\u001b[0m \u001b[0;34m\u001b[0m\u001b[0m\n\u001b[1;32m    694\u001b[0m     \u001b[0;32mif\u001b[0m \u001b[0mdtype\u001b[0m\u001b[0;34m.\u001b[0m\u001b[0mname\u001b[0m \u001b[0;32min\u001b[0m \u001b[0;34m(\u001b[0m\u001b[0;34m\"datetime64\"\u001b[0m\u001b[0;34m,\u001b[0m \u001b[0;34m\"timedelta64\"\u001b[0m\u001b[0;34m)\u001b[0m\u001b[0;34m:\u001b[0m\u001b[0;34m\u001b[0m\u001b[0m\n",
      "\u001b[0;32mpandas/_libs/lib.pyx\u001b[0m in \u001b[0;36mpandas._libs.lib.astype_intsafe\u001b[0;34m()\u001b[0m\n",
      "\u001b[0;32mpandas/_libs/src/util.pxd\u001b[0m in \u001b[0;36mutil.set_value_at_unsafe\u001b[0;34m()\u001b[0m\n",
      "\u001b[0;31mValueError\u001b[0m: invalid literal for int() with base 10: '4.0'"
     ]
    }
   ],
   "source": [
    "csr_train.ward.astype('int32')"
   ]
  },
  {
   "cell_type": "code",
   "execution_count": 172,
   "metadata": {},
   "outputs": [],
   "source": [
    "csr_train.ward = csr_train['ward'].str.strip() "
   ]
  },
  {
   "cell_type": "code",
   "execution_count": 173,
   "metadata": {},
   "outputs": [
    {
     "data": {
      "text/plain": [
       "2.0    172013\n",
       "6.0    154744\n",
       "4.0    119513\n",
       "5.0    116919\n",
       "1.0     98617\n",
       "7.0     93001\n",
       "3.0     83809\n",
       "2       82924\n",
       "8.0     63931\n",
       "6       60159\n",
       "4       39432\n",
       "5       36207\n",
       "3       30929\n",
       "1       29378\n",
       "7       26437\n",
       "8       16999\n",
       "Name: ward, dtype: int64"
      ]
     },
     "execution_count": 173,
     "metadata": {},
     "output_type": "execute_result"
    }
   ],
   "source": [
    "csr_train.ward.value_counts()"
   ]
  },
  {
   "cell_type": "code",
   "execution_count": 135,
   "metadata": {
    "scrolled": true
   },
   "outputs": [
    {
     "data": {
      "text/html": [
       "<div>\n",
       "<style scoped>\n",
       "    .dataframe tbody tr th:only-of-type {\n",
       "        vertical-align: middle;\n",
       "    }\n",
       "\n",
       "    .dataframe tbody tr th {\n",
       "        vertical-align: top;\n",
       "    }\n",
       "\n",
       "    .dataframe thead th {\n",
       "        text-align: right;\n",
       "    }\n",
       "</style>\n",
       "<table border=\"1\" class=\"dataframe\">\n",
       "  <thead>\n",
       "    <tr style=\"text-align: right;\">\n",
       "      <th></th>\n",
       "      <th>ycoord</th>\n",
       "      <th>latitude</th>\n",
       "      <th>longitude</th>\n",
       "      <th>zipcode</th>\n",
       "      <th>maraddressrepositoryid</th>\n",
       "      <th>ward</th>\n",
       "    </tr>\n",
       "  </thead>\n",
       "  <tbody>\n",
       "    <tr>\n",
       "      <th>0</th>\n",
       "      <td>136678.02</td>\n",
       "      <td>38.897950</td>\n",
       "      <td>-76.972732</td>\n",
       "      <td>20002.0</td>\n",
       "      <td>48983.0</td>\n",
       "      <td>7</td>\n",
       "    </tr>\n",
       "    <tr>\n",
       "      <th>1</th>\n",
       "      <td>139442.62</td>\n",
       "      <td>38.922857</td>\n",
       "      <td>-76.991905</td>\n",
       "      <td>20018.0</td>\n",
       "      <td>76304.0</td>\n",
       "      <td>5</td>\n",
       "    </tr>\n",
       "    <tr>\n",
       "      <th>2</th>\n",
       "      <td>134101.82</td>\n",
       "      <td>38.874742</td>\n",
       "      <td>-76.970889</td>\n",
       "      <td>20020.0</td>\n",
       "      <td>286919.0</td>\n",
       "      <td>7</td>\n",
       "    </tr>\n",
       "    <tr>\n",
       "      <th>3</th>\n",
       "      <td>141657.91</td>\n",
       "      <td>38.942811</td>\n",
       "      <td>-77.022676</td>\n",
       "      <td>20011.0</td>\n",
       "      <td>249794.0</td>\n",
       "      <td>4</td>\n",
       "    </tr>\n",
       "    <tr>\n",
       "      <th>4</th>\n",
       "      <td>136790.11</td>\n",
       "      <td>38.898952</td>\n",
       "      <td>-77.048838</td>\n",
       "      <td>20052.0</td>\n",
       "      <td>NaN</td>\n",
       "      <td>2</td>\n",
       "    </tr>\n",
       "  </tbody>\n",
       "</table>\n",
       "</div>"
      ],
      "text/plain": [
       "      ycoord   latitude  longitude  zipcode  maraddressrepositoryid ward\n",
       "0  136678.02  38.897950 -76.972732  20002.0                 48983.0    7\n",
       "1  139442.62  38.922857 -76.991905  20018.0                 76304.0    5\n",
       "2  134101.82  38.874742 -76.970889  20020.0                286919.0    7\n",
       "3  141657.91  38.942811 -77.022676  20011.0                249794.0    4\n",
       "4  136790.11  38.898952 -77.048838  20052.0                     NaN    2"
      ]
     },
     "execution_count": 135,
     "metadata": {},
     "output_type": "execute_result"
    }
   ],
   "source": [
    "# Service Request ID seems unimportant\n",
    "# What is the XCOORD and YCOORD?\n",
    "# Street Address can help us find our quandrants. Do we also want the address or is Latitude and Longitude\n",
    "# Priority - how many unique values are in there?\n",
    "csr_train.iloc[:5, 18:24]"
   ]
  },
  {
   "cell_type": "code",
   "execution_count": 105,
   "metadata": {},
   "outputs": [
    {
     "data": {
      "text/html": [
       "<div>\n",
       "<style scoped>\n",
       "    .dataframe tbody tr th:only-of-type {\n",
       "        vertical-align: middle;\n",
       "    }\n",
       "\n",
       "    .dataframe tbody tr th {\n",
       "        vertical-align: top;\n",
       "    }\n",
       "\n",
       "    .dataframe thead th {\n",
       "        text-align: right;\n",
       "    }\n",
       "</style>\n",
       "<table border=\"1\" class=\"dataframe\">\n",
       "  <thead>\n",
       "    <tr style=\"text-align: right;\">\n",
       "      <th></th>\n",
       "      <th>details</th>\n",
       "    </tr>\n",
       "  </thead>\n",
       "  <tbody>\n",
       "    <tr>\n",
       "      <th>0</th>\n",
       "      <td>There is some dumping in the rear of this addr...</td>\n",
       "    </tr>\n",
       "    <tr>\n",
       "      <th>1</th>\n",
       "      <td>Has not been collected the past 4 weeks.</td>\n",
       "    </tr>\n",
       "    <tr>\n",
       "      <th>2</th>\n",
       "      <td>1 television, 2 vacuums, 1 boom box,</td>\n",
       "    </tr>\n",
       "    <tr>\n",
       "      <th>3</th>\n",
       "      <td>requesting ratb abatement</td>\n",
       "    </tr>\n",
       "    <tr>\n",
       "      <th>4</th>\n",
       "      <td>Broken Parking Meter</td>\n",
       "    </tr>\n",
       "  </tbody>\n",
       "</table>\n",
       "</div>"
      ],
      "text/plain": [
       "                                             details\n",
       "0  There is some dumping in the rear of this addr...\n",
       "1           Has not been collected the past 4 weeks.\n",
       "2               1 television, 2 vacuums, 1 boom box,\n",
       "3                          requesting ratb abatement\n",
       "4                               Broken Parking Meter"
      ]
     },
     "execution_count": 105,
     "metadata": {},
     "output_type": "execute_result"
    }
   ],
   "source": [
    "# Remove City and State\n",
    "# clean up the Ward to just numbers\n",
    "# Fix Zipcode to be int.\n",
    "# Longitude is the same as the X column\n",
    "# Details can be vectorized.\n",
    "# What is MARADDRESSREPOSITORYID?\n",
    "csr_train.iloc[:5, 24:31]"
   ]
  },
  {
   "cell_type": "markdown",
   "metadata": {},
   "source": [
    "##### Teams, two datasets have different digits in the Lat's and Long's. Will it be matters? "
   ]
  },
  {
   "cell_type": "code",
   "execution_count": 5,
   "metadata": {},
   "outputs": [
    {
     "data": {
      "text/html": [
       "<div>\n",
       "<style scoped>\n",
       "    .dataframe tbody tr th:only-of-type {\n",
       "        vertical-align: middle;\n",
       "    }\n",
       "\n",
       "    .dataframe tbody tr th {\n",
       "        vertical-align: top;\n",
       "    }\n",
       "\n",
       "    .dataframe thead th {\n",
       "        text-align: right;\n",
       "    }\n",
       "</style>\n",
       "<table border=\"1\" class=\"dataframe\">\n",
       "  <thead>\n",
       "    <tr style=\"text-align: right;\">\n",
       "      <th></th>\n",
       "      <th>LATITUDE</th>\n",
       "      <th>LONGITUDE</th>\n",
       "    </tr>\n",
       "  </thead>\n",
       "  <tbody>\n",
       "    <tr>\n",
       "      <th>0</th>\n",
       "      <td>38.897950</td>\n",
       "      <td>-76.972732</td>\n",
       "    </tr>\n",
       "    <tr>\n",
       "      <th>1</th>\n",
       "      <td>38.922857</td>\n",
       "      <td>-76.991905</td>\n",
       "    </tr>\n",
       "    <tr>\n",
       "      <th>2</th>\n",
       "      <td>38.874742</td>\n",
       "      <td>-76.970889</td>\n",
       "    </tr>\n",
       "    <tr>\n",
       "      <th>3</th>\n",
       "      <td>38.942811</td>\n",
       "      <td>-77.022676</td>\n",
       "    </tr>\n",
       "    <tr>\n",
       "      <th>4</th>\n",
       "      <td>38.898952</td>\n",
       "      <td>-77.048838</td>\n",
       "    </tr>\n",
       "  </tbody>\n",
       "</table>\n",
       "</div>"
      ],
      "text/plain": [
       "    LATITUDE  LONGITUDE\n",
       "0  38.897950 -76.972732\n",
       "1  38.922857 -76.991905\n",
       "2  38.874742 -76.970889\n",
       "3  38.942811 -77.022676\n",
       "4  38.898952 -77.048838"
      ]
     },
     "execution_count": 5,
     "metadata": {},
     "output_type": "execute_result"
    }
   ],
   "source": [
    "csr_train[['LATITUDE', 'LONGITUDE']].head()"
   ]
  },
  {
   "cell_type": "code",
   "execution_count": 6,
   "metadata": {},
   "outputs": [
    {
     "data": {
      "text/html": [
       "<div>\n",
       "<style scoped>\n",
       "    .dataframe tbody tr th:only-of-type {\n",
       "        vertical-align: middle;\n",
       "    }\n",
       "\n",
       "    .dataframe tbody tr th {\n",
       "        vertical-align: top;\n",
       "    }\n",
       "\n",
       "    .dataframe thead th {\n",
       "        text-align: right;\n",
       "    }\n",
       "</style>\n",
       "<table border=\"1\" class=\"dataframe\">\n",
       "  <thead>\n",
       "    <tr style=\"text-align: right;\">\n",
       "      <th></th>\n",
       "      <th>Latitude</th>\n",
       "      <th>Longitude</th>\n",
       "    </tr>\n",
       "  </thead>\n",
       "  <tbody>\n",
       "    <tr>\n",
       "      <th>0</th>\n",
       "      <td>38.917</td>\n",
       "      <td>-77.012</td>\n",
       "    </tr>\n",
       "    <tr>\n",
       "      <th>1</th>\n",
       "      <td>38.917</td>\n",
       "      <td>-77.002</td>\n",
       "    </tr>\n",
       "    <tr>\n",
       "      <th>2</th>\n",
       "      <td>38.917</td>\n",
       "      <td>-76.987</td>\n",
       "    </tr>\n",
       "    <tr>\n",
       "      <th>3</th>\n",
       "      <td>38.823</td>\n",
       "      <td>-77.000</td>\n",
       "    </tr>\n",
       "    <tr>\n",
       "      <th>4</th>\n",
       "      <td>38.893</td>\n",
       "      <td>-76.993</td>\n",
       "    </tr>\n",
       "  </tbody>\n",
       "</table>\n",
       "</div>"
      ],
      "text/plain": [
       "   Latitude  Longitude\n",
       "0    38.917    -77.012\n",
       "1    38.917    -77.002\n",
       "2    38.917    -76.987\n",
       "3    38.823    -77.000\n",
       "4    38.893    -76.993"
      ]
     },
     "execution_count": 6,
     "metadata": {},
     "output_type": "execute_result"
    }
   ],
   "source": [
    "shots_train[['Latitude', 'Longitude']].head()"
   ]
  },
  {
   "cell_type": "code",
   "execution_count": 47,
   "metadata": {},
   "outputs": [
    {
     "data": {
      "text/plain": [
       "Multiple_Gunshots         15858\n",
       "Single_Gunshot            10034\n",
       "Gunshot_or_Firecracker     2451\n",
       "Name: Type, dtype: int64"
      ]
     },
     "execution_count": 47,
     "metadata": {},
     "output_type": "execute_result"
    }
   ],
   "source": [
    "shots_train.Type.value_counts()"
   ]
  },
  {
   "cell_type": "code",
   "execution_count": null,
   "metadata": {},
   "outputs": [],
   "source": []
  },
  {
   "cell_type": "code",
   "execution_count": null,
   "metadata": {},
   "outputs": [],
   "source": []
  }
 ],
 "metadata": {
  "kernelspec": {
   "display_name": "Python [default]",
   "language": "python",
   "name": "python3"
  },
  "language_info": {
   "codemirror_mode": {
    "name": "ipython",
    "version": 3
   },
   "file_extension": ".py",
   "mimetype": "text/x-python",
   "name": "python",
   "nbconvert_exporter": "python",
   "pygments_lexer": "ipython3",
   "version": "3.6.5"
  }
 },
 "nbformat": 4,
 "nbformat_minor": 2
}
