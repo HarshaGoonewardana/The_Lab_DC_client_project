{
 "cells": [
  {
   "cell_type": "markdown",
   "metadata": {},
   "source": [
    "# Client Project: The Lab @ DC"
   ]
  },
  {
   "cell_type": "markdown",
   "metadata": {},
   "source": [
    "## Project Title: {here}"
   ]
  },
  {
   "cell_type": "markdown",
   "metadata": {},
   "source": [
    "### Authors: Kihoon Sohn, Brian Collins, Harsha Goonawardana, Priya Kakkar\n",
    "- Cohorts of the Data Science Immersive, General Assembly @ Washington DC campus"
   ]
  },
  {
   "cell_type": "markdown",
   "metadata": {},
   "source": [
    "In this notebook, we have Exploratory Data Analysis on the City Service Requests / ShotsSpotters datasets. **This is notebook 2 of 3.**"
   ]
  },
  {
   "cell_type": "markdown",
   "metadata": {},
   "source": [
    "### Import Libraries"
   ]
  },
  {
   "cell_type": "code",
   "execution_count": 20,
   "metadata": {},
   "outputs": [],
   "source": [
    "# import basic libraries\n",
    "\n",
    "import pandas as pd\n",
    "import numpy as np\n",
    "import matplotlib.pyplot as plt\n",
    "\n",
    "%matplotlib inline"
   ]
  },
  {
   "cell_type": "markdown",
   "metadata": {},
   "source": [
    "### Read CSVs"
   ]
  },
  {
   "cell_type": "code",
   "execution_count": 21,
   "metadata": {},
   "outputs": [],
   "source": [
    "csr_train   = pd.read_csv('./assets/csr/csr_train.csv', low_memory=False)\n",
    "csr_test    = pd.read_csv('./assets/csr/csr_test.csv', low_memory=False)\n",
    "shots_train = pd.read_csv('./assets/mpd/shots_train.csv', low_memory=False)\n",
    "shots_test  = pd.read_csv('./assets/mpd/shots_test.csv', low_memory=False)"
   ]
  },
  {
   "cell_type": "markdown",
   "metadata": {},
   "source": [
    "##### check null values and basic info on the datasets"
   ]
  },
  {
   "cell_type": "code",
   "execution_count": 22,
   "metadata": {},
   "outputs": [
    {
     "name": "stdout",
     "output_type": "stream",
     "text": [
      "<class 'pandas.core.frame.DataFrame'>\n",
      "RangeIndex: 1231233 entries, 0 to 1231232\n",
      "Data columns (total 30 columns):\n",
      "X                             1231233 non-null float64\n",
      "Y                             1231233 non-null float64\n",
      "OBJECTID                      1231233 non-null int64\n",
      "SERVICECODE                   1231233 non-null object\n",
      "SERVICECODEDESCRIPTION        1231233 non-null object\n",
      "SERVICETYPECODEDESCRIPTION    1230379 non-null object\n",
      "ORGANIZATIONACRONYM           1231232 non-null object\n",
      "SERVICECALLCOUNT              1231233 non-null int64\n",
      "ADDDATE                       1231233 non-null object\n",
      "RESOLUTIONDATE                1145201 non-null object\n",
      "SERVICEDUEDATE                1218530 non-null object\n",
      "SERVICEORDERDATE              1231233 non-null object\n",
      "INSPECTIONFLAG                1231233 non-null object\n",
      "INSPECTIONDATE                434130 non-null object\n",
      "INSPECTORNAME                 40361 non-null object\n",
      "SERVICEORDERSTATUS            1230380 non-null object\n",
      "STATUS_CODE                   1079432 non-null object\n",
      "SERVICEREQUESTID              1231233 non-null object\n",
      "PRIORITY                      1228556 non-null object\n",
      "STREETADDRESS                 1181503 non-null object\n",
      "XCOORD                        1231233 non-null float64\n",
      "YCOORD                        1231233 non-null float64\n",
      "LATITUDE                      1231233 non-null float64\n",
      "LONGITUDE                     1231233 non-null float64\n",
      "CITY                          1180909 non-null object\n",
      "STATE                         1180909 non-null object\n",
      "ZIPCODE                       1231217 non-null float64\n",
      "MARADDRESSREPOSITORYID        1042071 non-null float64\n",
      "WARD                          1225012 non-null object\n",
      "DETAILS                       786667 non-null object\n",
      "dtypes: float64(8), int64(2), object(20)\n",
      "memory usage: 281.8+ MB\n"
     ]
    }
   ],
   "source": [
    "csr_train.info()"
   ]
  },
  {
   "cell_type": "code",
   "execution_count": 23,
   "metadata": {
    "scrolled": true
   },
   "outputs": [
    {
     "data": {
      "text/plain": [
       "INSPECTORNAME                 1190872\n",
       "INSPECTIONDATE                 797103\n",
       "DETAILS                        444566\n",
       "MARADDRESSREPOSITORYID         189162\n",
       "STATUS_CODE                    151801\n",
       "RESOLUTIONDATE                  86032\n",
       "CITY                            50324\n",
       "STATE                           50324\n",
       "STREETADDRESS                   49730\n",
       "SERVICEDUEDATE                  12703\n",
       "WARD                             6221\n",
       "PRIORITY                         2677\n",
       "SERVICETYPECODEDESCRIPTION        854\n",
       "SERVICEORDERSTATUS                853\n",
       "ZIPCODE                            16\n",
       "ORGANIZATIONACRONYM                 1\n",
       "SERVICEREQUESTID                    0\n",
       "XCOORD                              0\n",
       "INSPECTIONFLAG                      0\n",
       "SERVICEORDERDATE                    0\n",
       "YCOORD                              0\n",
       "LATITUDE                            0\n",
       "ADDDATE                             0\n",
       "SERVICECALLCOUNT                    0\n",
       "LONGITUDE                           0\n",
       "SERVICECODEDESCRIPTION              0\n",
       "SERVICECODE                         0\n",
       "OBJECTID                            0\n",
       "Y                                   0\n",
       "X                                   0\n",
       "dtype: int64"
      ]
     },
     "execution_count": 23,
     "metadata": {},
     "output_type": "execute_result"
    }
   ],
   "source": [
    "csr_train.isnull().sum().sort_values(ascending=False)"
   ]
  },
  {
   "cell_type": "code",
   "execution_count": 24,
   "metadata": {},
   "outputs": [
    {
     "name": "stdout",
     "output_type": "stream",
     "text": [
      "<class 'pandas.core.frame.DataFrame'>\n",
      "RangeIndex: 28343 entries, 0 to 28342\n",
      "Data columns (total 7 columns):\n",
      "ID           28339 non-null object\n",
      "Type         28343 non-null object\n",
      "Date         28343 non-null object\n",
      "Time         28343 non-null object\n",
      "Source       28343 non-null object\n",
      "Latitude     28343 non-null float64\n",
      "Longitude    28343 non-null float64\n",
      "dtypes: float64(2), object(5)\n",
      "memory usage: 1.5+ MB\n"
     ]
    }
   ],
   "source": [
    "shots_train.info()"
   ]
  },
  {
   "cell_type": "code",
   "execution_count": 25,
   "metadata": {},
   "outputs": [
    {
     "data": {
      "text/plain": [
       "ID           4\n",
       "Longitude    0\n",
       "Latitude     0\n",
       "Source       0\n",
       "Time         0\n",
       "Date         0\n",
       "Type         0\n",
       "dtype: int64"
      ]
     },
     "execution_count": 25,
     "metadata": {},
     "output_type": "execute_result"
    }
   ],
   "source": [
    "shots_train.isnull().sum().sort_values(ascending=False)"
   ]
  },
  {
   "cell_type": "markdown",
   "metadata": {},
   "source": [
    "### Basic EDAs and Data Cleaning"
   ]
  },
  {
   "cell_type": "markdown",
   "metadata": {},
   "source": [
    "##### Basic EDAs on Shots dataset"
   ]
  },
  {
   "cell_type": "code",
   "execution_count": 26,
   "metadata": {},
   "outputs": [
    {
     "data": {
      "text/html": [
       "<div>\n",
       "<style scoped>\n",
       "    .dataframe tbody tr th:only-of-type {\n",
       "        vertical-align: middle;\n",
       "    }\n",
       "\n",
       "    .dataframe tbody tr th {\n",
       "        vertical-align: top;\n",
       "    }\n",
       "\n",
       "    .dataframe thead th {\n",
       "        text-align: right;\n",
       "    }\n",
       "</style>\n",
       "<table border=\"1\" class=\"dataframe\">\n",
       "  <thead>\n",
       "    <tr style=\"text-align: right;\">\n",
       "      <th></th>\n",
       "      <th>ID</th>\n",
       "      <th>Type</th>\n",
       "      <th>Date</th>\n",
       "      <th>Time</th>\n",
       "      <th>Source</th>\n",
       "      <th>Latitude</th>\n",
       "      <th>Longitude</th>\n",
       "    </tr>\n",
       "  </thead>\n",
       "  <tbody>\n",
       "    <tr>\n",
       "      <th>0</th>\n",
       "      <td>5D39700</td>\n",
       "      <td>Multiple_Gunshots</td>\n",
       "      <td>2014-01-01</td>\n",
       "      <td>00:00:02</td>\n",
       "      <td>WashingtonDC5D</td>\n",
       "      <td>38.917</td>\n",
       "      <td>-77.012</td>\n",
       "    </tr>\n",
       "    <tr>\n",
       "      <th>1</th>\n",
       "      <td>5D39701</td>\n",
       "      <td>Multiple_Gunshots</td>\n",
       "      <td>2014-01-01</td>\n",
       "      <td>00:00:06</td>\n",
       "      <td>WashingtonDC5D</td>\n",
       "      <td>38.917</td>\n",
       "      <td>-77.002</td>\n",
       "    </tr>\n",
       "    <tr>\n",
       "      <th>2</th>\n",
       "      <td>5D39702</td>\n",
       "      <td>Multiple_Gunshots</td>\n",
       "      <td>2014-01-01</td>\n",
       "      <td>00:00:07</td>\n",
       "      <td>WashingtonDC5D</td>\n",
       "      <td>38.917</td>\n",
       "      <td>-76.987</td>\n",
       "    </tr>\n",
       "    <tr>\n",
       "      <th>3</th>\n",
       "      <td>7D119445</td>\n",
       "      <td>Multiple_Gunshots</td>\n",
       "      <td>2014-01-01</td>\n",
       "      <td>00:00:10</td>\n",
       "      <td>WashingtonDC7D</td>\n",
       "      <td>38.823</td>\n",
       "      <td>-77.000</td>\n",
       "    </tr>\n",
       "    <tr>\n",
       "      <th>4</th>\n",
       "      <td>1D55993</td>\n",
       "      <td>Multiple_Gunshots</td>\n",
       "      <td>2014-01-01</td>\n",
       "      <td>00:00:10</td>\n",
       "      <td>WashingtonDC1D</td>\n",
       "      <td>38.893</td>\n",
       "      <td>-76.993</td>\n",
       "    </tr>\n",
       "  </tbody>\n",
       "</table>\n",
       "</div>"
      ],
      "text/plain": [
       "         ID               Type        Date      Time          Source  \\\n",
       "0   5D39700  Multiple_Gunshots  2014-01-01  00:00:02  WashingtonDC5D   \n",
       "1   5D39701  Multiple_Gunshots  2014-01-01  00:00:06  WashingtonDC5D   \n",
       "2   5D39702  Multiple_Gunshots  2014-01-01  00:00:07  WashingtonDC5D   \n",
       "3  7D119445  Multiple_Gunshots  2014-01-01  00:00:10  WashingtonDC7D   \n",
       "4   1D55993  Multiple_Gunshots  2014-01-01  00:00:10  WashingtonDC1D   \n",
       "\n",
       "   Latitude  Longitude  \n",
       "0    38.917    -77.012  \n",
       "1    38.917    -77.002  \n",
       "2    38.917    -76.987  \n",
       "3    38.823    -77.000  \n",
       "4    38.893    -76.993  "
      ]
     },
     "execution_count": 26,
     "metadata": {},
     "output_type": "execute_result"
    }
   ],
   "source": [
    "shots_train.head()"
   ]
  },
  {
   "cell_type": "code",
   "execution_count": 27,
   "metadata": {},
   "outputs": [
    {
     "data": {
      "text/plain": [
       "(28343, 7)"
      ]
     },
     "execution_count": 27,
     "metadata": {},
     "output_type": "execute_result"
    }
   ],
   "source": [
    "shots_train.shape"
   ]
  },
  {
   "cell_type": "code",
   "execution_count": 28,
   "metadata": {},
   "outputs": [
    {
     "name": "stdout",
     "output_type": "stream",
     "text": [
      "<class 'pandas.core.frame.DataFrame'>\n",
      "RangeIndex: 28343 entries, 0 to 28342\n",
      "Data columns (total 7 columns):\n",
      "ID           28339 non-null object\n",
      "Type         28343 non-null object\n",
      "Date         28343 non-null object\n",
      "Time         28343 non-null object\n",
      "Source       28343 non-null object\n",
      "Latitude     28343 non-null float64\n",
      "Longitude    28343 non-null float64\n",
      "dtypes: float64(2), object(5)\n",
      "memory usage: 1.5+ MB\n"
     ]
    }
   ],
   "source": [
    "shots_train.info()"
   ]
  },
  {
   "cell_type": "code",
   "execution_count": 29,
   "metadata": {},
   "outputs": [
    {
     "data": {
      "text/plain": [
       "ID           4\n",
       "Longitude    0\n",
       "Latitude     0\n",
       "Source       0\n",
       "Time         0\n",
       "Date         0\n",
       "Type         0\n",
       "dtype: int64"
      ]
     },
     "execution_count": 29,
     "metadata": {},
     "output_type": "execute_result"
    }
   ],
   "source": [
    "shots_train.isnull().sum().sort_values(ascending=False)"
   ]
  },
  {
   "cell_type": "code",
   "execution_count": 30,
   "metadata": {},
   "outputs": [
    {
     "data": {
      "text/html": [
       "<div>\n",
       "<style scoped>\n",
       "    .dataframe tbody tr th:only-of-type {\n",
       "        vertical-align: middle;\n",
       "    }\n",
       "\n",
       "    .dataframe tbody tr th {\n",
       "        vertical-align: top;\n",
       "    }\n",
       "\n",
       "    .dataframe thead th {\n",
       "        text-align: right;\n",
       "    }\n",
       "</style>\n",
       "<table border=\"1\" class=\"dataframe\">\n",
       "  <thead>\n",
       "    <tr style=\"text-align: right;\">\n",
       "      <th></th>\n",
       "      <th>ID</th>\n",
       "      <th>Type</th>\n",
       "      <th>Date</th>\n",
       "      <th>Time</th>\n",
       "      <th>Source</th>\n",
       "      <th>Latitude</th>\n",
       "      <th>Longitude</th>\n",
       "    </tr>\n",
       "  </thead>\n",
       "  <tbody>\n",
       "    <tr>\n",
       "      <th>17514</th>\n",
       "      <td>NaN</td>\n",
       "      <td>Multiple_Gunshots</td>\n",
       "      <td>2015-12-27</td>\n",
       "      <td>19:41:22</td>\n",
       "      <td>WashingtonDC5D</td>\n",
       "      <td>38.931</td>\n",
       "      <td>-76.970</td>\n",
       "    </tr>\n",
       "    <tr>\n",
       "      <th>20378</th>\n",
       "      <td>NaN</td>\n",
       "      <td>Gunshot_or_Firecracker</td>\n",
       "      <td>2016-06-28</td>\n",
       "      <td>11:41:36</td>\n",
       "      <td>WashingtonDC6D</td>\n",
       "      <td>38.894</td>\n",
       "      <td>-76.924</td>\n",
       "    </tr>\n",
       "    <tr>\n",
       "      <th>24456</th>\n",
       "      <td>NaN</td>\n",
       "      <td>Single_Gunshot</td>\n",
       "      <td>2017-02-22</td>\n",
       "      <td>17:10:13</td>\n",
       "      <td>WashingtonDC7D</td>\n",
       "      <td>38.841</td>\n",
       "      <td>-76.976</td>\n",
       "    </tr>\n",
       "    <tr>\n",
       "      <th>24691</th>\n",
       "      <td>NaN</td>\n",
       "      <td>Single_Gunshot</td>\n",
       "      <td>2017-03-15</td>\n",
       "      <td>20:08:03</td>\n",
       "      <td>WashingtonDC7D</td>\n",
       "      <td>38.840</td>\n",
       "      <td>-76.988</td>\n",
       "    </tr>\n",
       "  </tbody>\n",
       "</table>\n",
       "</div>"
      ],
      "text/plain": [
       "        ID                    Type        Date      Time          Source  \\\n",
       "17514  NaN       Multiple_Gunshots  2015-12-27  19:41:22  WashingtonDC5D   \n",
       "20378  NaN  Gunshot_or_Firecracker  2016-06-28  11:41:36  WashingtonDC6D   \n",
       "24456  NaN          Single_Gunshot  2017-02-22  17:10:13  WashingtonDC7D   \n",
       "24691  NaN          Single_Gunshot  2017-03-15  20:08:03  WashingtonDC7D   \n",
       "\n",
       "       Latitude  Longitude  \n",
       "17514    38.931    -76.970  \n",
       "20378    38.894    -76.924  \n",
       "24456    38.841    -76.976  \n",
       "24691    38.840    -76.988  "
      ]
     },
     "execution_count": 30,
     "metadata": {},
     "output_type": "execute_result"
    }
   ],
   "source": [
    "shots_train[shots_train.ID.isnull()]"
   ]
  },
  {
   "cell_type": "code",
   "execution_count": 31,
   "metadata": {},
   "outputs": [],
   "source": [
    "def shot_spot_preprocess(df):\n",
    "    shots_train.set_index(['ID'], inplace=True)\n",
    "    shots_train.Source = shots_train.Source.apply(lambda DC: DC.replace('WashingtonDC', ''))\n",
    "    shots_train.Date = pd.to_datetime(shots_train.Date, infer_datetime_format=True)\n",
    "    return df\n",
    "\n",
    "shots_train = shot_spot_preprocess(shots_train)"
   ]
  },
  {
   "cell_type": "code",
   "execution_count": 35,
   "metadata": {},
   "outputs": [],
   "source": [
    "# shots_train.to_csv('./assets/mpd/shots_train_preprocessed.csv')"
   ]
  },
  {
   "cell_type": "code",
   "execution_count": 130,
   "metadata": {
    "scrolled": true
   },
   "outputs": [
    {
     "data": {
      "text/plain": [
       "7D    10342\n",
       "6D     8407\n",
       "5D     3216\n",
       "4D     2701\n",
       "1D     1954\n",
       "3D     1723\n",
       "Name: Source, dtype: int64"
      ]
     },
     "execution_count": 130,
     "metadata": {},
     "output_type": "execute_result"
    }
   ],
   "source": [
    "shots_train.Source.value_counts()"
   ]
  },
  {
   "cell_type": "code",
   "execution_count": 47,
   "metadata": {
    "scrolled": true
   },
   "outputs": [
    {
     "data": {
      "text/plain": [
       "Multiple_Gunshots         15858\n",
       "Single_Gunshot            10034\n",
       "Gunshot_or_Firecracker     2451\n",
       "Name: Type, dtype: int64"
      ]
     },
     "execution_count": 47,
     "metadata": {},
     "output_type": "execute_result"
    }
   ],
   "source": [
    "shots_train.Type.value_counts()"
   ]
  },
  {
   "cell_type": "markdown",
   "metadata": {},
   "source": [
    "##### Basic EDAs on City Service Requests Datasets"
   ]
  },
  {
   "cell_type": "code",
   "execution_count": 131,
   "metadata": {
    "scrolled": true
   },
   "outputs": [
    {
     "data": {
      "text/html": [
       "<div>\n",
       "<style scoped>\n",
       "    .dataframe tbody tr th:only-of-type {\n",
       "        vertical-align: middle;\n",
       "    }\n",
       "\n",
       "    .dataframe tbody tr th {\n",
       "        vertical-align: top;\n",
       "    }\n",
       "\n",
       "    .dataframe thead th {\n",
       "        text-align: right;\n",
       "    }\n",
       "</style>\n",
       "<table border=\"1\" class=\"dataframe\">\n",
       "  <thead>\n",
       "    <tr style=\"text-align: right;\">\n",
       "      <th></th>\n",
       "      <th>X</th>\n",
       "      <th>Y</th>\n",
       "      <th>OBJECTID</th>\n",
       "      <th>SERVICECODE</th>\n",
       "      <th>SERVICECODEDESCRIPTION</th>\n",
       "      <th>SERVICETYPECODEDESCRIPTION</th>\n",
       "    </tr>\n",
       "  </thead>\n",
       "  <tbody>\n",
       "    <tr>\n",
       "      <th>0</th>\n",
       "      <td>-76.972735</td>\n",
       "      <td>38.897957</td>\n",
       "      <td>463232</td>\n",
       "      <td>S0011</td>\n",
       "      <td>Alley Cleaning</td>\n",
       "      <td>Street Cleaning</td>\n",
       "    </tr>\n",
       "    <tr>\n",
       "      <th>1</th>\n",
       "      <td>-76.991907</td>\n",
       "      <td>38.922865</td>\n",
       "      <td>463233</td>\n",
       "      <td>S0321</td>\n",
       "      <td>Recycling Collection - Missed</td>\n",
       "      <td>Recycling</td>\n",
       "    </tr>\n",
       "    <tr>\n",
       "      <th>2</th>\n",
       "      <td>-76.970891</td>\n",
       "      <td>38.874749</td>\n",
       "      <td>463234</td>\n",
       "      <td>S0031</td>\n",
       "      <td>Bulk Collection</td>\n",
       "      <td>Bulk Collection</td>\n",
       "    </tr>\n",
       "    <tr>\n",
       "      <th>3</th>\n",
       "      <td>-77.022678</td>\n",
       "      <td>38.942819</td>\n",
       "      <td>463235</td>\n",
       "      <td>S0311</td>\n",
       "      <td>Rat Abatement</td>\n",
       "      <td>DOH</td>\n",
       "    </tr>\n",
       "    <tr>\n",
       "      <th>4</th>\n",
       "      <td>-77.048840</td>\n",
       "      <td>38.898960</td>\n",
       "      <td>463236</td>\n",
       "      <td>S0276</td>\n",
       "      <td>Parking Meter Repair</td>\n",
       "      <td>TOA</td>\n",
       "    </tr>\n",
       "  </tbody>\n",
       "</table>\n",
       "</div>"
      ],
      "text/plain": [
       "           X          Y  OBJECTID SERVICECODE         SERVICECODEDESCRIPTION  \\\n",
       "0 -76.972735  38.897957    463232       S0011                 Alley Cleaning   \n",
       "1 -76.991907  38.922865    463233       S0321  Recycling Collection - Missed   \n",
       "2 -76.970891  38.874749    463234       S0031                Bulk Collection   \n",
       "3 -77.022678  38.942819    463235       S0311                  Rat Abatement   \n",
       "4 -77.048840  38.898960    463236       S0276           Parking Meter Repair   \n",
       "\n",
       "  SERVICETYPECODEDESCRIPTION  \n",
       "0            Street Cleaning  \n",
       "1                  Recycling  \n",
       "2            Bulk Collection  \n",
       "3                        DOH  \n",
       "4                        TOA  "
      ]
     },
     "execution_count": 131,
     "metadata": {},
     "output_type": "execute_result"
    }
   ],
   "source": [
    "# Unnamed clearly the Original index column.  Delete that.\n",
    "# X and Y seems to be closely related to \n",
    "# Is service code description the same as service type, just a little more information?\n",
    "# Object ID can be set as the index.\n",
    "csr_train.iloc[:5, :6]"
   ]
  },
  {
   "cell_type": "code",
   "execution_count": 132,
   "metadata": {
    "scrolled": true
   },
   "outputs": [
    {
     "data": {
      "text/html": [
       "<div>\n",
       "<style scoped>\n",
       "    .dataframe tbody tr th:only-of-type {\n",
       "        vertical-align: middle;\n",
       "    }\n",
       "\n",
       "    .dataframe tbody tr th {\n",
       "        vertical-align: top;\n",
       "    }\n",
       "\n",
       "    .dataframe thead th {\n",
       "        text-align: right;\n",
       "    }\n",
       "</style>\n",
       "<table border=\"1\" class=\"dataframe\">\n",
       "  <thead>\n",
       "    <tr style=\"text-align: right;\">\n",
       "      <th></th>\n",
       "      <th>ORGANIZATIONACRONYM</th>\n",
       "      <th>SERVICECALLCOUNT</th>\n",
       "      <th>ADDDATE</th>\n",
       "      <th>RESOLUTIONDATE</th>\n",
       "      <th>SERVICEDUEDATE</th>\n",
       "      <th>SERVICEORDERDATE</th>\n",
       "    </tr>\n",
       "  </thead>\n",
       "  <tbody>\n",
       "    <tr>\n",
       "      <th>0</th>\n",
       "      <td>DPW</td>\n",
       "      <td>1</td>\n",
       "      <td>2014-01-02T13:27:40.000Z</td>\n",
       "      <td>2014-01-15T07:43:42.000Z</td>\n",
       "      <td>2014-02-18T13:27:40.000Z</td>\n",
       "      <td>2014-01-02T13:27:40.000Z</td>\n",
       "    </tr>\n",
       "    <tr>\n",
       "      <th>1</th>\n",
       "      <td>DPW</td>\n",
       "      <td>1</td>\n",
       "      <td>2014-01-02T13:46:57.000Z</td>\n",
       "      <td>2014-01-06T12:39:39.000Z</td>\n",
       "      <td>2014-01-06T13:46:57.000Z</td>\n",
       "      <td>2014-01-02T13:46:57.000Z</td>\n",
       "    </tr>\n",
       "    <tr>\n",
       "      <th>2</th>\n",
       "      <td>DPW</td>\n",
       "      <td>1</td>\n",
       "      <td>2014-01-02T13:57:46.000Z</td>\n",
       "      <td>2014-01-14T14:29:16.000Z</td>\n",
       "      <td>2014-01-23T13:57:46.000Z</td>\n",
       "      <td>2014-01-02T13:57:46.000Z</td>\n",
       "    </tr>\n",
       "    <tr>\n",
       "      <th>3</th>\n",
       "      <td>DOH</td>\n",
       "      <td>1</td>\n",
       "      <td>2014-01-02T13:43:20.000Z</td>\n",
       "      <td>NaN</td>\n",
       "      <td>2014-02-24T13:43:20.000Z</td>\n",
       "      <td>2014-01-02T13:43:20.000Z</td>\n",
       "    </tr>\n",
       "    <tr>\n",
       "      <th>4</th>\n",
       "      <td>DDOT</td>\n",
       "      <td>1</td>\n",
       "      <td>2014-01-02T16:00:59.000Z</td>\n",
       "      <td>2014-01-07T16:33:48.000Z</td>\n",
       "      <td>2014-01-09T16:00:59.000Z</td>\n",
       "      <td>2014-01-02T16:00:59.000Z</td>\n",
       "    </tr>\n",
       "  </tbody>\n",
       "</table>\n",
       "</div>"
      ],
      "text/plain": [
       "  ORGANIZATIONACRONYM  SERVICECALLCOUNT                   ADDDATE  \\\n",
       "0                 DPW                 1  2014-01-02T13:27:40.000Z   \n",
       "1                 DPW                 1  2014-01-02T13:46:57.000Z   \n",
       "2                 DPW                 1  2014-01-02T13:57:46.000Z   \n",
       "3                 DOH                 1  2014-01-02T13:43:20.000Z   \n",
       "4                DDOT                 1  2014-01-02T16:00:59.000Z   \n",
       "\n",
       "             RESOLUTIONDATE            SERVICEDUEDATE  \\\n",
       "0  2014-01-15T07:43:42.000Z  2014-02-18T13:27:40.000Z   \n",
       "1  2014-01-06T12:39:39.000Z  2014-01-06T13:46:57.000Z   \n",
       "2  2014-01-14T14:29:16.000Z  2014-01-23T13:57:46.000Z   \n",
       "3                       NaN  2014-02-24T13:43:20.000Z   \n",
       "4  2014-01-07T16:33:48.000Z  2014-01-09T16:00:59.000Z   \n",
       "\n",
       "           SERVICEORDERDATE  \n",
       "0  2014-01-02T13:27:40.000Z  \n",
       "1  2014-01-02T13:46:57.000Z  \n",
       "2  2014-01-02T13:57:46.000Z  \n",
       "3  2014-01-02T13:43:20.000Z  \n",
       "4  2014-01-02T16:00:59.000Z  "
      ]
     },
     "execution_count": 132,
     "metadata": {},
     "output_type": "execute_result"
    }
   ],
   "source": [
    "# Service Type, Important to know the different values there.\n",
    "# Organization to know who is on the task.\n",
    "# Service call count to see how many times a call is needed.\n",
    "# Everything just needs to be set to datetime.\n",
    "csr_train.iloc[:5, 6:12]"
   ]
  },
  {
   "cell_type": "code",
   "execution_count": 133,
   "metadata": {},
   "outputs": [
    {
     "data": {
      "text/html": [
       "<div>\n",
       "<style scoped>\n",
       "    .dataframe tbody tr th:only-of-type {\n",
       "        vertical-align: middle;\n",
       "    }\n",
       "\n",
       "    .dataframe tbody tr th {\n",
       "        vertical-align: top;\n",
       "    }\n",
       "\n",
       "    .dataframe thead th {\n",
       "        text-align: right;\n",
       "    }\n",
       "</style>\n",
       "<table border=\"1\" class=\"dataframe\">\n",
       "  <thead>\n",
       "    <tr style=\"text-align: right;\">\n",
       "      <th></th>\n",
       "      <th>INSPECTIONFLAG</th>\n",
       "      <th>INSPECTIONDATE</th>\n",
       "      <th>INSPECTORNAME</th>\n",
       "      <th>SERVICEORDERSTATUS</th>\n",
       "      <th>STATUS_CODE</th>\n",
       "      <th>SERVICEREQUESTID</th>\n",
       "    </tr>\n",
       "  </thead>\n",
       "  <tbody>\n",
       "    <tr>\n",
       "      <th>0</th>\n",
       "      <td>N</td>\n",
       "      <td>NaN</td>\n",
       "      <td>NaN</td>\n",
       "      <td>CLOSED</td>\n",
       "      <td>NaN</td>\n",
       "      <td>14-00000654</td>\n",
       "    </tr>\n",
       "    <tr>\n",
       "      <th>1</th>\n",
       "      <td>N</td>\n",
       "      <td>2014-01-06T12:39:00.000Z</td>\n",
       "      <td>Bryant, Kevin</td>\n",
       "      <td>CLOSED</td>\n",
       "      <td>NaN</td>\n",
       "      <td>14-00000686</td>\n",
       "    </tr>\n",
       "    <tr>\n",
       "      <th>2</th>\n",
       "      <td>N</td>\n",
       "      <td>NaN</td>\n",
       "      <td>NaN</td>\n",
       "      <td>CLOSED</td>\n",
       "      <td>NaN</td>\n",
       "      <td>14-00000707</td>\n",
       "    </tr>\n",
       "    <tr>\n",
       "      <th>3</th>\n",
       "      <td>N</td>\n",
       "      <td>NaN</td>\n",
       "      <td>NaN</td>\n",
       "      <td>OPEN</td>\n",
       "      <td>NaN</td>\n",
       "      <td>14-00000677</td>\n",
       "    </tr>\n",
       "    <tr>\n",
       "      <th>4</th>\n",
       "      <td>N</td>\n",
       "      <td>NaN</td>\n",
       "      <td>NaN</td>\n",
       "      <td>CLOSED</td>\n",
       "      <td>NaN</td>\n",
       "      <td>14-00000877</td>\n",
       "    </tr>\n",
       "  </tbody>\n",
       "</table>\n",
       "</div>"
      ],
      "text/plain": [
       "  INSPECTIONFLAG            INSPECTIONDATE  INSPECTORNAME SERVICEORDERSTATUS  \\\n",
       "0              N                       NaN            NaN             CLOSED   \n",
       "1              N  2014-01-06T12:39:00.000Z  Bryant, Kevin             CLOSED   \n",
       "2              N                       NaN            NaN             CLOSED   \n",
       "3              N                       NaN            NaN               OPEN   \n",
       "4              N                       NaN            NaN             CLOSED   \n",
       "\n",
       "  STATUS_CODE SERVICEREQUESTID  \n",
       "0         NaN      14-00000654  \n",
       "1         NaN      14-00000686  \n",
       "2         NaN      14-00000707  \n",
       "3         NaN      14-00000677  \n",
       "4         NaN      14-00000877  "
      ]
     },
     "execution_count": 133,
     "metadata": {},
     "output_type": "execute_result"
    }
   ],
   "source": [
    "# Service order data good.  Needs to be broken down into Datetime.\n",
    "# Inspection Flag, what does that mean?\n",
    "# Remove Inspector Name\n",
    "# What does Status code contain? A lot of NaN could be bad\n",
    "# Service Order Status, Important maybe?\n",
    "csr_train.iloc[:5, 12:18]"
   ]
  },
  {
   "cell_type": "code",
   "execution_count": 134,
   "metadata": {
    "scrolled": true
   },
   "outputs": [
    {
     "data": {
      "text/html": [
       "<div>\n",
       "<style scoped>\n",
       "    .dataframe tbody tr th:only-of-type {\n",
       "        vertical-align: middle;\n",
       "    }\n",
       "\n",
       "    .dataframe tbody tr th {\n",
       "        vertical-align: top;\n",
       "    }\n",
       "\n",
       "    .dataframe thead th {\n",
       "        text-align: right;\n",
       "    }\n",
       "</style>\n",
       "<table border=\"1\" class=\"dataframe\">\n",
       "  <thead>\n",
       "    <tr style=\"text-align: right;\">\n",
       "      <th></th>\n",
       "      <th>PRIORITY</th>\n",
       "      <th>STREETADDRESS</th>\n",
       "      <th>XCOORD</th>\n",
       "      <th>YCOORD</th>\n",
       "      <th>LATITUDE</th>\n",
       "      <th>LONGITUDE</th>\n",
       "    </tr>\n",
       "  </thead>\n",
       "  <tbody>\n",
       "    <tr>\n",
       "      <th>0</th>\n",
       "      <td>STANDARD</td>\n",
       "      <td>2301 BENNING ROAD NE</td>\n",
       "      <td>402365.36</td>\n",
       "      <td>136678.02</td>\n",
       "      <td>38.897950</td>\n",
       "      <td>-76.972732</td>\n",
       "    </tr>\n",
       "    <tr>\n",
       "      <th>1</th>\n",
       "      <td>STANDARD</td>\n",
       "      <td>1004 RHODE ISLAND AVENUE NE</td>\n",
       "      <td>400701.99</td>\n",
       "      <td>139442.62</td>\n",
       "      <td>38.922857</td>\n",
       "      <td>-76.991905</td>\n",
       "    </tr>\n",
       "    <tr>\n",
       "      <th>2</th>\n",
       "      <td>STANDARD</td>\n",
       "      <td>2333 FAIRLAWN AVENUE SE</td>\n",
       "      <td>402526.12</td>\n",
       "      <td>134101.82</td>\n",
       "      <td>38.874742</td>\n",
       "      <td>-76.970889</td>\n",
       "    </tr>\n",
       "    <tr>\n",
       "      <th>3</th>\n",
       "      <td>STANDARD</td>\n",
       "      <td>720 VARNUM STREET NW</td>\n",
       "      <td>398034.18</td>\n",
       "      <td>141657.91</td>\n",
       "      <td>38.942811</td>\n",
       "      <td>-77.022676</td>\n",
       "    </tr>\n",
       "    <tr>\n",
       "      <th>4</th>\n",
       "      <td>STANDARD</td>\n",
       "      <td>700 - 799 BLOCK OF 22ND STREET NW</td>\n",
       "      <td>395763.56</td>\n",
       "      <td>136790.11</td>\n",
       "      <td>38.898952</td>\n",
       "      <td>-77.048838</td>\n",
       "    </tr>\n",
       "  </tbody>\n",
       "</table>\n",
       "</div>"
      ],
      "text/plain": [
       "   PRIORITY                      STREETADDRESS     XCOORD     YCOORD  \\\n",
       "0  STANDARD               2301 BENNING ROAD NE  402365.36  136678.02   \n",
       "1  STANDARD        1004 RHODE ISLAND AVENUE NE  400701.99  139442.62   \n",
       "2  STANDARD            2333 FAIRLAWN AVENUE SE  402526.12  134101.82   \n",
       "3  STANDARD               720 VARNUM STREET NW  398034.18  141657.91   \n",
       "4  STANDARD  700 - 799 BLOCK OF 22ND STREET NW  395763.56  136790.11   \n",
       "\n",
       "    LATITUDE  LONGITUDE  \n",
       "0  38.897950 -76.972732  \n",
       "1  38.922857 -76.991905  \n",
       "2  38.874742 -76.970889  \n",
       "3  38.942811 -77.022676  \n",
       "4  38.898952 -77.048838  "
      ]
     },
     "execution_count": 134,
     "metadata": {},
     "output_type": "execute_result"
    }
   ],
   "source": [
    "# Service Request ID seems unimportant\n",
    "# What is the XCOORD and YCOORD?\n",
    "# Street Address can help us find our quandrants. Do we also want the address or is Latitude and Longitude\n",
    "# Priority - how many unique values are in there?\n",
    "csr_train.iloc[:5, 18:24]"
   ]
  },
  {
   "cell_type": "code",
   "execution_count": 135,
   "metadata": {},
   "outputs": [
    {
     "data": {
      "text/html": [
       "<div>\n",
       "<style scoped>\n",
       "    .dataframe tbody tr th:only-of-type {\n",
       "        vertical-align: middle;\n",
       "    }\n",
       "\n",
       "    .dataframe tbody tr th {\n",
       "        vertical-align: top;\n",
       "    }\n",
       "\n",
       "    .dataframe thead th {\n",
       "        text-align: right;\n",
       "    }\n",
       "</style>\n",
       "<table border=\"1\" class=\"dataframe\">\n",
       "  <thead>\n",
       "    <tr style=\"text-align: right;\">\n",
       "      <th></th>\n",
       "      <th>CITY</th>\n",
       "      <th>STATE</th>\n",
       "      <th>ZIPCODE</th>\n",
       "      <th>MARADDRESSREPOSITORYID</th>\n",
       "      <th>WARD</th>\n",
       "      <th>DETAILS</th>\n",
       "    </tr>\n",
       "  </thead>\n",
       "  <tbody>\n",
       "    <tr>\n",
       "      <th>0</th>\n",
       "      <td>WASHINGTON</td>\n",
       "      <td>DC</td>\n",
       "      <td>20002.0</td>\n",
       "      <td>48983.0</td>\n",
       "      <td>Ward 7</td>\n",
       "      <td>There is some dumping in the rear of this addr...</td>\n",
       "    </tr>\n",
       "    <tr>\n",
       "      <th>1</th>\n",
       "      <td>WASHINGTON</td>\n",
       "      <td>DC</td>\n",
       "      <td>20018.0</td>\n",
       "      <td>76304.0</td>\n",
       "      <td>Ward 5</td>\n",
       "      <td>Has not been collected the past 4 weeks.</td>\n",
       "    </tr>\n",
       "    <tr>\n",
       "      <th>2</th>\n",
       "      <td>WASHINGTON</td>\n",
       "      <td>DC</td>\n",
       "      <td>20020.0</td>\n",
       "      <td>286919.0</td>\n",
       "      <td>Ward 7</td>\n",
       "      <td>1 television, 2 vacuums, 1 boom box,</td>\n",
       "    </tr>\n",
       "    <tr>\n",
       "      <th>3</th>\n",
       "      <td>WASHINGTON</td>\n",
       "      <td>DC</td>\n",
       "      <td>20011.0</td>\n",
       "      <td>249794.0</td>\n",
       "      <td>Ward 4</td>\n",
       "      <td>requesting ratb abatement</td>\n",
       "    </tr>\n",
       "    <tr>\n",
       "      <th>4</th>\n",
       "      <td>WASHINGTON</td>\n",
       "      <td>DC</td>\n",
       "      <td>20052.0</td>\n",
       "      <td>NaN</td>\n",
       "      <td>2</td>\n",
       "      <td>Broken Parking Meter</td>\n",
       "    </tr>\n",
       "  </tbody>\n",
       "</table>\n",
       "</div>"
      ],
      "text/plain": [
       "         CITY STATE  ZIPCODE  MARADDRESSREPOSITORYID    WARD  \\\n",
       "0  WASHINGTON    DC  20002.0                 48983.0  Ward 7   \n",
       "1  WASHINGTON    DC  20018.0                 76304.0  Ward 5   \n",
       "2  WASHINGTON    DC  20020.0                286919.0  Ward 7   \n",
       "3  WASHINGTON    DC  20011.0                249794.0  Ward 4   \n",
       "4  WASHINGTON    DC  20052.0                     NaN       2   \n",
       "\n",
       "                                             DETAILS  \n",
       "0  There is some dumping in the rear of this addr...  \n",
       "1           Has not been collected the past 4 weeks.  \n",
       "2               1 television, 2 vacuums, 1 boom box,  \n",
       "3                          requesting ratb abatement  \n",
       "4                               Broken Parking Meter  "
      ]
     },
     "execution_count": 135,
     "metadata": {},
     "output_type": "execute_result"
    }
   ],
   "source": [
    "# Remove City and State\n",
    "# clean up the Ward to just numbers\n",
    "# Fix Zipcode to be int.\n",
    "# Longitude is the same as the X column\n",
    "# Details can be vectorized.\n",
    "# What is MARADDRESSREPOSITORYID?\n",
    "csr_train.iloc[:5, 24:31]"
   ]
  },
  {
   "cell_type": "markdown",
   "metadata": {},
   "source": [
    "##### Check with some categorical columns' values and find typos or misspelled. "
   ]
  },
  {
   "cell_type": "code",
   "execution_count": 136,
   "metadata": {
    "scrolled": false
   },
   "outputs": [
    {
     "data": {
      "text/plain": [
       "STANDARD     1179004\n",
       "URGENT         24585\n",
       "EMERGNCY       23635\n",
       "EMERGENCY       1189\n",
       "PRIORITY         141\n",
       "ESCALATED          1\n",
       "PRIOR003           1\n",
       "Name: PRIORITY, dtype: int64"
      ]
     },
     "execution_count": 136,
     "metadata": {},
     "output_type": "execute_result"
    }
   ],
   "source": [
    "csr_train.PRIORITY.value_counts()"
   ]
  },
  {
   "cell_type": "markdown",
   "metadata": {},
   "source": [
    "##### Preprocessing"
   ]
  },
  {
   "cell_type": "code",
   "execution_count": 137,
   "metadata": {
    "scrolled": false
   },
   "outputs": [],
   "source": [
    "# create preprocess function\n",
    "\n",
    "def crimespot_preprocess(df):\n",
    "    # Removing unused or redundent information\n",
    "    csr_train.drop(['INSPECTORNAME', 'CITY', 'STATE', 'X', 'Y'], axis=1, inplace=True)\n",
    "    csr_train.columns = map(str.lower, csr_train.columns) # Easier to work with lowercase columns\n",
    "\n",
    "    # fill nan values to 0\n",
    "    csr_train.serviceduedate.fillna('0', inplace=True)\n",
    "    csr_train.resolutiondate.fillna('0', inplace=True)\n",
    "    csr_train.inspectiondate.fillna('0', inplace=True)\n",
    "    \n",
    "    # replace values\n",
    "    csr_train.priority.replace(\"EMERGNCY\", \"EMERGENCY\")\n",
    "    \n",
    "    # clean up datetime related data\n",
    "    timestamp = ['adddate', 'resolutiondate', 'serviceduedate', 'serviceorderdate', 'inspectiondate']\n",
    "    for x in timestamp:\n",
    "        csr_train[x] = csr_train[x].map(lambda x: x.strip('Z').replace('T', ' '))\n",
    "    \n",
    "    # treat zipcode as string and strip\n",
    "    csr_train.zipcode = csr_train.zipcode.astype(str).str.strip().str.strip('.0')\n",
    "\n",
    "    # (KS) make single line to combine Brian's on 'Ward'\n",
    "    csr_train.ward = csr_train.ward.astype(str).map(lambda x: x.strip('Ward')).str.strip().str.strip('.0')\n",
    "\n",
    "    return df\n",
    "\n",
    "csr_train = crimespot_preprocess(csr_train)"
   ]
  },
  {
   "cell_type": "markdown",
   "metadata": {},
   "source": [
    "##### Remainders for the preprocessing (responsible - Kihoon)"
   ]
  },
  {
   "cell_type": "code",
   "execution_count": 138,
   "metadata": {},
   "outputs": [
    {
     "data": {
      "text/plain": [
       "2      254937\n",
       "6      214903\n",
       "4      158945\n",
       "5      153126\n",
       "1      127995\n",
       "7      119438\n",
       "3      114738\n",
       "8       80930\n",
       "nan      6221\n",
       "Name: ward, dtype: int64"
      ]
     },
     "execution_count": 138,
     "metadata": {},
     "output_type": "execute_result"
    }
   ],
   "source": [
    "csr_train.ward.value_counts()"
   ]
  },
  {
   "cell_type": "code",
   "execution_count": null,
   "metadata": {},
   "outputs": [],
   "source": [
    "# (BC)'s code on 6221 missing(nan) values. Maybe we can put in the Ward based on Zipcode\n",
    "\n",
    "# Since it is no longer, null data. How to fix it? (KS)\n",
    "\n",
    "# for index, row in csr_train.iterrows():\n",
    "#     if(pd.isnull(row['WARD'])):\n",
    "#         row['WARD'] = row['ZIPCODE']\n",
    "#         #         for x in csr_train:\n",
    "# #     if pd.isnull(x):\n",
    "# #         x['WARD'] = csr_train.ZIPCODE\n"
   ]
  },
  {
   "cell_type": "markdown",
   "metadata": {},
   "source": [
    "##### New challenge here, team! Thousands of spoiled zipcode data detected .\n",
    "- Initially, team assumed that we have only 16 null values to manually map zipcode by address\n",
    "- However, apparently there were tons of spoiled zipcodes. \n",
    "- Primarily, Kihoon will take a look on this to fix."
   ]
  },
  {
   "cell_type": "code",
   "execution_count": 139,
   "metadata": {
    "scrolled": true
   },
   "outputs": [
    {
     "data": {
      "text/plain": [
       "20002    144190\n",
       "20011    123232\n",
       "20001    119199\n",
       "20019     90170\n",
       "20009     80421\n",
       "2002      66351\n",
       "20007     61568\n",
       "20003     61316\n",
       "2001      51723\n",
       "20016     48526\n",
       "20032     37641\n",
       "20018     37447\n",
       "20008     34014\n",
       "20005     33947\n",
       "20017     33281\n",
       "20015     31462\n",
       "20037     30120\n",
       "20036     29633\n",
       "20024     29490\n",
       "20012     28990\n",
       "20006     22403\n",
       "20004     19572\n",
       "20052      4942\n",
       "20415      1011\n",
       "20059       966\n",
       "2025        854\n",
       "2024        636\n",
       "20405       601\n",
       "20201       553\n",
       "20057       523\n",
       "          ...  \n",
       "20886         1\n",
       "2122          1\n",
       "36            1\n",
       "-12           1\n",
       "20613         1\n",
       "28272         1\n",
       "20135         1\n",
       "2051          1\n",
       "83127         1\n",
       "-4115         1\n",
       "23294         1\n",
       "1             1\n",
       "-1254         1\n",
       "16            1\n",
       "20705         1\n",
       "22406         1\n",
       "60435         1\n",
       "-1865         1\n",
       "22046         1\n",
       "20906         1\n",
       "-2103         1\n",
       "2077          1\n",
       "2             1\n",
       "-2207         1\n",
       "20746         1\n",
       "9002          1\n",
       "-2326         1\n",
       "20783         1\n",
       "11            1\n",
       "24577         1\n",
       "Name: zipcode, Length: 179, dtype: int64"
      ]
     },
     "execution_count": 139,
     "metadata": {},
     "output_type": "execute_result"
    }
   ],
   "source": [
    "csr_train.zipcode.value_counts()"
   ]
  },
  {
   "cell_type": "markdown",
   "metadata": {},
   "source": [
    "##### Teams, two datasets have different digits in the Lat's and Long's. Will it be matters? (KS)\n",
    "- Exec decision) keep Lats/Longs for 4 decimal points as 11m errors."
   ]
  },
  {
   "cell_type": "code",
   "execution_count": 5,
   "metadata": {},
   "outputs": [
    {
     "data": {
      "text/html": [
       "<div>\n",
       "<style scoped>\n",
       "    .dataframe tbody tr th:only-of-type {\n",
       "        vertical-align: middle;\n",
       "    }\n",
       "\n",
       "    .dataframe tbody tr th {\n",
       "        vertical-align: top;\n",
       "    }\n",
       "\n",
       "    .dataframe thead th {\n",
       "        text-align: right;\n",
       "    }\n",
       "</style>\n",
       "<table border=\"1\" class=\"dataframe\">\n",
       "  <thead>\n",
       "    <tr style=\"text-align: right;\">\n",
       "      <th></th>\n",
       "      <th>LATITUDE</th>\n",
       "      <th>LONGITUDE</th>\n",
       "    </tr>\n",
       "  </thead>\n",
       "  <tbody>\n",
       "    <tr>\n",
       "      <th>0</th>\n",
       "      <td>38.897950</td>\n",
       "      <td>-76.972732</td>\n",
       "    </tr>\n",
       "    <tr>\n",
       "      <th>1</th>\n",
       "      <td>38.922857</td>\n",
       "      <td>-76.991905</td>\n",
       "    </tr>\n",
       "    <tr>\n",
       "      <th>2</th>\n",
       "      <td>38.874742</td>\n",
       "      <td>-76.970889</td>\n",
       "    </tr>\n",
       "    <tr>\n",
       "      <th>3</th>\n",
       "      <td>38.942811</td>\n",
       "      <td>-77.022676</td>\n",
       "    </tr>\n",
       "    <tr>\n",
       "      <th>4</th>\n",
       "      <td>38.898952</td>\n",
       "      <td>-77.048838</td>\n",
       "    </tr>\n",
       "  </tbody>\n",
       "</table>\n",
       "</div>"
      ],
      "text/plain": [
       "    LATITUDE  LONGITUDE\n",
       "0  38.897950 -76.972732\n",
       "1  38.922857 -76.991905\n",
       "2  38.874742 -76.970889\n",
       "3  38.942811 -77.022676\n",
       "4  38.898952 -77.048838"
      ]
     },
     "execution_count": 5,
     "metadata": {},
     "output_type": "execute_result"
    }
   ],
   "source": [
    "csr_train[['LATITUDE', 'LONGITUDE']].head()"
   ]
  },
  {
   "cell_type": "code",
   "execution_count": 6,
   "metadata": {},
   "outputs": [
    {
     "data": {
      "text/html": [
       "<div>\n",
       "<style scoped>\n",
       "    .dataframe tbody tr th:only-of-type {\n",
       "        vertical-align: middle;\n",
       "    }\n",
       "\n",
       "    .dataframe tbody tr th {\n",
       "        vertical-align: top;\n",
       "    }\n",
       "\n",
       "    .dataframe thead th {\n",
       "        text-align: right;\n",
       "    }\n",
       "</style>\n",
       "<table border=\"1\" class=\"dataframe\">\n",
       "  <thead>\n",
       "    <tr style=\"text-align: right;\">\n",
       "      <th></th>\n",
       "      <th>Latitude</th>\n",
       "      <th>Longitude</th>\n",
       "    </tr>\n",
       "  </thead>\n",
       "  <tbody>\n",
       "    <tr>\n",
       "      <th>0</th>\n",
       "      <td>38.917</td>\n",
       "      <td>-77.012</td>\n",
       "    </tr>\n",
       "    <tr>\n",
       "      <th>1</th>\n",
       "      <td>38.917</td>\n",
       "      <td>-77.002</td>\n",
       "    </tr>\n",
       "    <tr>\n",
       "      <th>2</th>\n",
       "      <td>38.917</td>\n",
       "      <td>-76.987</td>\n",
       "    </tr>\n",
       "    <tr>\n",
       "      <th>3</th>\n",
       "      <td>38.823</td>\n",
       "      <td>-77.000</td>\n",
       "    </tr>\n",
       "    <tr>\n",
       "      <th>4</th>\n",
       "      <td>38.893</td>\n",
       "      <td>-76.993</td>\n",
       "    </tr>\n",
       "  </tbody>\n",
       "</table>\n",
       "</div>"
      ],
      "text/plain": [
       "   Latitude  Longitude\n",
       "0    38.917    -77.012\n",
       "1    38.917    -77.002\n",
       "2    38.917    -76.987\n",
       "3    38.823    -77.000\n",
       "4    38.893    -76.993"
      ]
     },
     "execution_count": 6,
     "metadata": {},
     "output_type": "execute_result"
    }
   ],
   "source": [
    "shots_train[['Latitude', 'Longitude']].head()"
   ]
  }
 ],
 "metadata": {
  "kernelspec": {
   "display_name": "Python [default]",
   "language": "python",
   "name": "python3"
  },
  "language_info": {
   "codemirror_mode": {
    "name": "ipython",
    "version": 3
   },
   "file_extension": ".py",
   "mimetype": "text/x-python",
   "name": "python",
   "nbconvert_exporter": "python",
   "pygments_lexer": "ipython3",
   "version": "3.6.5"
  }
 },
 "nbformat": 4,
 "nbformat_minor": 2
}
