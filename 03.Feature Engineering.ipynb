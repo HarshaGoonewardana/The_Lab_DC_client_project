{
 "cells": [
  {
   "cell_type": "code",
   "execution_count": 128,
   "metadata": {},
   "outputs": [],
   "source": [
    "# !pip install pygeocoder"
   ]
  },
  {
   "cell_type": "code",
   "execution_count": 129,
   "metadata": {
    "scrolled": true
   },
   "outputs": [],
   "source": [
    "import pandas as pd\n",
    "import numpy as np\n",
    "from pygeocoder import Geocoder\n",
    "import time"
   ]
  },
  {
   "cell_type": "code",
   "execution_count": 130,
   "metadata": {},
   "outputs": [],
   "source": [
    "shots_psa = pd.read_csv('./assets/mpd/shots_train_preprocessed.csv', index_col='ID')"
   ]
  },
  {
   "cell_type": "code",
   "execution_count": 131,
   "metadata": {},
   "outputs": [
    {
     "name": "stdout",
     "output_type": "stream",
     "text": [
      "<class 'pandas.core.frame.DataFrame'>\n",
      "Index: 28343 entries, 5D39700 to 6D200900\n",
      "Data columns (total 6 columns):\n",
      "Type         28343 non-null object\n",
      "Date         28343 non-null object\n",
      "Time         28343 non-null object\n",
      "Source       28343 non-null object\n",
      "Latitude     28343 non-null float64\n",
      "Longitude    28343 non-null float64\n",
      "dtypes: float64(2), object(4)\n",
      "memory usage: 1.5+ MB\n"
     ]
    }
   ],
   "source": [
    "shots_psa.info()"
   ]
  },
  {
   "cell_type": "code",
   "execution_count": 132,
   "metadata": {
    "scrolled": true
   },
   "outputs": [
    {
     "data": {
      "text/html": [
       "<div>\n",
       "<style scoped>\n",
       "    .dataframe tbody tr th:only-of-type {\n",
       "        vertical-align: middle;\n",
       "    }\n",
       "\n",
       "    .dataframe tbody tr th {\n",
       "        vertical-align: top;\n",
       "    }\n",
       "\n",
       "    .dataframe thead th {\n",
       "        text-align: right;\n",
       "    }\n",
       "</style>\n",
       "<table border=\"1\" class=\"dataframe\">\n",
       "  <thead>\n",
       "    <tr style=\"text-align: right;\">\n",
       "      <th></th>\n",
       "      <th>Type</th>\n",
       "      <th>Date</th>\n",
       "      <th>Time</th>\n",
       "      <th>Source</th>\n",
       "      <th>Latitude</th>\n",
       "      <th>Longitude</th>\n",
       "    </tr>\n",
       "    <tr>\n",
       "      <th>ID</th>\n",
       "      <th></th>\n",
       "      <th></th>\n",
       "      <th></th>\n",
       "      <th></th>\n",
       "      <th></th>\n",
       "      <th></th>\n",
       "    </tr>\n",
       "  </thead>\n",
       "  <tbody>\n",
       "    <tr>\n",
       "      <th>5D39700</th>\n",
       "      <td>Multiple_Gunshots</td>\n",
       "      <td>2014-01-01</td>\n",
       "      <td>00:00:02</td>\n",
       "      <td>5D</td>\n",
       "      <td>38.917</td>\n",
       "      <td>-77.012</td>\n",
       "    </tr>\n",
       "    <tr>\n",
       "      <th>5D39701</th>\n",
       "      <td>Multiple_Gunshots</td>\n",
       "      <td>2014-01-01</td>\n",
       "      <td>00:00:06</td>\n",
       "      <td>5D</td>\n",
       "      <td>38.917</td>\n",
       "      <td>-77.002</td>\n",
       "    </tr>\n",
       "    <tr>\n",
       "      <th>5D39702</th>\n",
       "      <td>Multiple_Gunshots</td>\n",
       "      <td>2014-01-01</td>\n",
       "      <td>00:00:07</td>\n",
       "      <td>5D</td>\n",
       "      <td>38.917</td>\n",
       "      <td>-76.987</td>\n",
       "    </tr>\n",
       "    <tr>\n",
       "      <th>7D119445</th>\n",
       "      <td>Multiple_Gunshots</td>\n",
       "      <td>2014-01-01</td>\n",
       "      <td>00:00:10</td>\n",
       "      <td>7D</td>\n",
       "      <td>38.823</td>\n",
       "      <td>-77.000</td>\n",
       "    </tr>\n",
       "    <tr>\n",
       "      <th>1D55993</th>\n",
       "      <td>Multiple_Gunshots</td>\n",
       "      <td>2014-01-01</td>\n",
       "      <td>00:00:10</td>\n",
       "      <td>1D</td>\n",
       "      <td>38.893</td>\n",
       "      <td>-76.993</td>\n",
       "    </tr>\n",
       "  </tbody>\n",
       "</table>\n",
       "</div>"
      ],
      "text/plain": [
       "                       Type        Date      Time Source  Latitude  Longitude\n",
       "ID                                                                           \n",
       "5D39700   Multiple_Gunshots  2014-01-01  00:00:02     5D    38.917    -77.012\n",
       "5D39701   Multiple_Gunshots  2014-01-01  00:00:06     5D    38.917    -77.002\n",
       "5D39702   Multiple_Gunshots  2014-01-01  00:00:07     5D    38.917    -76.987\n",
       "7D119445  Multiple_Gunshots  2014-01-01  00:00:10     7D    38.823    -77.000\n",
       "1D55993   Multiple_Gunshots  2014-01-01  00:00:10     1D    38.893    -76.993"
      ]
     },
     "execution_count": 132,
     "metadata": {},
     "output_type": "execute_result"
    }
   ],
   "source": [
    "shots_psa.head()"
   ]
  },
  {
   "cell_type": "code",
   "execution_count": 159,
   "metadata": {},
   "outputs": [],
   "source": [
    "results = Geocoder.reverse_geocode(shots_psa['Latitude'][1], shots_psa['Longitude'][1])"
   ]
  },
  {
   "cell_type": "code",
   "execution_count": 160,
   "metadata": {},
   "outputs": [
    {
     "data": {
      "text/plain": [
       "'306 U St NE, Washington, DC 20002, USA'"
      ]
     },
     "execution_count": 160,
     "metadata": {},
     "output_type": "execute_result"
    }
   ],
   "source": [
    "results.formatted_address"
   ]
  },
  {
   "cell_type": "code",
   "execution_count": 135,
   "metadata": {},
   "outputs": [],
   "source": [
    "shots = shots_psa.head()"
   ]
  },
  {
   "cell_type": "code",
   "execution_count": 154,
   "metadata": {},
   "outputs": [],
   "source": [
    "x = -1\n",
    "for i in shots_psa:\n",
    "    try:\n",
    "        x += 1\n",
    "        shots_psa['Address'] = Geocoder.reverse_geocode(shots_psa['Latitude'][x], shots_psa['Longitude'][x]).formatted_address\n",
    "        time.sleep(0.1)\n",
    "    except:\n",
    "        time.sleep(20)\n",
    "        pass"
   ]
  },
  {
   "cell_type": "code",
   "execution_count": 156,
   "metadata": {},
   "outputs": [
    {
     "data": {
      "text/html": [
       "<div>\n",
       "<style scoped>\n",
       "    .dataframe tbody tr th:only-of-type {\n",
       "        vertical-align: middle;\n",
       "    }\n",
       "\n",
       "    .dataframe tbody tr th {\n",
       "        vertical-align: top;\n",
       "    }\n",
       "\n",
       "    .dataframe thead th {\n",
       "        text-align: right;\n",
       "    }\n",
       "</style>\n",
       "<table border=\"1\" class=\"dataframe\">\n",
       "  <thead>\n",
       "    <tr style=\"text-align: right;\">\n",
       "      <th></th>\n",
       "      <th>Type</th>\n",
       "      <th>Date</th>\n",
       "      <th>Time</th>\n",
       "      <th>Source</th>\n",
       "      <th>Latitude</th>\n",
       "      <th>Longitude</th>\n",
       "      <th>Address</th>\n",
       "    </tr>\n",
       "    <tr>\n",
       "      <th>ID</th>\n",
       "      <th></th>\n",
       "      <th></th>\n",
       "      <th></th>\n",
       "      <th></th>\n",
       "      <th></th>\n",
       "      <th></th>\n",
       "      <th></th>\n",
       "    </tr>\n",
       "  </thead>\n",
       "  <tbody>\n",
       "    <tr>\n",
       "      <th>5D39700</th>\n",
       "      <td>Multiple_Gunshots</td>\n",
       "      <td>2014-01-01</td>\n",
       "      <td>00:00:02</td>\n",
       "      <td>5D</td>\n",
       "      <td>38.917</td>\n",
       "      <td>-77.012</td>\n",
       "      <td>4500 East Capitol St NE, Washington, DC 20019,...</td>\n",
       "    </tr>\n",
       "    <tr>\n",
       "      <th>5D39701</th>\n",
       "      <td>Multiple_Gunshots</td>\n",
       "      <td>2014-01-01</td>\n",
       "      <td>00:00:06</td>\n",
       "      <td>5D</td>\n",
       "      <td>38.917</td>\n",
       "      <td>-77.002</td>\n",
       "      <td>4500 East Capitol St NE, Washington, DC 20019,...</td>\n",
       "    </tr>\n",
       "    <tr>\n",
       "      <th>5D39702</th>\n",
       "      <td>Multiple_Gunshots</td>\n",
       "      <td>2014-01-01</td>\n",
       "      <td>00:00:07</td>\n",
       "      <td>5D</td>\n",
       "      <td>38.917</td>\n",
       "      <td>-76.987</td>\n",
       "      <td>4500 East Capitol St NE, Washington, DC 20019,...</td>\n",
       "    </tr>\n",
       "    <tr>\n",
       "      <th>7D119445</th>\n",
       "      <td>Multiple_Gunshots</td>\n",
       "      <td>2014-01-01</td>\n",
       "      <td>00:00:10</td>\n",
       "      <td>7D</td>\n",
       "      <td>38.823</td>\n",
       "      <td>-77.000</td>\n",
       "      <td>4500 East Capitol St NE, Washington, DC 20019,...</td>\n",
       "    </tr>\n",
       "    <tr>\n",
       "      <th>1D55993</th>\n",
       "      <td>Multiple_Gunshots</td>\n",
       "      <td>2014-01-01</td>\n",
       "      <td>00:00:10</td>\n",
       "      <td>1D</td>\n",
       "      <td>38.893</td>\n",
       "      <td>-76.993</td>\n",
       "      <td>4500 East Capitol St NE, Washington, DC 20019,...</td>\n",
       "    </tr>\n",
       "  </tbody>\n",
       "</table>\n",
       "</div>"
      ],
      "text/plain": [
       "                       Type        Date      Time Source  Latitude  Longitude  \\\n",
       "ID                                                                              \n",
       "5D39700   Multiple_Gunshots  2014-01-01  00:00:02     5D    38.917    -77.012   \n",
       "5D39701   Multiple_Gunshots  2014-01-01  00:00:06     5D    38.917    -77.002   \n",
       "5D39702   Multiple_Gunshots  2014-01-01  00:00:07     5D    38.917    -76.987   \n",
       "7D119445  Multiple_Gunshots  2014-01-01  00:00:10     7D    38.823    -77.000   \n",
       "1D55993   Multiple_Gunshots  2014-01-01  00:00:10     1D    38.893    -76.993   \n",
       "\n",
       "                                                    Address  \n",
       "ID                                                           \n",
       "5D39700   4500 East Capitol St NE, Washington, DC 20019,...  \n",
       "5D39701   4500 East Capitol St NE, Washington, DC 20019,...  \n",
       "5D39702   4500 East Capitol St NE, Washington, DC 20019,...  \n",
       "7D119445  4500 East Capitol St NE, Washington, DC 20019,...  \n",
       "1D55993   4500 East Capitol St NE, Washington, DC 20019,...  "
      ]
     },
     "execution_count": 156,
     "metadata": {},
     "output_type": "execute_result"
    }
   ],
   "source": [
    "shots_psa.head()"
   ]
  },
  {
   "cell_type": "code",
   "execution_count": null,
   "metadata": {},
   "outputs": [],
   "source": []
  }
 ],
 "metadata": {
  "kernelspec": {
   "display_name": "Python [conda env:dsi]",
   "language": "python",
   "name": "conda-env-dsi-py"
  },
  "language_info": {
   "codemirror_mode": {
    "name": "ipython",
    "version": 3
   },
   "file_extension": ".py",
   "mimetype": "text/x-python",
   "name": "python",
   "nbconvert_exporter": "python",
   "pygments_lexer": "ipython3",
   "version": "3.6.5"
  }
 },
 "nbformat": 4,
 "nbformat_minor": 2
}
